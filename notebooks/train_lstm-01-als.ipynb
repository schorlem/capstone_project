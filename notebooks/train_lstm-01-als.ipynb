{
 "cells": [
  {
   "cell_type": "markdown",
   "metadata": {},
   "source": [
    "# <center> Train LSTM with word2vec embeddings </center>"
   ]
  },
  {
   "cell_type": "markdown",
   "metadata": {},
   "source": [
    "First I would like to mention these two excellent posts: \n",
    "\n",
    "https://www.kaggle.com/lystdo/lstm-with-word2vec-embeddings\n",
    "https://blog.keras.io/using-pre-trained-word-embeddings-in-a-keras-model.html\n",
    "\n",
    "My solution is in part based on these two guidelines.\n",
    "\n",
    "Okay now let's import all of the necessary modules:"
   ]
  },
  {
   "cell_type": "code",
   "execution_count": 1,
   "metadata": {},
   "outputs": [
    {
     "name": "stderr",
     "output_type": "stream",
     "text": [
      "Using TensorFlow backend.\n",
      "/home/andre/anaconda3/envs/capstone_project/lib/python2.7/site-packages/sklearn/cross_validation.py:44: DeprecationWarning: This module was deprecated in version 0.18 in favor of the model_selection module into which all the refactored classes and functions are moved. Also note that the interface of the new CV iterators are different from that of this module. This module will be removed in 0.20.\n",
      "  \"This module will be removed in 0.20.\", DeprecationWarning)\n"
     ]
    }
   ],
   "source": [
    "import os\n",
    "import gensim\n",
    "import numpy as np\n",
    "from IPython.display import display\n",
    "from keras.preprocessing.text import Tokenizer\n",
    "from keras.preprocessing.sequence import pad_sequences\n",
    "from unidecode import unidecode\n",
    "from keras.callbacks import EarlyStopping, ModelCheckpoint\n",
    "from keras.models import load_model\n",
    "from sklearn.metrics import log_loss, accuracy_score\n",
    "from capstone_project import utility\n",
    "from capstone_project.models import neural_nets\n",
    "\n",
    "%matplotlib inline"
   ]
  },
  {
   "cell_type": "markdown",
   "metadata": {},
   "source": [
    "Set important constants and load data:"
   ]
  },
  {
   "cell_type": "code",
   "execution_count": 2,
   "metadata": {
    "collapsed": true
   },
   "outputs": [],
   "source": [
    "MAX_SEQUENCE_LENGTH = 30 # Maximum length of input for lstm the (maximum number of tokens is 103) \n",
    "EMBEDDING_DIM = 300  # Length of the used word2vec/glove implementation\n",
    "USE_RAW_TEXT = True  # Use raw text as input instead of tokens\n",
    "USE_WORD2VEC = True  # Use word2vec embedding instead of glove embedding\n",
    "VALIDATION_SPLIT = 0.1  # Size of the second validation set that is used during the training of the lstm"
   ]
  },
  {
   "cell_type": "code",
   "execution_count": 3,
   "metadata": {
    "collapsed": true
   },
   "outputs": [],
   "source": [
    "file_directory = \"../output/data/\"\n",
    "prefix = \"tokenized_\"\n",
    "\n",
    "train_data = utility.load_pickle(file_directory, prefix+\"train_data.pkl\")\n",
    "val_data = utility.load_pickle(file_directory, prefix+\"val_data.pkl\")  # Validation data set used to compare different classification algorithms\n",
    "train_y = train_data[\"is_duplicate\"].values\n",
    "val_y = val_data[\"is_duplicate\"].values"
   ]
  },
  {
   "cell_type": "code",
   "execution_count": 4,
   "metadata": {},
   "outputs": [
    {
     "data": {
      "text/html": [
       "<div>\n",
       "<table border=\"1\" class=\"dataframe\">\n",
       "  <thead>\n",
       "    <tr style=\"text-align: right;\">\n",
       "      <th></th>\n",
       "      <th>id</th>\n",
       "      <th>qid1</th>\n",
       "      <th>qid2</th>\n",
       "      <th>question1</th>\n",
       "      <th>question2</th>\n",
       "      <th>is_duplicate</th>\n",
       "      <th>q1_tokens</th>\n",
       "      <th>q2_tokens</th>\n",
       "    </tr>\n",
       "  </thead>\n",
       "  <tbody>\n",
       "    <tr>\n",
       "      <th>355802</th>\n",
       "      <td>355802</td>\n",
       "      <td>696825</td>\n",
       "      <td>696826</td>\n",
       "      <td>Which are the best songs of Enrique Iglesias?</td>\n",
       "      <td>Which is the best song of Enrique iglesias?</td>\n",
       "      <td>1</td>\n",
       "      <td>[good, song, enrique, iglesias]</td>\n",
       "      <td>[good, song, enrique, iglesias]</td>\n",
       "    </tr>\n",
       "  </tbody>\n",
       "</table>\n",
       "</div>"
      ],
      "text/plain": [
       "            id    qid1    qid2                                      question1  \\\n",
       "355802  355802  696825  696826  Which are the best songs of Enrique Iglesias?   \n",
       "\n",
       "                                          question2  is_duplicate  \\\n",
       "355802  Which is the best song of Enrique iglesias?             1   \n",
       "\n",
       "                              q1_tokens                        q2_tokens  \n",
       "355802  [good, song, enrique, iglesias]  [good, song, enrique, iglesias]  "
      ]
     },
     "metadata": {},
     "output_type": "display_data"
    }
   ],
   "source": [
    "display(train_data.head(1))"
   ]
  },
  {
   "cell_type": "markdown",
   "metadata": {},
   "source": [
    "Prepare the tokenized question as input for keras:"
   ]
  },
  {
   "cell_type": "code",
   "execution_count": 5,
   "metadata": {},
   "outputs": [
    {
     "name": "stdout",
     "output_type": "stream",
     "text": [
      "Found 82267 unique tokens\n"
     ]
    }
   ],
   "source": [
    "# Decode again and join strings because keras tokenizer crashes when using unicode while spacy uses it\n",
    "if USE_RAW_TEXT:\n",
    "    q1 = train_data[\"question1\"].values\n",
    "    q2 = train_data[\"question2\"].values\n",
    "else:\n",
    "    q1 = train_data[\"q1_tokens\"].apply(lambda x: unidecode(u\" \".join(x))).values\n",
    "    q2 = train_data[\"q2_tokens\"].apply(lambda x: unidecode(u\" \".join(x))).values\n",
    "    \n",
    "all_questions = np.concatenate([q1, q2])\n",
    "\n",
    "tokenizer = Tokenizer()\n",
    "tokenizer.fit_on_texts(all_questions)\n",
    "\n",
    "word_index = tokenizer.word_index\n",
    "number_words = len(word_index)+1  # Needed for embedding layer\n",
    "print(\"Found {} unique tokens\".format(len(word_index)))\n",
    "\n",
    "q1_sequences = tokenizer.texts_to_sequences(q1)\n",
    "q2_sequences = tokenizer.texts_to_sequences(q2)\n",
    "\n",
    "q1_data = pad_sequences(q1_sequences, maxlen=MAX_SEQUENCE_LENGTH)\n",
    "q2_data = pad_sequences(q2_sequences, maxlen=MAX_SEQUENCE_LENGTH)"
   ]
  },
  {
   "cell_type": "markdown",
   "metadata": {},
   "source": [
    "Split second validation and training set for validation at every epoch. The dataset size is also doubled by switching the order of the questions. This is done in order to avoid symmetry issues."
   ]
  },
  {
   "cell_type": "code",
   "execution_count": 6,
   "metadata": {
    "collapsed": true
   },
   "outputs": [],
   "source": [
    "# Credit: https://www.kaggle.com/lystdo/lstm-with-word2vec-embeddings\n",
    "labels = train_y\n",
    "perm = np.random.permutation(len(q1_data))\n",
    "idx_train = perm[:int(len(q1_data)*(1-VALIDATION_SPLIT))]\n",
    "idx_val = perm[int(len(q1_data)*(1-VALIDATION_SPLIT)):]\n",
    "\n",
    "q12_train = np.concatenate((q1_data[idx_train], q2_data[idx_train]), axis=0)\n",
    "q21_train = np.concatenate((q2_data[idx_train], q1_data[idx_train]), axis=0)\n",
    "double_train_labels = np.concatenate((labels[idx_train], labels[idx_train]), axis=0)\n",
    "\n",
    "q12_val_epochs = np.concatenate((q1_data[idx_val], q2_data[idx_val]), axis=0)\n",
    "q21_val_epochs = np.concatenate((q2_data[idx_val], q1_data[idx_val]), axis=0)\n",
    "double_val_epochs_labels = np.concatenate((labels[idx_val], labels[idx_val]), axis=0)"
   ]
  },
  {
   "cell_type": "markdown",
   "metadata": {},
   "source": [
    "Prepare validation set:"
   ]
  },
  {
   "cell_type": "code",
   "execution_count": 7,
   "metadata": {
    "collapsed": true
   },
   "outputs": [],
   "source": [
    "#create correct embeddings for validation data\n",
    "if USE_RAW_TEXT:\n",
    "    q1_validation = val_data[\"question1\"].values\n",
    "    q2_validation = val_data[\"question2\"].values\n",
    "else:\n",
    "    q1_validation = val_data[\"q1_tokens\"].apply(lambda x: unidecode(u\" \".join(x))).values\n",
    "    q2_validation = val_data[\"q2_tokens\"].apply(lambda x: unidecode(u\" \".join(x))).values\n",
    "    \n",
    "q1_val_sequences = tokenizer.texts_to_sequences(q1_validation)\n",
    "q2_val_sequences = tokenizer.texts_to_sequences(q2_validation)\n",
    "\n",
    "q1_val_data = pad_sequences(q1_val_sequences, maxlen=MAX_SEQUENCE_LENGTH)\n",
    "q2_val_data = pad_sequences(q2_val_sequences, maxlen=MAX_SEQUENCE_LENGTH)\n",
    "val_labels = val_y"
   ]
  },
  {
   "cell_type": "markdown",
   "metadata": {},
   "source": [
    "Load the pretrained vectorization model and create the embedding matrix:"
   ]
  },
  {
   "cell_type": "code",
   "execution_count": 8,
   "metadata": {},
   "outputs": [
    {
     "name": "stdout",
     "output_type": "stream",
     "text": [
      "Null word embeddings: 38543\n"
     ]
    }
   ],
   "source": [
    "if USE_WORD2VEC:\n",
    "    word2vec_model = gensim.models.KeyedVectors.load_word2vec_format(\"../data/GoogleNews-vectors-negative300.bin.gz\",\n",
    "                                                                     binary=True)\n",
    "    \n",
    "    embedding_matrix = neural_nets.create_embedding_matrix(vec_model=word2vec_model, embedding_dim=EMBEDDING_DIM, \n",
    "                                                           word_index=word_index, number_words=number_words)\n",
    "else:\n",
    "    # Credit: https://blog.keras.io/using-pre-trained-word-embeddings-in-a-keras-model.html\n",
    "    embeddings_index = {}\n",
    "    f = open('../data/glove.42B.300d.txt')\n",
    "    \n",
    "    for line in f:\n",
    "        values = line.split()\n",
    "        word = values[0]\n",
    "        coefs = np.asarray(values[1:], dtype='float32')\n",
    "        embeddings_index[word] = coefs\n",
    "    f.close()\n",
    "\n",
    "    print('Found %s word vectors.' % len(embeddings_index))\n",
    "    \n",
    "    embedding_matrix = np.zeros((len(word_index) + 1, EMBEDDING_DIM))\n",
    "    for word, i in word_index.items():\n",
    "        embedding_vector = embeddings_index.get(word)\n",
    "        if embedding_vector is not None:\n",
    "            # words not found in embedding index will be all-zeros.\n",
    "            embedding_matrix[i] = embedding_vector"
   ]
  },
  {
   "cell_type": "markdown",
   "metadata": {},
   "source": [
    "Set the parameters of the lstm and create a keras model:"
   ]
  },
  {
   "cell_type": "code",
   "execution_count": 9,
   "metadata": {
    "scrolled": true
   },
   "outputs": [
    {
     "name": "stdout",
     "output_type": "stream",
     "text": [
      "____________________________________________________________________________________________________\n",
      "Layer (type)                     Output Shape          Param #     Connected to                     \n",
      "====================================================================================================\n",
      "input_1 (InputLayer)             (None, 30)            0                                            \n",
      "____________________________________________________________________________________________________\n",
      "input_2 (InputLayer)             (None, 30)            0                                            \n",
      "____________________________________________________________________________________________________\n",
      "embedding_1 (Embedding)          (None, 30, 300)       24680400    input_1[0][0]                    \n",
      "                                                                   input_2[0][0]                    \n",
      "____________________________________________________________________________________________________\n",
      "lstm_1 (LSTM)                    (None, 230)           488520      embedding_1[0][0]                \n",
      "                                                                   embedding_1[1][0]                \n",
      "____________________________________________________________________________________________________\n",
      "concatenate_1 (Concatenate)      (None, 460)           0           lstm_1[0][0]                     \n",
      "                                                                   lstm_1[1][0]                     \n",
      "____________________________________________________________________________________________________\n",
      "batch_normalization_1 (BatchNorm (None, 460)           1840        concatenate_1[0][0]              \n",
      "____________________________________________________________________________________________________\n",
      "dropout_1 (Dropout)              (None, 460)           0           batch_normalization_1[0][0]      \n",
      "____________________________________________________________________________________________________\n",
      "dense_1 (Dense)                  (None, 128)           59008       dropout_1[0][0]                  \n",
      "____________________________________________________________________________________________________\n",
      "batch_normalization_2 (BatchNorm (None, 128)           512         dense_1[0][0]                    \n",
      "____________________________________________________________________________________________________\n",
      "dropout_2 (Dropout)              (None, 128)           0           batch_normalization_2[0][0]      \n",
      "____________________________________________________________________________________________________\n",
      "dense_2 (Dense)                  (None, 1)             129         dropout_2[0][0]                  \n",
      "====================================================================================================\n",
      "Total params: 25,230,409\n",
      "Trainable params: 548,833\n",
      "Non-trainable params: 24,681,576\n",
      "____________________________________________________________________________________________________\n",
      "230_0.35_128_0.35\n"
     ]
    }
   ],
   "source": [
    "batch_size = 2048\n",
    "nn_parameters = {\"max_sequence_length\": MAX_SEQUENCE_LENGTH,\n",
    "                 \"num_lstm\": 230,\n",
    "                 \"dropout_lstm\": 0.35,\n",
    "                 \"num_dense\": 128,\n",
    "                 \"dropout_dense\": 0.35}\n",
    "\n",
    "stamp = \"{}_{:.2f}_{}_{:.2f}\".format(nn_parameters[\"num_lstm\"], \n",
    "                                    nn_parameters[\"dropout_lstm\"],\n",
    "                                    nn_parameters[\"num_dense\"],\n",
    "                                    nn_parameters[\"dropout_dense\"])\n",
    "\n",
    "model = neural_nets.create_lstm(embedding_matrix=embedding_matrix, \n",
    "                                embedding_dim=EMBEDDING_DIM, \n",
    "                                number_words=number_words, \n",
    "                                **nn_parameters)\n",
    "\n",
    "model.compile(loss='binary_crossentropy', optimizer='nadam', metrics=['acc'])\n",
    "model.summary()\n",
    "print stamp"
   ]
  },
  {
   "cell_type": "markdown",
   "metadata": {},
   "source": [
    "Train the data and check the performance on the second validation set every epoch. with early stopping:"
   ]
  },
  {
   "cell_type": "code",
   "execution_count": 10,
   "metadata": {},
   "outputs": [
    {
     "name": "stdout",
     "output_type": "stream",
     "text": [
      "Train on 524036 samples, validate on 58228 samples\n",
      "Epoch 1/200\n",
      "524036/524036 [==============================] - 196s - loss: 0.5857 - acc: 0.6939 - val_loss: 0.5829 - val_acc: 0.6551\n",
      "Epoch 2/200\n",
      "524036/524036 [==============================] - 193s - loss: 0.5178 - acc: 0.7386 - val_loss: 0.4893 - val_acc: 0.7649\n",
      "Epoch 3/200\n",
      "524036/524036 [==============================] - 193s - loss: 0.4856 - acc: 0.7591 - val_loss: 0.4535 - val_acc: 0.7816\n",
      "Epoch 4/200\n",
      "524036/524036 [==============================] - 193s - loss: 0.4630 - acc: 0.7737 - val_loss: 0.4339 - val_acc: 0.7928\n",
      "Epoch 5/200\n",
      "524036/524036 [==============================] - 193s - loss: 0.4462 - acc: 0.7836 - val_loss: 0.4202 - val_acc: 0.8000\n",
      "Epoch 6/200\n",
      "524036/524036 [==============================] - 193s - loss: 0.4332 - acc: 0.7911 - val_loss: 0.4125 - val_acc: 0.8031\n",
      "Epoch 7/200\n",
      "524036/524036 [==============================] - 193s - loss: 0.4229 - acc: 0.7972 - val_loss: 0.4090 - val_acc: 0.8043\n",
      "Epoch 8/200\n",
      "524036/524036 [==============================] - 193s - loss: 0.4141 - acc: 0.8022 - val_loss: 0.3963 - val_acc: 0.8135\n",
      "Epoch 9/200\n",
      "524036/524036 [==============================] - 193s - loss: 0.4050 - acc: 0.8081 - val_loss: 0.3952 - val_acc: 0.8119\n",
      "Epoch 10/200\n",
      "524036/524036 [==============================] - 193s - loss: 0.3984 - acc: 0.8118 - val_loss: 0.3876 - val_acc: 0.8199\n",
      "Epoch 11/200\n",
      "524036/524036 [==============================] - 193s - loss: 0.3918 - acc: 0.8157 - val_loss: 0.3890 - val_acc: 0.8171\n",
      "Epoch 12/200\n",
      "524036/524036 [==============================] - 193s - loss: 0.3867 - acc: 0.8188 - val_loss: 0.3816 - val_acc: 0.8231\n",
      "Epoch 13/200\n",
      "524036/524036 [==============================] - 193s - loss: 0.3818 - acc: 0.8210 - val_loss: 0.3812 - val_acc: 0.8228\n",
      "Epoch 14/200\n",
      "524036/524036 [==============================] - 193s - loss: 0.3773 - acc: 0.8236 - val_loss: 0.3849 - val_acc: 0.8214\n",
      "Epoch 15/200\n",
      "524036/524036 [==============================] - 193s - loss: 0.3725 - acc: 0.8267 - val_loss: 0.3794 - val_acc: 0.8235\n",
      "Epoch 16/200\n",
      "524036/524036 [==============================] - 193s - loss: 0.3690 - acc: 0.8281 - val_loss: 0.3830 - val_acc: 0.8209\n",
      "Epoch 17/200\n",
      "524036/524036 [==============================] - 193s - loss: 0.3645 - acc: 0.8311 - val_loss: 0.3727 - val_acc: 0.8271\n",
      "Epoch 18/200\n",
      "524036/524036 [==============================] - 193s - loss: 0.3613 - acc: 0.8322 - val_loss: 0.3746 - val_acc: 0.8270\n",
      "Epoch 19/200\n",
      "524036/524036 [==============================] - 193s - loss: 0.3580 - acc: 0.8346 - val_loss: 0.3733 - val_acc: 0.8270\n",
      "Epoch 20/200\n",
      "524036/524036 [==============================] - 193s - loss: 0.3543 - acc: 0.8361 - val_loss: 0.3733 - val_acc: 0.8275\n",
      "Epoch 21/200\n",
      "524036/524036 [==============================] - 193s - loss: 0.3522 - acc: 0.8379 - val_loss: 0.3699 - val_acc: 0.8297\n",
      "Epoch 22/200\n",
      "524036/524036 [==============================] - 193s - loss: 0.3493 - acc: 0.8393 - val_loss: 0.3754 - val_acc: 0.8262\n",
      "Epoch 23/200\n",
      "524036/524036 [==============================] - 193s - loss: 0.3475 - acc: 0.8407 - val_loss: 0.3764 - val_acc: 0.8265\n",
      "Epoch 24/200\n",
      "524036/524036 [==============================] - 193s - loss: 0.3447 - acc: 0.8414 - val_loss: 0.3697 - val_acc: 0.8297\n",
      "Epoch 25/200\n",
      "524036/524036 [==============================] - 193s - loss: 0.3422 - acc: 0.8433 - val_loss: 0.3724 - val_acc: 0.8288\n",
      "Epoch 26/200\n",
      "524036/524036 [==============================] - 193s - loss: 0.3400 - acc: 0.8445 - val_loss: 0.3736 - val_acc: 0.8286\n",
      "Epoch 27/200\n",
      "524036/524036 [==============================] - 193s - loss: 0.3380 - acc: 0.8462 - val_loss: 0.3721 - val_acc: 0.8292\n",
      "Epoch 28/200\n",
      "524036/524036 [==============================] - 194s - loss: 0.3364 - acc: 0.8468 - val_loss: 0.3671 - val_acc: 0.8327\n",
      "Epoch 29/200\n",
      "524036/524036 [==============================] - 193s - loss: 0.3343 - acc: 0.8478 - val_loss: 0.3747 - val_acc: 0.8283\n",
      "Epoch 30/200\n",
      "524036/524036 [==============================] - 193s - loss: 0.3316 - acc: 0.8494 - val_loss: 0.3703 - val_acc: 0.8311\n",
      "Epoch 31/200\n",
      "524036/524036 [==============================] - 193s - loss: 0.3308 - acc: 0.8495 - val_loss: 0.3711 - val_acc: 0.8297\n",
      "Epoch 32/200\n",
      "524036/524036 [==============================] - 193s - loss: 0.3295 - acc: 0.8498 - val_loss: 0.3694 - val_acc: 0.8324\n",
      "Epoch 33/200\n",
      "524036/524036 [==============================] - 193s - loss: 0.3275 - acc: 0.8516 - val_loss: 0.3740 - val_acc: 0.8310\n",
      "Epoch 34/200\n",
      "524036/524036 [==============================] - 193s - loss: 0.3254 - acc: 0.8526 - val_loss: 0.3684 - val_acc: 0.8327\n",
      "Epoch 35/200\n",
      "524036/524036 [==============================] - 193s - loss: 0.3250 - acc: 0.8529 - val_loss: 0.3662 - val_acc: 0.8336\n",
      "Epoch 36/200\n",
      "524036/524036 [==============================] - 193s - loss: 0.3241 - acc: 0.8533 - val_loss: 0.3702 - val_acc: 0.8316\n",
      "Epoch 37/200\n",
      "524036/524036 [==============================] - 193s - loss: 0.3214 - acc: 0.8547 - val_loss: 0.3679 - val_acc: 0.8351\n",
      "Epoch 38/200\n",
      "524036/524036 [==============================] - 193s - loss: 0.3219 - acc: 0.8547 - val_loss: 0.3683 - val_acc: 0.8324\n",
      "Epoch 39/200\n",
      "524036/524036 [==============================] - 193s - loss: 0.3192 - acc: 0.8565 - val_loss: 0.3697 - val_acc: 0.8316\n",
      "Epoch 40/200\n",
      "524036/524036 [==============================] - 193s - loss: 0.3189 - acc: 0.8563 - val_loss: 0.3728 - val_acc: 0.8314\n",
      "Epoch 41/200\n",
      "524036/524036 [==============================] - 193s - loss: 0.3171 - acc: 0.8570 - val_loss: 0.3687 - val_acc: 0.8332\n",
      "Epoch 42/200\n",
      "524036/524036 [==============================] - 193s - loss: 0.3163 - acc: 0.8577 - val_loss: 0.3783 - val_acc: 0.8287\n",
      "Epoch 43/200\n",
      "524036/524036 [==============================] - 193s - loss: 0.3152 - acc: 0.8585 - val_loss: 0.3693 - val_acc: 0.8354\n",
      "Epoch 44/200\n",
      "524036/524036 [==============================] - 193s - loss: 0.3146 - acc: 0.8586 - val_loss: 0.3691 - val_acc: 0.8328\n",
      "Epoch 45/200\n",
      "524036/524036 [==============================] - 193s - loss: 0.3136 - acc: 0.8595 - val_loss: 0.3704 - val_acc: 0.8345\n",
      "Epoch 46/200\n",
      "524036/524036 [==============================] - 193s - loss: 0.3132 - acc: 0.8603 - val_loss: 0.3697 - val_acc: 0.8341\n"
     ]
    }
   ],
   "source": [
    "#Credit: https://www.kaggle.com/lystdo/lstm-with-word2vec-embeddings\n",
    "early_stopping = EarlyStopping(monitor='val_loss', patience=10)\n",
    "best_model_path = \"../output/models/lstm_val_epochs_\" + stamp + '.h5'\n",
    "model_checkpoint = ModelCheckpoint(best_model_path, save_best_only=True, save_weights_only=True)\n",
    "\n",
    "hist = model.fit([q12_train, q21_train], double_train_labels,\n",
    "                 validation_data=([q12_val_epochs, q21_val_epochs], double_val_epochs_labels), \n",
    "                 epochs=200, batch_size=batch_size, shuffle=True,\n",
    "                 callbacks=[early_stopping, model_checkpoint])"
   ]
  },
  {
   "cell_type": "markdown",
   "metadata": {},
   "source": [
    "Display training histoty of LSTM:"
   ]
  },
  {
   "cell_type": "code",
   "execution_count": 72,
   "metadata": {},
   "outputs": [
    {
     "name": "stdout",
     "output_type": "stream",
     "text": [
      "['acc', 'loss', 'val_acc', 'val_loss']\n"
     ]
    },
    {
     "data": {
      "image/png": "[encoded data removed]",
      "text/plain": [
       "<matplotlib.figure.Figure at 0x7f1afcde79d0>"
      ]
     },
     "metadata": {},
     "output_type": "display_data"
    },
    {
     "data": {
      "image/png": "[encoded data removed]",
      "text/plain": [
       "<matplotlib.figure.Figure at 0x7f1afcce0450>"
      ]
     },
     "metadata": {},
     "output_type": "display_data"
    }
   ],
   "source": [
    "# Credit: http://machinelearningmastery.com/display-deep-learning-model-training-history-in-keras/\n",
    "import matplotlib.pyplot as plt\n",
    "plt.style.use(\"seaborn-white\")\n",
    "\n",
    "# list all data in history\n",
    "print(hist.history.keys())\n",
    "\n",
    "# summarize history for accuracy\n",
    "plt.plot(hist.history['acc'])\n",
    "plt.plot(hist.history['val_acc'])\n",
    "plt.title('LSTM Accuracy')\n",
    "plt.ylabel('Accuracy')\n",
    "plt.xlabel('Epoch')\n",
    "plt.legend(['Training', 'Validation'], loc='upper left')\n",
    "plt.savefig(\"../output/figures/lstm_hist_acc_plot.png\")\n",
    "plt.show()\n",
    "\n",
    "# summarize history for loss\n",
    "plt.plot(hist.history['loss'])\n",
    "plt.plot(hist.history['val_loss'])\n",
    "plt.title('LSTM Loss')\n",
    "plt.ylabel('Loss')\n",
    "plt.xlabel('Epoch')\n",
    "plt.legend(['Training', 'Validation'], loc='upper right')\n",
    "plt.savefig(\"../output/figures/lstm_hist_loss_plot.png\")\n",
    "plt.show()"
   ]
  },
  {
   "cell_type": "markdown",
   "metadata": {},
   "source": [
    "Load the trained model and calculate logloss and accuarcy on the validation set:"
   ]
  },
  {
   "cell_type": "code",
   "execution_count": 61,
   "metadata": {},
   "outputs": [
    {
     "name": "stdout",
     "output_type": "stream",
     "text": [
      "72783/72783 [==============================] - 9s     \n",
      "72783/72783 [==============================] - 9s     \n",
      "Validation scores of Lstm model\n",
      " LogLoss: 0.3720\n",
      " Accuracy: 0.83 \n"
     ]
    }
   ],
   "source": [
    "model.load_weights(best_model_path)\n",
    "predictions = model.predict([q1_val_data, q2_val_data], batch_size=batch_size, verbose=1)\n",
    "predictions += model.predict([q2_val_data, q1_val_data], batch_size=batch_size, verbose=1)\n",
    "predictions /= 2\n",
    "\n",
    "# Quick fix: Log loss returns nan if any of the predictions are very confident(==1.)\n",
    "predictions[predictions == 1] = 0.9999999\n",
    "\n",
    "loss = log_loss(val_labels, predictions)\n",
    "acc = accuracy_score(val_labels, np.rint(predictions))\n",
    "\n",
    "print \"Validation scores of Lstm model\\n LogLoss: {:.4f}\\n Accuracy: {:.2f} \".format(loss, acc)"
   ]
  },
  {
   "cell_type": "markdown",
   "metadata": {},
   "source": [
    "Create roc plot and save it:"
   ]
  },
  {
   "cell_type": "code",
   "execution_count": 62,
   "metadata": {},
   "outputs": [
    {
     "data": {
      "image/png": "[encoded data removed]",
      "text/plain": [
       "<matplotlib.figure.Figure at 0x7f1afedfd390>"
      ]
     },
     "metadata": {},
     "output_type": "display_data"
    }
   ],
   "source": [
    "plt = utility.create_roc_plot(val_labels, predictions, \"lstm\")\n",
    "plt.savefig(\"../output/figures/lstm_roc_plot.png\")\n",
    "plt.show()"
   ]
  }
 ],
 "metadata": {
  "kernelspec": {
   "display_name": "Python 2",
   "language": "python",
   "name": "python2"
  },
  "language_info": {
   "codemirror_mode": {
    "name": "ipython",
    "version": 2
   },
   "file_extension": ".py",
   "mimetype": "text/x-python",
   "name": "python",
   "nbconvert_exporter": "python",
   "pygments_lexer": "ipython2",
   "version": "2.7.13"
  }
 },
 "nbformat": 4,
 "nbformat_minor": 2
}

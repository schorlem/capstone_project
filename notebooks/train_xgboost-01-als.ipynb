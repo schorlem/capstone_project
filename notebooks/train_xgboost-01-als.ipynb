{
 "cells": [
  {
   "cell_type": "markdown",
   "metadata": {},
   "source": [
    "# <center> Train XGBoost Classifier </center>"
   ]
  },
  {
   "cell_type": "markdown",
   "metadata": {},
   "source": [
    "Now let's see if we can improve on our simple logistic regression model by using boosted decision trees. I will use the following blog post as a baseline for the hyperparameter tuning of my model: https://www.analyticsvidhya.com/blog/2016/03/complete-guide-parameter-tuning-xgboost-with-codes-python/. The post mentioned above uses grid search for tuning while I have decided to use randomized search.\n",
    "\n",
    "Loasing xgboost will throw a warning because the version I have installed seems to reference to a deprecated scikit module."
   ]
  },
  {
   "cell_type": "code",
   "execution_count": 1,
   "metadata": {},
   "outputs": [
    {
     "name": "stderr",
     "output_type": "stream",
     "text": [
      "/home/andre/software/anaconda3/envs/capstone_project/lib/python2.7/site-packages/sklearn/cross_validation.py:44: DeprecationWarning: This module was deprecated in version 0.18 in favor of the model_selection module into which all the refactored classes and functions are moved. Also note that the interface of the new CV iterators are different from that of this module. This module will be removed in 0.20.\n",
      "  \"This module will be removed in 0.20.\", DeprecationWarning)\n"
     ]
    }
   ],
   "source": [
    "import xgboost as xgb\n",
    "import pandas as pd\n",
    "import numpy as np\n",
    "from time import time\n",
    "from scipy.stats import randint, uniform\n",
    "from sklearn.model_selection import RandomizedSearchCV\n",
    "from sklearn.metrics import log_loss, accuracy_score\n",
    "from capstone_project import utility\n",
    "\n",
    "%matplotlib inline"
   ]
  },
  {
   "cell_type": "markdown",
   "metadata": {},
   "source": [
    "Load the data:"
   ]
  },
  {
   "cell_type": "code",
   "execution_count": 2,
   "metadata": {
    "collapsed": true
   },
   "outputs": [],
   "source": [
    "file_directory = \"../output/data/\"\n",
    "\n",
    "train_data = utility.load_pickle(file_directory, \"train_features.pkl\")\n",
    "val_data = utility.load_pickle(file_directory, \"val_features.pkl\")\n",
    "train_labels = utility.load_pickle(file_directory, \"train_labels.pkl\")\n",
    "val_labels = utility.load_pickle(file_directory, \"val_labels.pkl\")"
   ]
  },
  {
   "cell_type": "markdown",
   "metadata": {},
   "source": [
    "Define inital parameters for XGBoost Classifier:"
   ]
  },
  {
   "cell_type": "code",
   "execution_count": 3,
   "metadata": {
    "collapsed": true
   },
   "outputs": [],
   "source": [
    "learning_rate = 0.2\n",
    "n_estimators = 1000\n",
    "max_depth = 10\n",
    "min_child_weight = 1\n",
    "gamma = 0\n",
    "subsample = 0.8\n",
    "colsample_bytree = 0.8\n",
    "objective = \"binary:logistic\"\n",
    "nthread = 4\n",
    "scale_pos_weight = 1\n",
    "reg_alpha=0\n",
    "seed = 3453"
   ]
  },
  {
   "cell_type": "markdown",
   "metadata": {},
   "source": [
    "Fit estimator with initial parameters to find best number of estimators for a high learning rate:"
   ]
  },
  {
   "cell_type": "code",
   "execution_count": 4,
   "metadata": {},
   "outputs": [
    {
     "name": "stdout",
     "output_type": "stream",
     "text": [
      "\n",
      "Best number of iterations: 388\n",
      "\n",
      "     test-logloss-mean  test-logloss-std  train-logloss-mean  \\\n",
      "378           0.418590          0.001890            0.209098   \n",
      "379           0.418586          0.001894            0.208871   \n",
      "380           0.418607          0.001849            0.208545   \n",
      "381           0.418554          0.001861            0.208121   \n",
      "382           0.418552          0.001850            0.207838   \n",
      "383           0.418556          0.001836            0.207480   \n",
      "384           0.418529          0.001809            0.207185   \n",
      "385           0.418521          0.001817            0.206768   \n",
      "386           0.418535          0.001836            0.206410   \n",
      "387           0.418508          0.001847            0.206093   \n",
      "\n",
      "     train-logloss-std  \n",
      "378           0.000665  \n",
      "379           0.000689  \n",
      "380           0.000729  \n",
      "381           0.000834  \n",
      "382           0.000858  \n",
      "383           0.000914  \n",
      "384           0.000907  \n",
      "385           0.000905  \n",
      "386           0.000834  \n",
      "387           0.000982  \n",
      "\n",
      "Model Report on full training set\n",
      "Accuracy : 0.9459\n",
      "Logloss (Train): 0.226668688957\n"
     ]
    },
    {
     "data": {
      "image/png": "[encoded data removed]",
      "text/plain": [
       "<matplotlib.figure.Figure at 0x7f0e1700f110>"
      ]
     },
     "metadata": {},
     "output_type": "display_data"
    }
   ],
   "source": [
    "clf = xgb.XGBClassifier(learning_rate=learning_rate, n_estimators=n_estimators, max_depth=max_depth,\n",
    "                         min_child_weight=min_child_weight, gamma=gamma, subsample=subsample,\n",
    "                         colsample_bytree=colsample_bytree, objective=objective, nthread=nthread,\n",
    "                         scale_pos_weight=scale_pos_weight, reg_alpha=reg_alpha, seed=seed)\n",
    "\n",
    "plt = utility.xgb_fit_model(clf, train_data, train_labels)\n",
    "plt.show()"
   ]
  },
  {
   "cell_type": "code",
   "execution_count": 5,
   "metadata": {
    "collapsed": true
   },
   "outputs": [],
   "source": [
    "n_estimators = 388"
   ]
  },
  {
   "cell_type": "markdown",
   "metadata": {},
   "source": [
    "Now we'll use grid search to tune the maximum depth and minimum child weight. These parameters are tuned first because they should have the largest impact on  model performance."
   ]
  },
  {
   "cell_type": "code",
   "execution_count": 6,
   "metadata": {},
   "outputs": [
    {
     "name": "stdout",
     "output_type": "stream",
     "text": [
      "RandomizedSearchCV(cv=5, error_score='raise',\n",
      "          estimator=XGBClassifier(base_score=0.5, colsample_bylevel=1, colsample_bytree=0.8,\n",
      "       gamma=0, learning_rate=0.2, max_delta_step=0, max_depth=10,\n",
      "       min_child_weight=1, missing=None, n_estimators=388, nthread=4,\n",
      "       objective='binary:logistic', reg_alpha=0, reg_lambda=1,\n",
      "       scale_pos_weight=1, seed=3453, silent=True, subsample=0.8),\n",
      "          fit_params={}, iid=False, n_iter=10, n_jobs=2,\n",
      "          param_distributions={'max_depth': <scipy.stats._distn_infrastructure.rv_frozen object at 0x7f0e1700f250>, 'min_child_weight': <scipy.stats._distn_infrastructure.rv_frozen object at 0x7f0e1700fa90>},\n",
      "          pre_dispatch='2*n_jobs', random_state=329, refit=True,\n",
      "          return_train_score=True, scoring='neg_log_loss', verbose=0)\n",
      "\n",
      "RandomizedSearchCV took 63.93 minutes for 10 candidates parameter settings.\n",
      "Model with rank: 1\n",
      "Mean validation score: -0.418 (std: 0.002)\n",
      "Parameters: {'max_depth': 10, 'min_child_weight': 1}\n",
      "\n",
      "Model with rank: 2\n",
      "Mean validation score: -0.419 (std: 0.001)\n",
      "Parameters: {'max_depth': 10, 'min_child_weight': 4}\n",
      "\n",
      "Model with rank: 3\n",
      "Mean validation score: -0.419 (std: 0.001)\n",
      "Parameters: {'max_depth': 9, 'min_child_weight': 4}\n",
      "\n"
     ]
    }
   ],
   "source": [
    "param_dist = {\"max_depth\": randint(6,16), #randint takes min and max values as parameters\n",
    "              \"min_child_weight\": randint(1,6)}\n",
    "\n",
    "n_iter_search = 10  # Number of searches in Randomized search\n",
    "\n",
    "random_search = RandomizedSearchCV(estimator = xgb.XGBClassifier(learning_rate=learning_rate, n_estimators=n_estimators, \n",
    "                                                               max_depth=max_depth, min_child_weight=min_child_weight, \n",
    "                                                               gamma=gamma, subsample=subsample, \n",
    "                                                               colsample_bytree=colsample_bytree, objective=objective, \n",
    "                                                               nthread=nthread, scale_pos_weight=scale_pos_weight, \n",
    "                                                                reg_alpha=reg_alpha, seed=seed), \n",
    "                                 param_distributions = param_dist, n_iter=n_iter_search, \n",
    "                                 scoring='neg_log_loss', n_jobs=2, iid=False, cv=5, random_state=329)\n",
    "\n",
    "print random_search\n",
    "start = time()\n",
    "random_search.fit(train_data, train_labels)\n",
    "print \"\\nRandomizedSearchCV took {:.2f} minutes for {} candidates parameter settings.\".format((time() - start)/60, n_iter_search)\n",
    "utility.report(random_search.cv_results_)  "
   ]
  },
  {
   "cell_type": "code",
   "execution_count": 7,
   "metadata": {
    "collapsed": true
   },
   "outputs": [],
   "source": [
    "# Best model score 0.418\n",
    "max_depth = 10\n",
    "min_child_weight = 1"
   ]
  },
  {
   "cell_type": "markdown",
   "metadata": {},
   "source": [
    "Next we'll tune the gamme value:"
   ]
  },
  {
   "cell_type": "code",
   "execution_count": 8,
   "metadata": {},
   "outputs": [
    {
     "name": "stdout",
     "output_type": "stream",
     "text": [
      "RandomizedSearchCV(cv=5, error_score='raise',\n",
      "          estimator=XGBClassifier(base_score=0.5, colsample_bylevel=1, colsample_bytree=0.8,\n",
      "       gamma=0, learning_rate=0.2, max_delta_step=0, max_depth=10,\n",
      "       min_child_weight=1, missing=None, n_estimators=388, nthread=4,\n",
      "       objective='binary:logistic', reg_alpha=0, reg_lambda=1,\n",
      "       scale_pos_weight=1, seed=3453, silent=True, subsample=0.8),\n",
      "          fit_params={}, iid=False, n_iter=5, n_jobs=2,\n",
      "          param_distributions={'gamma': <scipy.stats._distn_infrastructure.rv_frozen object at 0x7f0e106da7d0>},\n",
      "          pre_dispatch='2*n_jobs', random_state=329, refit=True,\n",
      "          return_train_score=True, scoring='neg_log_loss', verbose=0)\n",
      "\n",
      "RandomizedSearchCV took 28.42 minutes for 5 candidates parameter settings.\n",
      "Model with rank: 1\n",
      "Mean validation score: -0.418 (std: 0.001)\n",
      "Parameters: {'gamma': 0.37496144849819074}\n",
      "\n",
      "Model with rank: 2\n",
      "Mean validation score: -0.418 (std: 0.002)\n",
      "Parameters: {'gamma': 0.19548480844969679}\n",
      "\n",
      "Model with rank: 3\n",
      "Mean validation score: -0.419 (std: 0.001)\n",
      "Parameters: {'gamma': 0.2869118309443125}\n",
      "\n"
     ]
    }
   ],
   "source": [
    "param_dist = {\"gamma\": uniform(0, 0.5)}\n",
    "\n",
    "n_iter_search = 5  # Number of searches in Randomized search\n",
    "\n",
    "\n",
    "random_search = RandomizedSearchCV(estimator = xgb.XGBClassifier(learning_rate=learning_rate, n_estimators=n_estimators, \n",
    "                                                               max_depth=max_depth, min_child_weight=min_child_weight, \n",
    "                                                               gamma=gamma, subsample=subsample, \n",
    "                                                               colsample_bytree=colsample_bytree, objective=objective, \n",
    "                                                               nthread=nthread, scale_pos_weight=scale_pos_weight, \n",
    "                                                                reg_alpha=reg_alpha, seed=seed), \n",
    "                                 param_distributions = param_dist, n_iter=n_iter_search, \n",
    "                                 scoring='neg_log_loss', n_jobs=2, iid=False, cv=5, random_state=329)\n",
    "\n",
    "print random_search\n",
    "start = time()\n",
    "random_search.fit(train_data, train_labels)\n",
    "print \"\\nRandomizedSearchCV took {:.2f} minutes for {} candidates parameter settings.\".format((time() - start)/60, n_iter_search)\n",
    "utility.report(random_search.cv_results_)  \n"
   ]
  },
  {
   "cell_type": "code",
   "execution_count": 13,
   "metadata": {
    "collapsed": true
   },
   "outputs": [],
   "source": [
    "# val score 0.418\n",
    "gamma = 0.37"
   ]
  },
  {
   "cell_type": "markdown",
   "metadata": {},
   "source": [
    "At this point we'll change the subsample and subsample_bytree parameters:"
   ]
  },
  {
   "cell_type": "code",
   "execution_count": 14,
   "metadata": {},
   "outputs": [
    {
     "name": "stdout",
     "output_type": "stream",
     "text": [
      "RandomizedSearchCV(cv=5, error_score='raise',\n",
      "          estimator=XGBClassifier(base_score=0.5, colsample_bylevel=1, colsample_bytree=0.722,\n",
      "       gamma=0.37, learning_rate=0.2, max_delta_step=0, max_depth=10,\n",
      "       min_child_weight=1, missing=None, n_estimators=388, nthread=4,\n",
      "       objective='binary:logistic', reg_alpha=0, reg_lambda=1,\n",
      "       scale_pos_weight=1, seed=3453, silent=True, subsample=0.854),\n",
      "          fit_params={}, iid=False, n_iter=8, n_jobs=2,\n",
      "          param_distributions={'subsample': <scipy.stats._distn_infrastructure.rv_frozen object at 0x7f0e106cfb10>, 'colsample_bytree': <scipy.stats._distn_infrastructure.rv_frozen object at 0x7f0e106cfb50>},\n",
      "          pre_dispatch='2*n_jobs', random_state=329, refit=True,\n",
      "          return_train_score=True, scoring='neg_log_loss', verbose=0)\n",
      "\n",
      "RandomizedSearchCV took 42.91 minutes for 8 candidates parameter settings.\n",
      "Model with rank: 1\n",
      "Mean validation score: -0.416 (std: 0.001)\n",
      "Parameters: {'subsample': 0.85397536224441539, 'colsample_bytree': 0.72183930340160107}\n",
      "\n",
      "Model with rank: 2\n",
      "Mean validation score: -0.417 (std: 0.001)\n",
      "Parameters: {'subsample': 0.84346348400317406, 'colsample_bytree': 0.52825253851968057}\n",
      "\n",
      "Model with rank: 3\n",
      "Mean validation score: -0.424 (std: 0.002)\n",
      "Parameters: {'subsample': 0.68607089719046477, 'colsample_bytree': 0.79996915879855268}\n",
      "\n"
     ]
    }
   ],
   "source": [
    "param_dist = {\"subsample\": uniform (0.5, 0.4),  # Uniform takes minimum value and range as parameters\n",
    "              \"colsample_bytree\": uniform (0.5, 0.4)}\n",
    "\n",
    "n_iter_search = 8  # Number of searches in Randomized search\n",
    "\n",
    "\n",
    "random_search = RandomizedSearchCV(estimator = xgb.XGBClassifier(learning_rate=learning_rate, n_estimators=n_estimators, \n",
    "                                                               max_depth=max_depth, min_child_weight=min_child_weight, \n",
    "                                                               gamma=gamma, subsample=subsample, \n",
    "                                                               colsample_bytree=colsample_bytree, objective=objective, \n",
    "                                                               nthread=nthread, scale_pos_weight=scale_pos_weight, \n",
    "                                                                reg_alpha=reg_alpha, seed=seed), \n",
    "                                 param_distributions = param_dist, n_iter=n_iter_search, \n",
    "                                 scoring='neg_log_loss', n_jobs=2, iid=False, cv=5, random_state=329)\n",
    "\n",
    "print random_search\n",
    "start = time()\n",
    "random_search.fit(train_data, train_labels)\n",
    "print \"\\nRandomizedSearchCV took {:.2f} minutes for {} candidates parameter settings.\".format((time() - start)/60, n_iter_search)\n",
    "utility.report(random_search.cv_results_)  \n"
   ]
  },
  {
   "cell_type": "code",
   "execution_count": 15,
   "metadata": {
    "collapsed": true
   },
   "outputs": [],
   "source": [
    "# loss is 0.416\n",
    "subsample = 0.854 \n",
    "colsample_bytree = 0.722"
   ]
  },
  {
   "cell_type": "markdown",
   "metadata": {},
   "source": [
    "In the next step we are going to tune the regularization parameter:"
   ]
  },
  {
   "cell_type": "code",
   "execution_count": 16,
   "metadata": {},
   "outputs": [
    {
     "name": "stdout",
     "output_type": "stream",
     "text": [
      "RandomizedSearchCV(cv=5, error_score='raise',\n",
      "          estimator=XGBClassifier(base_score=0.5, colsample_bylevel=1, colsample_bytree=0.722,\n",
      "       gamma=0.37, learning_rate=0.2, max_delta_step=0, max_depth=10,\n",
      "       min_child_weight=1, missing=None, n_estimators=388, nthread=4,\n",
      "       objective='binary:logistic', reg_alpha=0, reg_lambda=1,\n",
      "       scale_pos_weight=1, seed=3453, silent=True, subsample=0.854),\n",
      "          fit_params={}, iid=False, n_iter=10, n_jobs=2,\n",
      "          param_distributions={'reg_alpha': <scipy.stats._distn_infrastructure.rv_frozen object at 0x7f0e106cf510>},\n",
      "          pre_dispatch='2*n_jobs', random_state=329, refit=True,\n",
      "          return_train_score=True, scoring='neg_log_loss', verbose=0)\n",
      "\n",
      "RandomizedSearchCV took 52.33 minutes for 10 candidates parameter settings.\n",
      "Model with rank: 1\n",
      "Mean validation score: -0.415 (std: 0.001)\n",
      "Parameters: {'reg_alpha': 1.5291099932912744}\n",
      "\n",
      "Model with rank: 2\n",
      "Mean validation score: -0.416 (std: 0.002)\n",
      "Parameters: {'reg_alpha': 1.9548480844969678}\n",
      "\n",
      "Model with rank: 3\n",
      "Mean validation score: -0.416 (std: 0.002)\n",
      "Parameters: {'reg_alpha': 0.35315673149600657}\n",
      "\n"
     ]
    }
   ],
   "source": [
    "param_dist = { 'reg_alpha': uniform(0,5)} # Uniform takes minimum value and range as parameters\n",
    "n_iter_search = 10  # Number of searches in Randomized search\n",
    "\n",
    "random_search = RandomizedSearchCV(estimator = xgb.XGBClassifier(learning_rate=learning_rate, n_estimators=n_estimators, \n",
    "                                                               max_depth=max_depth, min_child_weight=min_child_weight, \n",
    "                                                               gamma=gamma, subsample=subsample, \n",
    "                                                               colsample_bytree=colsample_bytree, objective=objective, \n",
    "                                                               nthread=nthread, scale_pos_weight=scale_pos_weight, \n",
    "                                                                reg_alpha=reg_alpha, seed=seed), \n",
    "                                 param_distributions = param_dist, n_iter=n_iter_search, \n",
    "                                 scoring='neg_log_loss', n_jobs=2, iid=False, cv=5, random_state=329)\n",
    "\n",
    "print random_search\n",
    "start = time()\n",
    "random_search.fit(train_data, train_labels)\n",
    "print \"\\nRandomizedSearchCV took {:.2f} minutes for {} candidates parameter settings.\".format((time() - start)/60, n_iter_search)\n",
    "utility.report(random_search.cv_results_)  \n"
   ]
  },
  {
   "cell_type": "markdown",
   "metadata": {},
   "source": [
    "Now we can set the new regularization parameter. This was the lest parameter that we had to tune. Now it is time to decrease the learning rate, increase the number of estimators and fit the tuned model on the whole dataset again. The function xgb_fit_model uses cross fold validation and early stopping to find the best number of estimators and then fits the model again using the found number of estimators. "
   ]
  },
  {
   "cell_type": "code",
   "execution_count": 17,
   "metadata": {
    "collapsed": true
   },
   "outputs": [],
   "source": [
    "#best model 0.415\n",
    "reg_alpha = 1.529\n",
    "learning_rate = 0.01\n",
    "n_estimators = 50000"
   ]
  },
  {
   "cell_type": "code",
   "execution_count": 18,
   "metadata": {},
   "outputs": [
    {
     "name": "stdout",
     "output_type": "stream",
     "text": [
      "XGBClassifier(base_score=0.5, colsample_bylevel=1, colsample_bytree=0.722,\n",
      "       gamma=0.37, learning_rate=0.01, max_delta_step=0, max_depth=10,\n",
      "       min_child_weight=1, missing=None, n_estimators=50000, nthread=4,\n",
      "       objective='binary:logistic', reg_alpha=1.529, reg_lambda=1,\n",
      "       scale_pos_weight=1, seed=3453, silent=True, subsample=0.854)\n",
      "\n",
      "Best number of iterations: 10598\n",
      "\n",
      "       test-logloss-mean  test-logloss-std  train-logloss-mean  \\\n",
      "10588           0.397972          0.001584            0.172079   \n",
      "10589           0.397971          0.001583            0.172068   \n",
      "10590           0.397971          0.001585            0.172058   \n",
      "10591           0.397971          0.001584            0.172048   \n",
      "10592           0.397971          0.001584            0.172034   \n",
      "10593           0.397971          0.001585            0.172023   \n",
      "10594           0.397969          0.001584            0.172009   \n",
      "10595           0.397969          0.001585            0.171998   \n",
      "10596           0.397968          0.001586            0.171989   \n",
      "10597           0.397967          0.001585            0.171976   \n",
      "\n",
      "       train-logloss-std  \n",
      "10588           0.000697  \n",
      "10589           0.000697  \n",
      "10590           0.000696  \n",
      "10591           0.000697  \n",
      "10592           0.000696  \n",
      "10593           0.000695  \n",
      "10594           0.000696  \n",
      "10595           0.000698  \n",
      "10596           0.000699  \n",
      "10597           0.000700  \n",
      "\n",
      "Model Report on full training set\n",
      "Accuracy : 0.9802\n",
      "Logloss (Train): 0.193244491294\n",
      "\n",
      "XGB fitting took 212.26 minutes.\n"
     ]
    },
    {
     "data": {
      "image/png": "[encoded data removed]",
      "text/plain": [
       "<matplotlib.figure.Figure at 0x7f0e106e4650>"
      ]
     },
     "metadata": {},
     "output_type": "display_data"
    }
   ],
   "source": [
    "clf = xgb.XGBClassifier(learning_rate=learning_rate, n_estimators=n_estimators, max_depth=max_depth,\n",
    "                         min_child_weight=min_child_weight, gamma=gamma, subsample=subsample,\n",
    "                         colsample_bytree=colsample_bytree, objective=objective, nthread=nthread,\n",
    "                         scale_pos_weight=scale_pos_weight, reg_alpha=reg_alpha, seed=seed)\n",
    "\n",
    "print clf\n",
    "start = time()\n",
    "utility.xgb_fit_model(clf, train_data, train_labels)\n",
    "print \"\\nXGB fitting took {:.2f} minutes.\".format((time() - start)/60)\n"
   ]
  },
  {
   "cell_type": "code",
   "execution_count": 19,
   "metadata": {
    "collapsed": true
   },
   "outputs": [],
   "source": [
    "model_directory = \"../output/models/\"\n",
    "prefix = \"for_validation_\"\n",
    "\n",
    "utility.save_pickle(clf, model_directory, prefix+\"xgboost.pkl\") "
   ]
  },
  {
   "cell_type": "code",
   "execution_count": 20,
   "metadata": {
    "collapsed": true
   },
   "outputs": [],
   "source": [
    "model_directory = \"../output/models/\"\n",
    "clf = utility.load_pickle(model_directory, \"for_validation_xgboost.pkl\")\n",
    "\n",
    "predictions= clf.predict_proba(val_data)[:, 1] "
   ]
  },
  {
   "cell_type": "code",
   "execution_count": 21,
   "metadata": {},
   "outputs": [
    {
     "name": "stdout",
     "output_type": "stream",
     "text": [
      "Validation scores for the xgboost classifier\n",
      " LogLoss: 0.3903\n",
      " Accuracy: 0.79 \n"
     ]
    }
   ],
   "source": [
    "loss = log_loss(val_labels, predictions)\n",
    "acc = accuracy_score(val_labels, np.rint(predictions))\n",
    "\n",
    "print \"Validation scores for the xgboost classifier\\n LogLoss: {:.4f}\\n Accuracy: {:.2f} \".format(loss, acc)"
   ]
  },
  {
   "cell_type": "code",
   "execution_count": 22,
   "metadata": {},
   "outputs": [
    {
     "data": {
      "image/png": "[encoded data removed]",
      "text/plain": [
       "<matplotlib.figure.Figure at 0x7f0e1062c890>"
      ]
     },
     "metadata": {},
     "output_type": "display_data"
    }
   ],
   "source": [
    "plt = utility.create_roc_plot(val_labels, predictions, \"xgboost\")\n",
    "plt.savefig(\"../output/figures/xgboost_roc_plot.png\")\n",
    "plt.show()"
   ]
  }
 ],
 "metadata": {
  "kernelspec": {
   "display_name": "Python 2",
   "language": "python",
   "name": "python2"
  },
  "language_info": {
   "codemirror_mode": {
    "name": "ipython",
    "version": 2
   },
   "file_extension": ".py",
   "mimetype": "text/x-python",
   "name": "python",
   "nbconvert_exporter": "python",
   "pygments_lexer": "ipython2",
   "version": "2.7.13"
  }
 },
 "nbformat": 4,
 "nbformat_minor": 2
}

{
 "cells": [
  {
   "cell_type": "markdown",
   "metadata": {},
   "source": [
    "# <center> Train XGBoost classifier </center>"
   ]
  },
  {
   "cell_type": "code",
   "execution_count": 24,
   "metadata": {},
   "outputs": [],
   "source": [
    "import gensim\n",
    "import xgboost as xgb\n",
    "import pandas as pd\n",
    "import numpy as np\n",
    "import matplotlib.pyplot as plt\n",
    "from time import time\n",
    "from scipy.stats import randint, uniform\n",
    "from sklearn import cross_validation, metrics\n",
    "from sklearn.model_selection import RandomizedSearchCV\n",
    "from capstone_project import preprocessor as pre\n",
    "\n",
    "%matplotlib inline"
   ]
  },
  {
   "cell_type": "code",
   "execution_count": 2,
   "metadata": {
    "collapsed": true
   },
   "outputs": [],
   "source": [
    "file_directory = \"../output/data/\"\n",
    "\n",
    "train_data = pre.load_pickle(file_directory, \"train_features.pkl\")\n",
    "train_y = pre.load_pickle(file_directory, \"train_labels.pkl\")"
   ]
  },
  {
   "cell_type": "code",
   "execution_count": 3,
   "metadata": {
    "collapsed": true
   },
   "outputs": [],
   "source": [
    "def fit_model(alg, x_train, y_train, use_cv=True, cv_folds=5, early_stopping_rounds=50):\n",
    "    \"\"\"https://www.analyticsvidhya.com/blog/2016/03/complete-guide-parameter-tuning-xgboost-with-codes-python/\"\"\"\n",
    "    if use_cv:\n",
    "        xgb_param = alg.get_xgb_params()\n",
    "        xgtrain = xgb.DMatrix(x_train, label=y_train)\n",
    "        #xgtest = xgb.DMatrix(x_test)\n",
    "        cvresult = xgb.cv(xgb_param, xgtrain, num_boost_round=alg.get_params()['n_estimators'], nfold=cv_folds,\n",
    "                          metrics='logloss', early_stopping_rounds=early_stopping_rounds, stratified=True)\n",
    "        print(\"\\nBest number of iterations: {}\\n\".format(cvresult.shape[0]))\n",
    "        print(cvresult[-10:])\n",
    "        alg.set_params(n_estimators=cvresult.shape[0])\n",
    "\n",
    "    # Fit the algorithm on the data\n",
    "    alg.fit(x_train, y_train, eval_metric='logloss')\n",
    "\n",
    "    # Predict training set:\n",
    "    train_predictions = alg.predict(x_train)\n",
    "    train_predprob = alg.predict_proba(x_train)[:, 1]\n",
    "\n",
    "    # Print model report:\n",
    "    print(\"\\nModel Report on full training set\")\n",
    "    print(\"Accuracy : {:.4g}\".format(metrics.accuracy_score(y_train, train_predictions)))\n",
    "    print(\"Logloss (Train): {}\".format(metrics.log_loss(y_train, train_predprob)))\n",
    "\n",
    "    feat_importance = pd.Series(alg.booster().get_fscore()).sort_values(ascending=False)\n",
    "    feat_importance.plot(kind='bar', title='Feature Importances')\n",
    "    plt.ylabel('Feature Importance Score')\n",
    "    plt.show()\n"
   ]
  },
  {
   "cell_type": "code",
   "execution_count": 5,
   "metadata": {
    "collapsed": true
   },
   "outputs": [],
   "source": [
    "#http://scikit-learn.org/stable/auto_examples/model_selection/randomized_search.html\n",
    "# Utility function to report best scores\n",
    "def report(results, n_top=3):\n",
    "    for i in range(1, n_top + 1):\n",
    "        candidates = np.flatnonzero(results['rank_test_score'] == i)\n",
    "        for candidate in candidates:\n",
    "            print(\"Model with rank: {0}\".format(i))\n",
    "            print(\"Mean validation score: {0:.3f} (std: {1:.3f})\".format(\n",
    "                  results['mean_test_score'][candidate],\n",
    "                  results['std_test_score'][candidate]))\n",
    "            print(\"Parameters: {0}\".format(results['params'][candidate]))\n",
    "            print(\"\")"
   ]
  },
  {
   "cell_type": "markdown",
   "metadata": {},
   "source": [
    "Define inital parameters for XGBoost Classifier:"
   ]
  },
  {
   "cell_type": "code",
   "execution_count": 15,
   "metadata": {
    "collapsed": true
   },
   "outputs": [],
   "source": [
    "learning_rate = 0.2\n",
    "n_estimators = 1000\n",
    "max_depth = 10\n",
    "min_child_weight = 1\n",
    "gamma = 0\n",
    "subsample = 0.8\n",
    "colsample_bytree = 0.8\n",
    "objective = \"binary:logistic\"\n",
    "n_thread = 4\n",
    "scale_pos_weight = 1\n",
    "seed = 3453"
   ]
  },
  {
   "cell_type": "markdown",
   "metadata": {},
   "source": [
    "Find best number of estimators for a high learnng rate:"
   ]
  },
  {
   "cell_type": "code",
   "execution_count": 4,
   "metadata": {},
   "outputs": [
    {
     "name": "stdout",
     "output_type": "stream",
     "text": [
      "\n",
      "Best number of iterations: 367\n",
      "\n",
      "     test-logloss-mean  test-logloss-std  train-logloss-mean  \\\n",
      "357           0.419642          0.001342            0.217457   \n",
      "358           0.419623          0.001369            0.217163   \n",
      "359           0.419606          0.001374            0.216754   \n",
      "360           0.419598          0.001357            0.216357   \n",
      "361           0.419575          0.001343            0.216047   \n",
      "362           0.419570          0.001314            0.215732   \n",
      "363           0.419582          0.001287            0.215382   \n",
      "364           0.419562          0.001293            0.214934   \n",
      "365           0.419560          0.001282            0.214523   \n",
      "366           0.419547          0.001290            0.214143   \n",
      "\n",
      "     train-logloss-std  \n",
      "357           0.001509  \n",
      "358           0.001460  \n",
      "359           0.001499  \n",
      "360           0.001446  \n",
      "361           0.001470  \n",
      "362           0.001426  \n",
      "363           0.001301  \n",
      "364           0.001263  \n",
      "365           0.001424  \n",
      "366           0.001559  \n",
      "\n",
      "Model Report on full training set\n",
      "Accuracy : 0.9398\n",
      "Logloss (Train): 0.236993622681\n"
     ]
    },
    {
     "data": {
      "image/png": "[encoded data removed]",
      "text/plain": [
       "<matplotlib.figure.Figure at 0x7f6a6b973f50>"
      ]
     },
     "metadata": {},
     "output_type": "display_data"
    }
   ],
   "source": [
    "xgb1 = xgb.XGBClassifier(learning_rate=learning_rate, n_estimators=n_estimators, max_depth=max_depth,\n",
    "                         min_child_weight=min_child_weight, gamma=gamma, subsample=subsample,\n",
    "                         colsample_bytree=colsample_bytree, objective=objective, nthread=nthread,\n",
    "                         scale_pos_weight=scale_pos_weight, seed=seed)\n",
    "\n",
    "fit_model(xgb1, train_data, train_y)"
   ]
  },
  {
   "cell_type": "code",
   "execution_count": 22,
   "metadata": {},
   "outputs": [
    {
     "name": "stdout",
     "output_type": "stream",
     "text": [
      "RandomizedSearchCV took 89.54 seconds for 10 candidates parameter settings.\n"
     ]
    },
    {
     "ename": "NameError",
     "evalue": "name 'random_search' is not defined",
     "output_type": "error",
     "traceback": [
      "\u001b[0;31m---------------------------------------------------------------------------\u001b[0m",
      "\u001b[0;31mNameError\u001b[0m                                 Traceback (most recent call last)",
      "\u001b[0;32m<ipython-input-22-f15b72a3546a>\u001b[0m in \u001b[0;36m<module>\u001b[0;34m()\u001b[0m\n\u001b[1;32m     20\u001b[0m \u001b[0mrandom_search_1\u001b[0m\u001b[0;34m.\u001b[0m\u001b[0mfit\u001b[0m\u001b[0;34m(\u001b[0m\u001b[0mtrain_data\u001b[0m\u001b[0;34m,\u001b[0m \u001b[0mtrain_y\u001b[0m\u001b[0;34m)\u001b[0m\u001b[0;34m\u001b[0m\u001b[0m\n\u001b[1;32m     21\u001b[0m \u001b[0;32mprint\u001b[0m \u001b[0;34m\"RandomizedSearchCV took {:.2f} seconds for {} candidates parameter settings.\"\u001b[0m\u001b[0;34m.\u001b[0m\u001b[0mformat\u001b[0m\u001b[0;34m(\u001b[0m\u001b[0;34m(\u001b[0m\u001b[0mtime\u001b[0m\u001b[0;34m(\u001b[0m\u001b[0;34m)\u001b[0m \u001b[0;34m-\u001b[0m \u001b[0mstart\u001b[0m\u001b[0;34m)\u001b[0m\u001b[0;34m/\u001b[0m\u001b[0;36m60\u001b[0m\u001b[0;34m,\u001b[0m \u001b[0mn_iter_search\u001b[0m\u001b[0;34m)\u001b[0m\u001b[0;34m\u001b[0m\u001b[0m\n\u001b[0;32m---> 22\u001b[0;31m \u001b[0mreport\u001b[0m\u001b[0;34m(\u001b[0m\u001b[0mrandom_search\u001b[0m\u001b[0;34m.\u001b[0m\u001b[0mcv_results_\u001b[0m\u001b[0;34m)\u001b[0m\u001b[0;34m\u001b[0m\u001b[0m\n\u001b[0m",
      "\u001b[0;31mNameError\u001b[0m: name 'random_search' is not defined"
     ]
    }
   ],
   "source": [
    "n_estimators = 367\n",
    "\n",
    "param_dist = {\n",
    "    'max_depth': randint(6,16,),\n",
    "    'min_child_weight': randint(1,6)\n",
    "}\n",
    "\n",
    "n_iter_search = 10  # Number of searches in Randomized search\n",
    "\n",
    "random_search = RandomizedSearchCV(estimator = xgb.XGBClassifier(learning_rate=learning_rate, n_estimators=n_estimators, \n",
    "                                                               max_depth=max_depth, min_child_weight=min_child_weight, \n",
    "                                                               gamma=gamma, subsample=subsample, \n",
    "                                                               colsample_bytree=colsample_bytree, objective=objective, \n",
    "                                                               nthread=n_thread, scale_pos_weight=scale_pos_weight, \n",
    "                                                               seed=seed), \n",
    "                                 param_distributions = param_dist, n_iter=n_iter_search, \n",
    "                                 scoring='neg_log_loss', n_jobs=2, iid=False, cv=5)\n",
    "\n",
    "start = time()\n",
    "random_search.fit(train_data, train_y)\n",
    "print \"RandomizedSearchCV took {:.2f} minutes for {} candidates parameter settings.\".format((time() - start)/60, n_iter_search)\n",
    "report(random_search.cv_results_)  "
   ]
  },
  {
   "cell_type": "code",
   "execution_count": 25,
   "metadata": {},
   "outputs": [
    {
     "name": "stdout",
     "output_type": "stream",
     "text": [
      "Model with rank: 1\n",
      "Mean validation score: -0.419 (std: 0.002)\n",
      "Parameters: {'max_depth': 10, 'min_child_weight': 1}\n",
      "\n",
      "Model with rank: 2\n",
      "Mean validation score: -0.420 (std: 0.001)\n",
      "Parameters: {'max_depth': 10, 'min_child_weight': 4}\n",
      "\n",
      "Model with rank: 3\n",
      "Mean validation score: -0.420 (std: 0.002)\n",
      "Parameters: {'max_depth': 11, 'min_child_weight': 3}\n",
      "\n"
     ]
    }
   ],
   "source": [
    "report(random_search_1.cv_results_)  "
   ]
  },
  {
   "cell_type": "code",
   "execution_count": 26,
   "metadata": {},
   "outputs": [
    {
     "name": "stdout",
     "output_type": "stream",
     "text": [
      "RandomizedSearchCV(cv=5, error_score='raise',\n",
      "          estimator=XGBClassifier(base_score=0.5, colsample_bylevel=1, colsample_bytree=0.8,\n",
      "       gamma=0, learning_rate=0.2, max_delta_step=0, max_depth=10,\n",
      "       min_child_weight=1, missing=None, n_estimators=367, nthread=4,\n",
      "       objective='binary:logistic', reg_alpha=0, reg_lambda=1,\n",
      "       scale_pos_weight=1, seed=3453, silent=True, subsample=0.8),\n",
      "          fit_params={}, iid=False, n_iter=5, n_jobs=2,\n",
      "          param_distributions={'gamma': <scipy.stats._distn_infrastructure.rv_frozen object at 0x7f6a7940f610>},\n",
      "          pre_dispatch='2*n_jobs', random_state=None, refit=True,\n",
      "          return_train_score=True, scoring='neg_log_loss', verbose=0)\n",
      "RandomizedSearchCV took 32.80 minutes for 5 candidates parameter settings.\n",
      "Model with rank: 1\n",
      "Mean validation score: -0.419 (std: 0.001)\n",
      "Parameters: {'gamma': 0.489309171116382}\n",
      "\n",
      "Model with rank: 2\n",
      "Mean validation score: -0.419 (std: 0.001)\n",
      "Parameters: {'gamma': 0.05913721293446661}\n",
      "\n",
      "Model with rank: 3\n",
      "Mean validation score: -0.419 (std: 0.001)\n",
      "Parameters: {'gamma': 0.23073968112646592}\n",
      "\n"
     ]
    }
   ],
   "source": [
    "# Best model score 0.419\n",
    "max_depth = 10\n",
    "min_child_weight = 1\n",
    "\n",
    "param_dist = {\n",
    "    \"gamma\": uniform(0, 0.5)\n",
    "}\n",
    "\n",
    "n_iter_search = 5  # Number of searches in Randomized search\n",
    "\n",
    "\n",
    "random_search = RandomizedSearchCV(estimator = xgb.XGBClassifier(learning_rate=learning_rate, n_estimators=n_estimators, \n",
    "                                                               max_depth=max_depth, min_child_weight=min_child_weight, \n",
    "                                                               gamma=gamma, subsample=subsample, \n",
    "                                                               colsample_bytree=colsample_bytree, objective=objective, \n",
    "                                                               nthread=n_thread, scale_pos_weight=scale_pos_weight, \n",
    "                                                               seed=seed), \n",
    "                                 param_distributions = param_dist, n_iter=n_iter_search, \n",
    "                                 scoring='neg_log_loss', n_jobs=2, iid=False, cv=5)\n",
    "\n",
    "print random_search\n",
    "start = time()\n",
    "random_search.fit(train_data, train_y)\n",
    "print \"RandomizedSearchCV took {:.2f} minutes for {} candidates parameter settings.\".format((time() - start)/60, n_iter_search)\n",
    "report(random_search.cv_results_)  \n"
   ]
  },
  {
   "cell_type": "code",
   "execution_count": null,
   "metadata": {
    "collapsed": true
   },
   "outputs": [],
   "source": []
  }
 ],
 "metadata": {
  "kernelspec": {
   "display_name": "Python 2",
   "language": "python",
   "name": "python2"
  },
  "language_info": {
   "codemirror_mode": {
    "name": "ipython",
    "version": 2
   },
   "file_extension": ".py",
   "mimetype": "text/x-python",
   "name": "python",
   "nbconvert_exporter": "python",
   "pygments_lexer": "ipython2",
   "version": "2.7.13"
  }
 },
 "nbformat": 4,
 "nbformat_minor": 2
}

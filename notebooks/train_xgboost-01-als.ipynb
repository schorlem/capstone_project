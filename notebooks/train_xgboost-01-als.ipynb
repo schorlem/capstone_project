{
 "cells": [
  {
   "cell_type": "markdown",
   "metadata": {},
   "source": [
    "# <center> Train XGBoost Classifier </center>"
   ]
  },
  {
   "cell_type": "markdown",
   "metadata": {},
   "source": [
    "Now let's see if we can improve on our simple logistic regression model by using boosted decision trees. I will use the following blog post as a baseline for the hyperparameter tuning of my model: https://www.analyticsvidhya.com/blog/2016/03/complete-guide-parameter-tuning-xgboost-with-codes-python/. The post mentioned above uses grid search for tuning while I have decided to use randomized search.\n",
    "\n",
    "Loasing xgboost will throw a warning because the version I have installed seems to reference to a deprecated scikit module."
   ]
  },
  {
   "cell_type": "code",
   "execution_count": 8,
   "metadata": {},
   "outputs": [],
   "source": [
    "import xgboost as xgb\n",
    "import pandas as pd\n",
    "import numpy as np\n",
    "from time import time\n",
    "from scipy.stats import randint, uniform\n",
    "from sklearn.model_selection import RandomizedSearchCV\n",
    "from sklearn.metrics import log_loss, accuracy_score\n",
    "from capstone_project import utility\n",
    "\n",
    "%matplotlib inline"
   ]
  },
  {
   "cell_type": "markdown",
   "metadata": {},
   "source": [
    "Load the data:"
   ]
  },
  {
   "cell_type": "code",
   "execution_count": 9,
   "metadata": {},
   "outputs": [],
   "source": [
    "file_directory = \"../output/data/\"\n",
    "\n",
    "train_data = utility.load_pickle(file_directory, \"train_features.pkl\")\n",
    "val_data = utility.load_pickle(file_directory, \"val_features.pkl\")\n",
    "train_labels = utility.load_pickle(file_directory, \"train_labels.pkl\")\n",
    "val_labels = utility.load_pickle(file_directory, \"val_labels.pkl\")\n",
    "\n",
    "train_data = train_data[:100]\n",
    "train_labels = train_labels[:100]"
   ]
  },
  {
   "cell_type": "markdown",
   "metadata": {},
   "source": [
    "Define inital parameters for XGBoost Classifier:"
   ]
  },
  {
   "cell_type": "code",
   "execution_count": 10,
   "metadata": {
    "collapsed": true
   },
   "outputs": [],
   "source": [
    "learning_rate = 0.2\n",
    "n_estimators = 1000\n",
    "max_depth = 10\n",
    "min_child_weight = 1\n",
    "gamma = 0\n",
    "subsample = 0.8\n",
    "colsample_bytree = 0.8\n",
    "objective = \"binary:logistic\"\n",
    "nthread = 4\n",
    "scale_pos_weight = 1\n",
    "reg_alpha=0\n",
    "seed = 3453"
   ]
  },
  {
   "cell_type": "markdown",
   "metadata": {},
   "source": [
    "Find best number of estimators for a high learnng rate:"
   ]
  },
  {
   "cell_type": "code",
   "execution_count": 11,
   "metadata": {},
   "outputs": [
    {
     "name": "stdout",
     "output_type": "stream",
     "text": [
      "\n",
      "Best number of iterations: 4\n",
      "\n",
      "   test-logloss-mean  test-logloss-std  train-logloss-mean  train-logloss-std\n",
      "0           0.658026          0.029485            0.613770           0.009251\n",
      "1           0.620967          0.045992            0.546282           0.009503\n",
      "2           0.609966          0.053413            0.494025           0.011097\n",
      "3           0.601447          0.062302            0.453653           0.010292\n",
      "\n",
      "Model Report on full training set\n",
      "Accuracy : 0.91\n",
      "Logloss (Train): 0.445196456909\n"
     ]
    },
    {
     "data": {
      "image/png": "[encoded data removed]",
      "text/plain": [
       "<matplotlib.figure.Figure at 0x7fa917d98610>"
      ]
     },
     "metadata": {},
     "output_type": "display_data"
    }
   ],
   "source": [
    "clf = xgb.XGBClassifier(learning_rate=learning_rate, n_estimators=n_estimators, max_depth=max_depth,\n",
    "                         min_child_weight=min_child_weight, gamma=gamma, subsample=subsample,\n",
    "                         colsample_bytree=colsample_bytree, objective=objective, nthread=nthread,\n",
    "                         scale_pos_weight=scale_pos_weight, reg_alpha=reg_alpha, seed=seed)\n",
    "\n",
    "plt = utility.xgb_fit_model(clf, train_data, train_labels)\n",
    "plt.show()"
   ]
  },
  {
   "cell_type": "code",
   "execution_count": 12,
   "metadata": {
    "collapsed": true
   },
   "outputs": [],
   "source": [
    "n_estimators = 367"
   ]
  },
  {
   "cell_type": "code",
   "execution_count": 21,
   "metadata": {},
   "outputs": [
    {
     "name": "stdout",
     "output_type": "stream",
     "text": [
      "RandomizedSearchCV(cv=5, error_score='raise',\n",
      "          estimator=XGBClassifier(base_score=0.5, colsample_bylevel=1, colsample_bytree=0.8,\n",
      "       gamma=0, learning_rate=0.2, max_delta_step=0, max_depth=10,\n",
      "       min_child_weight=1, missing=None, n_estimators=367, nthread=4,\n",
      "       objective='binary:logistic', reg_alpha=0, reg_lambda=1,\n",
      "       scale_pos_weight=1, seed=3453, silent=True, subsample=0.8),\n",
      "          fit_params={}, iid=False, n_iter=10, n_jobs=2,\n",
      "          param_distributions={'max_depth': <scipy.stats._distn_infrastructure.rv_frozen object at 0x7fa917be6ad0>, 'min_child_weight': <scipy.stats._distn_infrastructure.rv_frozen object at 0x7fa917c39390>},\n",
      "          pre_dispatch='2*n_jobs', random_state=329, refit=True,\n",
      "          return_train_score=True, scoring='neg_log_loss', verbose=0)\n",
      "\n",
      "RandomizedSearchCV took 0.02 minutes for 10 candidates parameter settings.\n",
      "Model with rank: 1\n",
      "Mean validation score: -0.666 (std: 0.132)\n",
      "Parameters: {'max_depth': 7, 'min_child_weight': 5}\n",
      "\n",
      "Model with rank: 2\n",
      "Mean validation score: -0.728 (std: 0.177)\n",
      "Parameters: {'max_depth': 10, 'min_child_weight': 4}\n",
      "\n",
      "Model with rank: 2\n",
      "Mean validation score: -0.728 (std: 0.177)\n",
      "Parameters: {'max_depth': 6, 'min_child_weight': 4}\n",
      "\n",
      "Model with rank: 2\n",
      "Mean validation score: -0.728 (std: 0.177)\n",
      "Parameters: {'max_depth': 14, 'min_child_weight': 4}\n",
      "\n",
      "Model with rank: 2\n",
      "Mean validation score: -0.728 (std: 0.177)\n",
      "Parameters: {'max_depth': 9, 'min_child_weight': 4}\n",
      "\n",
      "Model with rank: 2\n",
      "Mean validation score: -0.728 (std: 0.177)\n",
      "Parameters: {'max_depth': 11, 'min_child_weight': 4}\n",
      "\n"
     ]
    }
   ],
   "source": [
    "param_dist = {\"max_depth\": randint(6,16), #randint takes min and max values as parameters\n",
    "              \"min_child_weight\": randint(1,6)}\n",
    "\n",
    "n_iter_search = 10  # Number of searches in Randomized search\n",
    "\n",
    "random_search = RandomizedSearchCV(estimator = xgb.XGBClassifier(learning_rate=learning_rate, n_estimators=n_estimators, \n",
    "                                                               max_depth=max_depth, min_child_weight=min_child_weight, \n",
    "                                                               gamma=gamma, subsample=subsample, \n",
    "                                                               colsample_bytree=colsample_bytree, objective=objective, \n",
    "                                                               nthread=nthread, scale_pos_weight=scale_pos_weight, \n",
    "                                                                reg_alpha=reg_alpha, seed=seed), \n",
    "                                 param_distributions = param_dist, n_iter=n_iter_search, \n",
    "                                 scoring='neg_log_loss', n_jobs=2, iid=False, cv=5, random_state=329)\n",
    "\n",
    "print random_search\n",
    "start = time()\n",
    "random_search.fit(train_data, train_labels)\n",
    "print \"\\nRandomizedSearchCV took {:.2f} minutes for {} candidates parameter settings.\".format((time() - start)/60, n_iter_search)\n",
    "utility.report(random_search.cv_results_)  "
   ]
  },
  {
   "cell_type": "code",
   "execution_count": 16,
   "metadata": {
    "collapsed": true
   },
   "outputs": [],
   "source": [
    "# Best model score 0.419\n",
    "max_depth = 10\n",
    "min_child_weight = 1"
   ]
  },
  {
   "cell_type": "code",
   "execution_count": 22,
   "metadata": {},
   "outputs": [
    {
     "name": "stdout",
     "output_type": "stream",
     "text": [
      "RandomizedSearchCV(cv=5, error_score='raise',\n",
      "          estimator=XGBClassifier(base_score=0.5, colsample_bylevel=1, colsample_bytree=0.8,\n",
      "       gamma=0, learning_rate=0.2, max_delta_step=0, max_depth=10,\n",
      "       min_child_weight=1, missing=None, n_estimators=367, nthread=4,\n",
      "       objective='binary:logistic', reg_alpha=0, reg_lambda=1,\n",
      "       scale_pos_weight=1, seed=3453, silent=True, subsample=0.8),\n",
      "          fit_params={}, iid=False, n_iter=5, n_jobs=2,\n",
      "          param_distributions={'gamma': <scipy.stats._distn_infrastructure.rv_frozen object at 0x7fa917b9ad50>},\n",
      "          pre_dispatch='2*n_jobs', random_state=329, refit=True,\n",
      "          return_train_score=True, scoring='neg_log_loss', verbose=0)\n",
      "\n",
      "RandomizedSearchCV took 0.01 minutes for 5 candidates parameter settings.\n",
      "Model with rank: 1\n",
      "Mean validation score: -0.904 (std: 0.212)\n",
      "Parameters: {'gamma': 0.42932935500396757}\n",
      "\n",
      "Model with rank: 2\n",
      "Mean validation score: -0.943 (std: 0.243)\n",
      "Parameters: {'gamma': 0.2869118309443125}\n",
      "\n",
      "Model with rank: 3\n",
      "Mean validation score: -0.946 (std: 0.193)\n",
      "Parameters: {'gamma': 0.37496144849819074}\n",
      "\n"
     ]
    }
   ],
   "source": [
    "param_dist = {\"gamma\": uniform(0, 0.5)}\n",
    "\n",
    "n_iter_search = 5  # Number of searches in Randomized search\n",
    "\n",
    "\n",
    "random_search = RandomizedSearchCV(estimator = xgb.XGBClassifier(learning_rate=learning_rate, n_estimators=n_estimators, \n",
    "                                                               max_depth=max_depth, min_child_weight=min_child_weight, \n",
    "                                                               gamma=gamma, subsample=subsample, \n",
    "                                                               colsample_bytree=colsample_bytree, objective=objective, \n",
    "                                                               nthread=nthread, scale_pos_weight=scale_pos_weight, \n",
    "                                                                reg_alpha=reg_alpha, seed=seed), \n",
    "                                 param_distributions = param_dist, n_iter=n_iter_search, \n",
    "                                 scoring='neg_log_loss', n_jobs=2, iid=False, cv=5, random_state=329)\n",
    "\n",
    "print random_search\n",
    "start = time()\n",
    "random_search.fit(train_data, train_labels)\n",
    "print \"\\nRandomizedSearchCV took {:.2f} minutes for {} candidates parameter settings.\".format((time() - start)/60, n_iter_search)\n",
    "utility.report(random_search.cv_results_)  \n"
   ]
  },
  {
   "cell_type": "code",
   "execution_count": 23,
   "metadata": {
    "collapsed": true
   },
   "outputs": [],
   "source": [
    "# no Improvement visible keep gamma\n",
    "gamma = 0"
   ]
  },
  {
   "cell_type": "code",
   "execution_count": 24,
   "metadata": {},
   "outputs": [
    {
     "name": "stdout",
     "output_type": "stream",
     "text": [
      "RandomizedSearchCV(cv=5, error_score='raise',\n",
      "          estimator=XGBClassifier(base_score=0.5, colsample_bylevel=1, colsample_bytree=0.8,\n",
      "       gamma=0, learning_rate=0.2, max_delta_step=0, max_depth=10,\n",
      "       min_child_weight=1, missing=None, n_estimators=367, nthread=4,\n",
      "       objective='binary:logistic', reg_alpha=0, reg_lambda=1,\n",
      "       scale_pos_weight=1, seed=3453, silent=True, subsample=0.8),\n",
      "          fit_params={}, iid=False, n_iter=8, n_jobs=2,\n",
      "          param_distributions={'subsample': <scipy.stats._distn_infrastructure.rv_frozen object at 0x7fa917b9ac90>, 'colsample_bytree': <scipy.stats._distn_infrastructure.rv_frozen object at 0x7fa917b9a210>},\n",
      "          pre_dispatch='2*n_jobs', random_state=329, refit=True,\n",
      "          return_train_score=True, scoring='neg_log_loss', verbose=0)\n",
      "\n",
      "RandomizedSearchCV took 0.01 minutes for 8 candidates parameter settings.\n",
      "Model with rank: 1\n",
      "Mean validation score: -0.967 (std: 0.217)\n",
      "Parameters: {'subsample': 0.59760345510988133, 'colsample_bytree': 0.622328799463302}\n",
      "\n",
      "Model with rank: 2\n",
      "Mean validation score: -0.978 (std: 0.184)\n",
      "Parameters: {'subsample': 0.62454830040101994, 'colsample_bytree': 0.69433289455979053}\n",
      "\n",
      "Model with rank: 3\n",
      "Mean validation score: -0.996 (std: 0.170)\n",
      "Parameters: {'subsample': 0.59748671581957014, 'colsample_bytree': 0.78619875246637316}\n",
      "\n"
     ]
    }
   ],
   "source": [
    "param_dist = {\"subsample\": uniform (0.5, 0.4),  # Uniform takes minimum value and range as parameters\n",
    "              \"colsample_bytree\": uniform (0.5, 0.4)}\n",
    "\n",
    "n_iter_search = 8  # Number of searches in Randomized search\n",
    "\n",
    "\n",
    "random_search = RandomizedSearchCV(estimator = xgb.XGBClassifier(learning_rate=learning_rate, n_estimators=n_estimators, \n",
    "                                                               max_depth=max_depth, min_child_weight=min_child_weight, \n",
    "                                                               gamma=gamma, subsample=subsample, \n",
    "                                                               colsample_bytree=colsample_bytree, objective=objective, \n",
    "                                                               nthread=nthread, scale_pos_weight=scale_pos_weight, \n",
    "                                                                reg_alpha=reg_alpha, seed=seed), \n",
    "                                 param_distributions = param_dist, n_iter=n_iter_search, \n",
    "                                 scoring='neg_log_loss', n_jobs=2, iid=False, cv=5, random_state=329)\n",
    "\n",
    "print random_search\n",
    "start = time()\n",
    "random_search.fit(train_data, train_labels)\n",
    "print \"\\nRandomizedSearchCV took {:.2f} minutes for {} candidates parameter settings.\".format((time() - start)/60, n_iter_search)\n",
    "utility.report(random_search.cv_results_)  \n"
   ]
  },
  {
   "cell_type": "code",
   "execution_count": 25,
   "metadata": {
    "collapsed": true
   },
   "outputs": [],
   "source": [
    "# loss is 0.417\n",
    "subsample = 0.854 \n",
    "colsample_bytree = 0.722"
   ]
  },
  {
   "cell_type": "code",
   "execution_count": 27,
   "metadata": {},
   "outputs": [
    {
     "name": "stdout",
     "output_type": "stream",
     "text": [
      "RandomizedSearchCV(cv=5, error_score='raise',\n",
      "          estimator=XGBClassifier(base_score=0.5, colsample_bylevel=1, colsample_bytree=0.722,\n",
      "       gamma=0, learning_rate=0.2, max_delta_step=0, max_depth=10,\n",
      "       min_child_weight=1, missing=None, n_estimators=367, nthread=4,\n",
      "       objective='binary:logistic', reg_alpha=0, reg_lambda=1,\n",
      "       scale_pos_weight=1, seed=3453, silent=True, subsample=0.854),\n",
      "          fit_params={}, iid=False, n_iter=10, n_jobs=2,\n",
      "          param_distributions={'reg_alpha': <scipy.stats._distn_infrastructure.rv_frozen object at 0x7fa917c1c510>},\n",
      "          pre_dispatch='2*n_jobs', random_state=329, refit=True,\n",
      "          return_train_score=True, scoring='neg_log_loss', verbose=0)\n",
      "\n",
      "RandomizedSearchCV took 0.02 minutes for 10 candidates parameter settings.\n",
      "Model with rank: 1\n",
      "Mean validation score: -0.610 (std: 0.033)\n",
      "Parameters: {'reg_alpha': 7.0631346299201319}\n",
      "\n",
      "Model with rank: 2\n",
      "Mean validation score: -0.693 (std: 0.000)\n",
      "Parameters: {'reg_alpha': 57.382366188862498}\n",
      "\n",
      "Model with rank: 2\n",
      "Mean validation score: -0.693 (std: 0.000)\n",
      "Parameters: {'reg_alpha': 39.096961689939356}\n",
      "\n",
      "Model with rank: 2\n",
      "Mean validation score: -0.693 (std: 0.000)\n",
      "Parameters: {'reg_alpha': 85.865871000793518}\n",
      "\n",
      "Model with rank: 2\n",
      "Mean validation score: -0.693 (std: 0.000)\n",
      "Parameters: {'reg_alpha': 74.99228969963815}\n",
      "\n",
      "Model with rank: 2\n",
      "Mean validation score: -0.693 (std: 0.000)\n",
      "Parameters: {'reg_alpha': 46.517724297616184}\n",
      "\n",
      "Model with rank: 2\n",
      "Mean validation score: -0.693 (std: 0.000)\n",
      "Parameters: {'reg_alpha': 48.583223639947626}\n",
      "\n",
      "Model with rank: 2\n",
      "Mean validation score: -0.693 (std: 0.000)\n",
      "Parameters: {'reg_alpha': 31.137075100254986}\n",
      "\n",
      "Model with rank: 2\n",
      "Mean validation score: -0.693 (std: 0.000)\n",
      "Parameters: {'reg_alpha': 30.582199865825487}\n",
      "\n",
      "Model with rank: 2\n",
      "Mean validation score: -0.693 (std: 0.000)\n",
      "Parameters: {'reg_alpha': 24.400863777470327}\n",
      "\n"
     ]
    }
   ],
   "source": [
    "param_dist = { 'reg_alpha': uniform(0,100)} # Uniform takes minimum value and range as parameters\n",
    "n_iter_search = 10  # Number of searches in Randomized search\n",
    "\n",
    "random_search = RandomizedSearchCV(estimator = xgb.XGBClassifier(learning_rate=learning_rate, n_estimators=n_estimators, \n",
    "                                                               max_depth=max_depth, min_child_weight=min_child_weight, \n",
    "                                                               gamma=gamma, subsample=subsample, \n",
    "                                                               colsample_bytree=colsample_bytree, objective=objective, \n",
    "                                                               nthread=nthread, scale_pos_weight=scale_pos_weight, \n",
    "                                                                reg_alpha=reg_alpha, seed=seed), \n",
    "                                 param_distributions = param_dist, n_iter=n_iter_search, \n",
    "                                 scoring='neg_log_loss', n_jobs=2, iid=False, cv=5, random_state=329)\n",
    "\n",
    "print random_search\n",
    "start = time()\n",
    "random_search.fit(train_data, train_labels)\n",
    "print \"\\nRandomizedSearchCV took {:.2f} minutes for {} candidates parameter settings.\".format((time() - start)/60, n_iter_search)\n",
    "utility.report(random_search.cv_results_)  \n"
   ]
  },
  {
   "cell_type": "code",
   "execution_count": 28,
   "metadata": {
    "collapsed": true
   },
   "outputs": [],
   "source": [
    "#best model 0.415\n",
    "reg_alpha = 0.782\n",
    "learning_rate = 0.01\n",
    "n_estimators = 50000"
   ]
  },
  {
   "cell_type": "code",
   "execution_count": 29,
   "metadata": {},
   "outputs": [
    {
     "name": "stdout",
     "output_type": "stream",
     "text": [
      "XGBClassifier(base_score=0.5, colsample_bylevel=1, colsample_bytree=0.722,\n",
      "       gamma=0, learning_rate=0.01, max_delta_step=0, max_depth=10,\n",
      "       min_child_weight=1, missing=None, n_estimators=50000, nthread=4,\n",
      "       objective='binary:logistic', reg_alpha=0.782, reg_lambda=1,\n",
      "       scale_pos_weight=1, seed=3453, silent=True, subsample=0.854)\n",
      "\n",
      "Best number of iterations: 174\n",
      "\n",
      "     test-logloss-mean  test-logloss-std  train-logloss-mean  \\\n",
      "164           0.593545          0.071081            0.374156   \n",
      "165           0.593561          0.071270            0.373110   \n",
      "166           0.593625          0.071445            0.372152   \n",
      "167           0.593420          0.071979            0.371281   \n",
      "168           0.593223          0.072375            0.370328   \n",
      "169           0.593031          0.072719            0.369387   \n",
      "170           0.592661          0.072791            0.368503   \n",
      "171           0.592830          0.073057            0.367510   \n",
      "172           0.592580          0.073063            0.366578   \n",
      "173           0.592329          0.073192            0.365635   \n",
      "\n",
      "     train-logloss-std  \n",
      "164           0.013773  \n",
      "165           0.013673  \n",
      "166           0.013661  \n",
      "167           0.013716  \n",
      "168           0.013699  \n",
      "169           0.013768  \n",
      "170           0.013864  \n",
      "171           0.013965  \n",
      "172           0.013940  \n",
      "173           0.013828  \n",
      "\n",
      "Model Report on full training set\n",
      "Accuracy : 0.98\n",
      "Logloss (Train): 0.358677217364\n",
      "\n",
      "XGB fitting took 0.01 minutes.\n"
     ]
    },
    {
     "data": {
      "image/png": "[encoded data removed]",
      "text/plain": [
       "<matplotlib.figure.Figure at 0x7fa917bc8290>"
      ]
     },
     "metadata": {},
     "output_type": "display_data"
    }
   ],
   "source": [
    "clf = xgb.XGBClassifier(learning_rate=learning_rate, n_estimators=n_estimators, max_depth=max_depth,\n",
    "                         min_child_weight=min_child_weight, gamma=gamma, subsample=subsample,\n",
    "                         colsample_bytree=colsample_bytree, objective=objective, nthread=nthread,\n",
    "                         scale_pos_weight=scale_pos_weight, reg_alpha=reg_alpha, seed=seed)\n",
    "\n",
    "print clf\n",
    "start = time()\n",
    "utility.xgb_fit_model(clf, train_data, train_labels)\n",
    "print \"\\nXGB fitting took {:.2f} minutes.\".format((time() - start)/60)\n"
   ]
  },
  {
   "cell_type": "code",
   "execution_count": 31,
   "metadata": {},
   "outputs": [],
   "source": [
    "model_directory = \"../output/models/\"\n",
    "prefix = \"for_validation_\"\n",
    "\n",
    "utility.save_pickle(clf, model_directory, prefix+\"xgboost.pkl\") "
   ]
  },
  {
   "cell_type": "code",
   "execution_count": 33,
   "metadata": {
    "collapsed": true
   },
   "outputs": [],
   "source": [
    "model_directory = \"../output/models/\"\n",
    "clf = utility.load_pickle(model_directory, \"for_validation_xgboost.pkl\")\n",
    "\n",
    "predictions= clf.predict_proba(val_data)[:, 1] "
   ]
  },
  {
   "cell_type": "code",
   "execution_count": 34,
   "metadata": {},
   "outputs": [
    {
     "name": "stdout",
     "output_type": "stream",
     "text": [
      "Validation scores for the xgboost classifier\n",
      " LogLoss: 0.5325\n",
      " Accuracy: 0.69 \n"
     ]
    }
   ],
   "source": [
    "loss = log_loss(val_labels, predictions)\n",
    "acc = accuracy_score(val_labels, np.rint(predictions))\n",
    "\n",
    "print \"Validation scores for the xgboost classifier\\n LogLoss: {:.4f}\\n Accuracy: {:.2f} \".format(loss, acc)"
   ]
  },
  {
   "cell_type": "code",
   "execution_count": 35,
   "metadata": {},
   "outputs": [
    {
     "data": {
      "image/png": "[encoded data removed]",
      "text/plain": [
       "<matplotlib.figure.Figure at 0x7fa917b2eb90>"
      ]
     },
     "metadata": {},
     "output_type": "display_data"
    }
   ],
   "source": [
    "plt = utility.create_roc_plot(val_labels, predictions, \"xgboost\")\n",
    "plt.savefig(\"../output/figures/xgboost_roc_plot.png\")\n",
    "plt.show()"
   ]
  }
 ],
 "metadata": {
  "kernelspec": {
   "display_name": "Python 2",
   "language": "python",
   "name": "python2"
  },
  "language_info": {
   "codemirror_mode": {
    "name": "ipython",
    "version": 2
   },
   "file_extension": ".py",
   "mimetype": "text/x-python",
   "name": "python",
   "nbconvert_exporter": "python",
   "pygments_lexer": "ipython2",
   "version": "2.7.13"
  }
 },
 "nbformat": 4,
 "nbformat_minor": 2
}

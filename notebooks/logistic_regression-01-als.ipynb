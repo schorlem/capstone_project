{
 "cells": [
  {
   "cell_type": "markdown",
   "metadata": {},
   "source": [
    "# <center> Benchmark Model and Logistic Regression </center>"
   ]
  },
  {
   "cell_type": "markdown",
   "metadata": {},
   "source": [
    "Let's first try to train a simple logistic regression classifier and see how it compares to the benchmark model."
   ]
  },
  {
   "cell_type": "code",
   "execution_count": 1,
   "metadata": {},
   "outputs": [],
   "source": [
    "import numpy as np\n",
    "from IPython.display import display\n",
    "from sklearn.linear_model import LogisticRegression\n",
    "from sklearn.preprocessing import MinMaxScaler\n",
    "from sklearn.pipeline import Pipeline\n",
    "from sklearn.metrics import log_loss, accuracy_score\n",
    "from capstone_project import preprocessor as pre\n",
    "from capstone_project import utility\n",
    "\n",
    "%matplotlib inline"
   ]
  },
  {
   "cell_type": "markdown",
   "metadata": {},
   "source": [
    "Load train and validation data:"
   ]
  },
  {
   "cell_type": "code",
   "execution_count": 2,
   "metadata": {
    "collapsed": true
   },
   "outputs": [],
   "source": [
    "file_directory = \"../output/data/\"\n",
    "\n",
    "train_data = pre.load_pickle(file_directory, \"train_features.pkl\")\n",
    "val_data = pre.load_pickle(file_directory, \"val_features.pkl\")\n",
    "train_labels = pre.load_pickle(file_directory, \"train_labels.pkl\")\n",
    "val_labels = pre.load_pickle(file_directory, \"val_labels.pkl\")"
   ]
  },
  {
   "cell_type": "markdown",
   "metadata": {},
   "source": [
    "Okay now we can have a look at the dataframe and check if we loaded the correct one:"
   ]
  },
  {
   "cell_type": "code",
   "execution_count": 3,
   "metadata": {},
   "outputs": [
    {
     "data": {
      "text/html": [
       "<div>\n",
       "<table border=\"1\" class=\"dataframe\">\n",
       "  <thead>\n",
       "    <tr style=\"text-align: right;\">\n",
       "      <th></th>\n",
       "      <th>q1_length</th>\n",
       "      <th>q2_length</th>\n",
       "      <th>diff_length</th>\n",
       "      <th>q1_n_words</th>\n",
       "      <th>q2_n_words</th>\n",
       "      <th>q1_len_word_ratio</th>\n",
       "      <th>q2_len_word_ratio</th>\n",
       "      <th>word_share</th>\n",
       "      <th>word2vec_cosine_distance</th>\n",
       "      <th>word2vec_cityblock_distance</th>\n",
       "      <th>word2vec_jaccard_distance</th>\n",
       "      <th>word2vec_canberra_distance</th>\n",
       "      <th>word2vec_minkowski_distance</th>\n",
       "      <th>word2vec_euclidean_distance</th>\n",
       "      <th>word2vec_braycurtis_distance</th>\n",
       "      <th>word2vec_skew_q1</th>\n",
       "      <th>word2vec_skew_q2</th>\n",
       "      <th>word2vec_kurtosis_q1</th>\n",
       "      <th>word2vec_kurtosis_q2</th>\n",
       "    </tr>\n",
       "  </thead>\n",
       "  <tbody>\n",
       "    <tr>\n",
       "      <th>0</th>\n",
       "      <td>45.0</td>\n",
       "      <td>43.0</td>\n",
       "      <td>2.0</td>\n",
       "      <td>4.0</td>\n",
       "      <td>4.0</td>\n",
       "      <td>11.25</td>\n",
       "      <td>10.75</td>\n",
       "      <td>0.75</td>\n",
       "      <td>0.000000</td>\n",
       "      <td>0.000000</td>\n",
       "      <td>0.0</td>\n",
       "      <td>0.000000</td>\n",
       "      <td>0.000000</td>\n",
       "      <td>0.000000</td>\n",
       "      <td>0.000000</td>\n",
       "      <td>-0.115227</td>\n",
       "      <td>-0.115227</td>\n",
       "      <td>-0.246681</td>\n",
       "      <td>-0.246681</td>\n",
       "    </tr>\n",
       "    <tr>\n",
       "      <th>1</th>\n",
       "      <td>35.0</td>\n",
       "      <td>28.0</td>\n",
       "      <td>7.0</td>\n",
       "      <td>4.0</td>\n",
       "      <td>2.0</td>\n",
       "      <td>8.75</td>\n",
       "      <td>14.00</td>\n",
       "      <td>0.75</td>\n",
       "      <td>0.299657</td>\n",
       "      <td>10.757644</td>\n",
       "      <td>1.0</td>\n",
       "      <td>156.069648</td>\n",
       "      <td>0.345219</td>\n",
       "      <td>0.774154</td>\n",
       "      <td>0.427605</td>\n",
       "      <td>-0.005088</td>\n",
       "      <td>0.076298</td>\n",
       "      <td>-0.112236</td>\n",
       "      <td>0.017166</td>\n",
       "    </tr>\n",
       "  </tbody>\n",
       "</table>\n",
       "</div>"
      ],
      "text/plain": [
       "   q1_length  q2_length  diff_length  q1_n_words  q2_n_words  \\\n",
       "0       45.0       43.0          2.0         4.0         4.0   \n",
       "1       35.0       28.0          7.0         4.0         2.0   \n",
       "\n",
       "   q1_len_word_ratio  q2_len_word_ratio  word_share  word2vec_cosine_distance  \\\n",
       "0              11.25              10.75        0.75                  0.000000   \n",
       "1               8.75              14.00        0.75                  0.299657   \n",
       "\n",
       "   word2vec_cityblock_distance  word2vec_jaccard_distance  \\\n",
       "0                     0.000000                        0.0   \n",
       "1                    10.757644                        1.0   \n",
       "\n",
       "   word2vec_canberra_distance  word2vec_minkowski_distance  \\\n",
       "0                    0.000000                     0.000000   \n",
       "1                  156.069648                     0.345219   \n",
       "\n",
       "   word2vec_euclidean_distance  word2vec_braycurtis_distance  \\\n",
       "0                     0.000000                      0.000000   \n",
       "1                     0.774154                      0.427605   \n",
       "\n",
       "   word2vec_skew_q1  word2vec_skew_q2  word2vec_kurtosis_q1  \\\n",
       "0         -0.115227         -0.115227             -0.246681   \n",
       "1         -0.005088          0.076298             -0.112236   \n",
       "\n",
       "   word2vec_kurtosis_q2  \n",
       "0             -0.246681  \n",
       "1              0.017166  "
      ]
     },
     "metadata": {},
     "output_type": "display_data"
    }
   ],
   "source": [
    "display(train_data.head(2))"
   ]
  },
  {
   "cell_type": "markdown",
   "metadata": {},
   "source": [
    "We are going to use a pipeline to scale the features and train a logistic regression with its default values:"
   ]
  },
  {
   "cell_type": "code",
   "execution_count": 4,
   "metadata": {},
   "outputs": [
    {
     "data": {
      "text/plain": [
       "Pipeline(steps=[('minmax_scaler', MinMaxScaler(copy=True, feature_range=(0, 1))), ('logisitc_regression', LogisticRegression(C=1.0, class_weight=None, dual=False, fit_intercept=True,\n",
       "          intercept_scaling=1, max_iter=100, multi_class='ovr', n_jobs=1,\n",
       "          penalty='l2', random_state=None, solver='liblinear', tol=0.0001,\n",
       "          verbose=0, warm_start=False))])"
      ]
     },
     "execution_count": 4,
     "metadata": {},
     "output_type": "execute_result"
    }
   ],
   "source": [
    "mms = MinMaxScaler()\n",
    "clf = LogisticRegression()\n",
    "\n",
    "pipe = Pipeline([(\"minmax_scaler\", mms), (\"logisitc_regression\", clf)])\n",
    "\n",
    "\n",
    "pipe.fit(train_data.values, train_labels)"
   ]
  },
  {
   "cell_type": "markdown",
   "metadata": {},
   "source": [
    "Save the model in case we need it later:"
   ]
  },
  {
   "cell_type": "code",
   "execution_count": 5,
   "metadata": {},
   "outputs": [],
   "source": [
    "model_directory = \"../output/models\"\n",
    "prefix = \"for_validation_\"\n",
    "\n",
    "pre.save_pickle(pipe, model_directory, prefix+\"logistic_pipe.pkl\") "
   ]
  },
  {
   "cell_type": "markdown",
   "metadata": {},
   "source": [
    "Create prediction on the validation data:"
   ]
  },
  {
   "cell_type": "code",
   "execution_count": 6,
   "metadata": {},
   "outputs": [],
   "source": [
    "predictions_log = pipe.predict_proba(val_data)[:,1]"
   ]
  },
  {
   "cell_type": "markdown",
   "metadata": {},
   "source": [
    "Calculate validation scores:"
   ]
  },
  {
   "cell_type": "code",
   "execution_count": 7,
   "metadata": {},
   "outputs": [
    {
     "name": "stdout",
     "output_type": "stream",
     "text": [
      "Validation scores for the Logsitic regression\n",
      " LogLoss: 0.5242\n",
      " Accuracy: 0.68 \n"
     ]
    }
   ],
   "source": [
    "loss = log_loss(val_labels, predictions_log)\n",
    "acc = accuracy_score(val_labels, np.rint(predictions_log))\n",
    "\n",
    "print \"Validation scores for the Logsitic regression\\n LogLoss: {:.4f}\\n Accuracy: {:.2f} \".format(loss, acc)"
   ]
  },
  {
   "cell_type": "markdown",
   "metadata": {},
   "source": [
    "and create receiver operation characteristic plot:"
   ]
  },
  {
   "cell_type": "code",
   "execution_count": 8,
   "metadata": {},
   "outputs": [
    {
     "data": {
      "image/png": "[encoded data removed]",
      "text/plain": [
       "<matplotlib.figure.Figure at 0x7f1c7a749090>"
      ]
     },
     "metadata": {},
     "output_type": "display_data"
    }
   ],
   "source": [
    "plt = utility.create_roc_plot(val_labels, predictions_log, \"Logistic Regression\")\n",
    "plt.savefig(\"../output/figures/logistic_roc_plot.png\")\n",
    "plt.show()"
   ]
  },
  {
   "cell_type": "markdown",
   "metadata": {
    "collapsed": true
   },
   "source": [
    "Now let's calculate the benchmark model scores in order to be able to compare them to our logistic regression scores:"
   ]
  },
  {
   "cell_type": "code",
   "execution_count": 9,
   "metadata": {},
   "outputs": [
    {
     "name": "stdout",
     "output_type": "stream",
     "text": [
      "Validation scores for the benchmark model\n",
      " LogLoss: 0.7603\n",
      " Accuracy: 0.69 \n"
     ]
    }
   ],
   "source": [
    "predictions = val_data[\"word_share\"]\n",
    "\n",
    "loss = log_loss(val_labels, predictions)\n",
    "acc = accuracy_score(val_labels, np.rint(predictions))\n",
    "\n",
    "print \"Validation scores for the benchmark model\\n LogLoss: {:.4f}\\n Accuracy: {:.2f} \".format(loss, acc)"
   ]
  },
  {
   "cell_type": "markdown",
   "metadata": {},
   "source": [
    "and let's create a ROC plot for the benchmark model too:"
   ]
  },
  {
   "cell_type": "code",
   "execution_count": 10,
   "metadata": {},
   "outputs": [
    {
     "data": {
      "image/png": "[encoded data removed]",
      "text/plain": [
       "<matplotlib.figure.Figure at 0x7f1cbac8b990>"
      ]
     },
     "metadata": {},
     "output_type": "display_data"
    }
   ],
   "source": [
    "plt = utility.create_roc_plot(val_labels, predictions, \"Benchmark Model\")\n",
    "plt.savefig(\"../output/figures/word_share_roc_plot.png\")\n",
    "plt.show()"
   ]
  }
 ],
 "metadata": {
  "kernelspec": {
   "display_name": "Python 2",
   "language": "python",
   "name": "python2"
  },
  "language_info": {
   "codemirror_mode": {
    "name": "ipython",
    "version": 2
   },
   "file_extension": ".py",
   "mimetype": "text/x-python",
   "name": "python",
   "nbconvert_exporter": "python",
   "pygments_lexer": "ipython2",
   "version": "2.7.13"
  }
 },
 "nbformat": 4,
 "nbformat_minor": 2
}

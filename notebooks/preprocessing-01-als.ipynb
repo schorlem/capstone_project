{
 "cells": [
  {
   "cell_type": "code",
   "execution_count": 1,
   "metadata": {
    "collapsed": true
   },
   "outputs": [],
   "source": [
    "import pandas as pd\n",
    "import pickle\n",
    "from sklearn.pipeline import FeatureUnion\n",
    "from capstone_project import preprocessor"
   ]
  },
  {
   "cell_type": "code",
   "execution_count": 2,
   "metadata": {
    "collapsed": true
   },
   "outputs": [],
   "source": [
    "#the current working directory for python is the capstone_project/notebook folder\n",
    "file_directory = \"../output/data/\"\n",
    "\n",
    "train_data = pd.read_pickle(file_directory+\"train_data.pkl\")\n",
    "train_data.fillna(\"\", inplace=True)\n",
    "\n",
    "test_data = pd.read_pickle(file_directory+\"test_data.pkl\")\n",
    "test_data.fillna(\"\", inplace=True)"
   ]
  },
  {
   "cell_type": "code",
   "execution_count": 3,
   "metadata": {},
   "outputs": [
    {
     "data": {
      "text/plain": [
       "FeatureUnion(n_jobs=1,\n",
       "       transformer_list=[('feature_engineering', FeatureTransformer()), ('tfidf', TfidfTransformer())],\n",
       "       transformer_weights=None)"
      ]
     },
     "execution_count": 3,
     "metadata": {},
     "output_type": "execute_result"
    }
   ],
   "source": [
    "#train_data = train_data[:30]\n",
    "#test_data = test_data[:30]\n",
    "\n",
    "tfidf = preprocessor.TfidfTransformer()\n",
    "feature_egineering = preprocessor.FeatureTransformer()\n",
    "\n",
    "train_y = train_data[\"is_duplicate\"].values\n",
    "test_y = test_data[\"is_duplicate\"].values\n",
    "\n",
    "feature_creator = FeatureUnion([('feature_engineering', feature_egineering), ('tfidf', tfidf)])\n",
    "\n",
    "feature_creator.fit(train_data, train_y)"
   ]
  },
  {
   "cell_type": "code",
   "execution_count": 4,
   "metadata": {
    "collapsed": true
   },
   "outputs": [],
   "source": [
    "train_features = feature_creator.transform(train_data)\n",
    "test_features = feature_creator.transform(test_data)"
   ]
  },
  {
   "cell_type": "code",
   "execution_count": 5,
   "metadata": {
    "collapsed": true
   },
   "outputs": [],
   "source": [
    "def save_output(dataset, file_name):\n",
    "    with open (file_name, \"wb\") as handle:\n",
    "        pickle.dump(dataset, handle)"
   ]
  },
  {
   "cell_type": "code",
   "execution_count": 6,
   "metadata": {
    "collapsed": true
   },
   "outputs": [],
   "source": [
    "prefix = \"second_test_\"\n",
    "\n",
    "save_output(train_data, file_directory+prefix+\"preprocessed_train_data.pkl\") \n",
    "save_output(test_data, file_directory+prefix+\"preprocessed_test_data.pkl\")\n",
    "save_output(train_y, file_directory+prefix+\"preprocessed_train_labels.pkl\")\n",
    "save_output(test_y, file_directory+prefix+\"preprocessed_test_labels.pkl\")"
   ]
  }
 ],
 "metadata": {
  "kernelspec": {
   "display_name": "Python 2",
   "language": "python",
   "name": "python2"
  },
  "language_info": {
   "codemirror_mode": {
    "name": "ipython",
    "version": 2
   },
   "file_extension": ".py",
   "mimetype": "text/x-python",
   "name": "python",
   "nbconvert_exporter": "python",
   "pygments_lexer": "ipython2",
   "version": "2.7.13"
  }
 },
 "nbformat": 4,
 "nbformat_minor": 2
}

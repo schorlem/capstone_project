{
 "cells": [
  {
   "cell_type": "code",
   "execution_count": 1,
   "metadata": {
    "collapsed": true
   },
   "outputs": [],
   "source": [
    "import pandas as pd\n",
    "#from IPython.display import display\n",
    "from sklearn.pipeline import FeatureUnion\n",
    "#from nltk.corpus import stopwords\n",
    "#from sklearn.pipeline import Pipeline\n",
    "#from sklearn.linear_model import LogisticRegression\n",
    "#from sklearn.feature_extraction.text import TfidfVectorizer\n",
    "#from sklearn.linear_model import LogisticRegression\n",
    "\n",
    "from capstone_project import preprocessor\n",
    "\n",
    "#%matplotlib inline"
   ]
  },
  {
   "cell_type": "code",
   "execution_count": 2,
   "metadata": {
    "collapsed": true
   },
   "outputs": [],
   "source": [
    "#the current working directory for python is the capstone_project/notebook folder\n",
    "train_data = pd.read_pickle(\"../output/data/train_data.pkl\")\n",
    "data.fillna(\"\", inplace=True)"
   ]
  },
  {
   "cell_type": "code",
   "execution_count": 3,
   "metadata": {},
   "outputs": [
    {
     "data": {
      "text/plain": [
       "FeatureUnion(n_jobs=1,\n",
       "       transformer_list=[('feature_engineering', FeatureTransformer()), ('tfidf', TfidfTransformer())],\n",
       "       transformer_weights=None)"
      ]
     },
     "execution_count": 3,
     "metadata": {},
     "output_type": "execute_result"
    }
   ],
   "source": [
    "data = data[:30]\n",
    "tfidf = preprocessor.TfidfTransformer()\n",
    "feature_egineering = preprocessor.FeatureTransformer()\n",
    "#clf = LogisticRegression()\n",
    "\n",
    "y = data[\"is_duplicate\"].values\n",
    "\n",
    "feature_creator = FeatureUnion([('feature_engineering', feature_egineering), ('tfidf', tfidf)])\n",
    "\n",
    "feature_creator.fit(data, y)"
   ]
  },
  {
   "cell_type": "code",
   "execution_count": 9,
   "metadata": {},
   "outputs": [
    {
     "name": "stdout",
     "output_type": "stream",
     "text": [
      "[ 33.          31.           0.33333333   0.           0.           0.           0.\n",
      "   0.           0.           0.           0.           0.           0.           0.\n",
      "   0.           0.           0.           0.           0.           0.           0.\n",
      "   0.           0.           0.           0.           0.           0.           0.\n",
      "   0.           0.           0.           0.           0.           0.           0.\n",
      "   0.           0.           0.           0.           0.           0.           0.\n",
      "   0.           0.           0.           0.           0.           0.           0.\n",
      "   0.59497875   0.           0.           0.           0.           0.           0.\n",
      "   0.           0.           0.           0.           0.           0.           0.\n",
      "   0.           0.           0.           0.59497875   0.           0.           0.\n",
      "   0.           0.           0.           0.           0.           0.           0.\n",
      "   0.           0.           0.           0.           0.           0.           0.\n",
      "   0.           0.           0.           0.           0.           0.           0.\n",
      "   0.           0.           0.           0.           0.           0.           0.\n",
      "   0.           0.           0.           0.           0.           0.           0.\n",
      "   0.           0.           0.           0.           0.           0.           0.\n",
      "   0.           0.           0.           0.           0.           0.           0.\n",
      "   0.           0.           0.           0.           0.           0.           0.\n",
      "   0.           0.           0.           0.           0.           0.           0.\n",
      "   0.           0.           0.           0.           0.           0.           0.\n",
      "   0.           0.           0.           0.           0.           0.           0.\n",
      "   0.           0.           0.           0.           0.           0.           0.\n",
      "   0.           0.           0.           0.           0.           0.           0.\n",
      "   0.           0.           0.           0.           0.           0.           0.\n",
      "   0.           0.           0.           0.           0.           0.           0.\n",
      "   0.           0.           0.           0.           0.           0.           0.\n",
      "   0.           0.           0.           0.           0.           0.           0.\n",
      "   0.           0.           0.54037077   0.           0.           0.           0.\n",
      "   0.           0.           0.           0.           0.           0.           0.\n",
      "   0.           0.           0.           0.           0.           0.           0.\n",
      "   0.           0.           0.           0.           0.           0.           0.\n",
      "   0.           0.           0.           0.           0.           0.           0.\n",
      "   0.           0.           0.           0.           0.           0.           0.\n",
      "   0.           0.           0.           0.           0.           0.           0.\n",
      "   0.           0.           0.           0.           0.           0.           0.\n",
      "   0.           0.           0.           0.           0.           0.           0.\n",
      "   0.           0.           0.           0.           0.           0.           0.\n",
      "   0.           0.           0.           0.           0.           0.           0.\n",
      "   0.           0.           0.           0.           0.           0.           0.\n",
      "   0.           0.           0.           0.           0.           0.           0.\n",
      "   0.           0.           0.           0.           0.           0.           0.\n",
      "   0.           0.           0.           0.           0.           0.           0.\n",
      "   0.           0.           0.           0.           0.           0.           0.\n",
      "   0.           0.           0.           0.           0.           0.           0.\n",
      "   0.           0.           0.           0.           0.           0.           0.\n",
      "   0.           0.           0.           0.           0.           0.           0.\n",
      "   0.           0.           0.59497875   0.           0.           0.           0.\n",
      "   0.           0.           0.           0.           0.           0.           0.\n",
      "   0.           0.           0.           0.           0.           0.           0.\n",
      "   0.           0.           0.           0.           0.           0.           0.\n",
      "   0.           0.           0.           0.           0.           0.           0.\n",
      "   0.           0.           0.           0.           0.           0.           0.\n",
      "   0.           0.           0.           0.           0.           0.           0.\n",
      "   0.           0.           0.           0.           0.           0.           0.\n",
      "   0.           0.           0.           0.           0.           0.           0.\n",
      "   0.           0.           0.           0.           0.           0.           0.\n",
      "   0.           0.           0.           0.           0.           0.           0.\n",
      "   0.           0.           0.           0.           0.           0.           0.\n",
      "   0.           0.           0.           0.           0.           0.59497875\n",
      "   0.           0.           0.           0.           0.           0.           0.\n",
      "   0.           0.           0.           0.           0.           0.           0.\n",
      "   0.           0.           0.54037077   0.           0.           0.           0.\n",
      "   0.           0.           0.           0.           0.           0.           0.\n",
      "   0.           0.           0.           0.           0.           0.           0.\n",
      "   0.           0.           0.           0.           0.           0.           0.\n",
      "   0.           0.           0.           0.           0.           0.           0.\n",
      "   0.           0.           0.           0.           0.           0.           0.\n",
      "   0.           0.           0.           0.           0.           0.           0.\n",
      "   0.           0.        ]\n"
     ]
    }
   ],
   "source": [
    "features = feature_creator.transform(data)\n",
    "print features.toarray()[0],"
   ]
  },
  {
   "cell_type": "code",
   "execution_count": null,
   "metadata": {
    "collapsed": true
   },
   "outputs": [],
   "source": []
  }
 ],
 "metadata": {
  "kernelspec": {
   "display_name": "Python 2",
   "language": "python",
   "name": "python2"
  },
  "language_info": {
   "codemirror_mode": {
    "name": "ipython",
    "version": 2
   },
   "file_extension": ".py",
   "mimetype": "text/x-python",
   "name": "python",
   "nbconvert_exporter": "python",
   "pygments_lexer": "ipython2",
   "version": "2.7.13"
  }
 },
 "nbformat": 4,
 "nbformat_minor": 2
}

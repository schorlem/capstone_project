{
 "cells": [
  {
   "cell_type": "code",
   "execution_count": 1,
   "metadata": {},
   "outputs": [
    {
     "data": {
      "application/vnd.jupyter.widget-view+json": {
       "model_id": "0bc9166d238048a98c1b759a85b2c9ea"
      }
     },
     "metadata": {},
     "output_type": "display_data"
    },
    {
     "name": "stdout",
     "output_type": "stream",
     "text": [
      "\n"
     ]
    }
   ],
   "source": [
    "import os\n",
    "import pandas as pd\n",
    "import pickle\n",
    "import gensim\n",
    "from IPython.display import display\n",
    "from engarde.decorators import has_dtypes\n",
    "from sklearn.pipeline import Pipeline, FeatureUnion\n",
    "from sklearn.linear_model import LogisticRegression\n",
    "from sklearn.model_selection import StratifiedKFold, cross_val_score, RandomizedSearchCV\n",
    "from tqdm import tqdm_notebook\n",
    "from capstone_project import preprocessor\n",
    "\n",
    "tqdm_notebook().pandas(desc=\"Progress:\")"
   ]
  },
  {
   "cell_type": "code",
   "execution_count": 2,
   "metadata": {
    "collapsed": true
   },
   "outputs": [],
   "source": [
    "# Make sure that the loaded dataframe has the correct layout otherwise throw assertion error \n",
    "@has_dtypes(dict(question1=object, question2=object, is_duplicate=int))\n",
    "def load_data(filename):\n",
    "    \"\"\"Load dataframe using filename as input. A pandas dataframe is returned and it is checked that it \n",
    "    has the correct layout.\n",
    "    \"\"\"\n",
    "    df = pd.read_pickle(filename)\n",
    "    return df"
   ]
  },
  {
   "cell_type": "code",
   "execution_count": 3,
   "metadata": {
    "collapsed": true
   },
   "outputs": [],
   "source": [
    "# The current working directory for python is the capstone_project/notebook folder\n",
    "file_directory = \"../output/data/\"\n",
    "\n",
    "train_data = load_data(file_directory+\"train_data.pkl\")\n",
    "#train_data = train_data[0:1]\n",
    "\n",
    "test_data = load_data(file_directory+\"test_data.pkl\")\n",
    "#test_data = test_data[0:1]"
   ]
  },
  {
   "cell_type": "code",
   "execution_count": 4,
   "metadata": {
    "scrolled": true
   },
   "outputs": [
    {
     "data": {
      "application/vnd.jupyter.widget-view+json": {
       "model_id": "d2b93918522943cdb12550a56b852472"
      }
     },
     "metadata": {},
     "output_type": "display_data"
    },
    {
     "name": "stdout",
     "output_type": "stream",
     "text": [
      "\n"
     ]
    },
    {
     "data": {
      "application/vnd.jupyter.widget-view+json": {
       "model_id": "5671c0df24624e0db4c58b9499e9f085"
      }
     },
     "metadata": {},
     "output_type": "display_data"
    },
    {
     "name": "stdout",
     "output_type": "stream",
     "text": [
      "\n"
     ]
    },
    {
     "data": {
      "application/vnd.jupyter.widget-view+json": {
       "model_id": "b467e2f0691f4258bad8dc8938c41690"
      }
     },
     "metadata": {},
     "output_type": "display_data"
    },
    {
     "name": "stdout",
     "output_type": "stream",
     "text": [
      "\n"
     ]
    },
    {
     "data": {
      "application/vnd.jupyter.widget-view+json": {
       "model_id": "ce01d3eb703443fa98661f9014a14bfd"
      }
     },
     "metadata": {},
     "output_type": "display_data"
    },
    {
     "name": "stdout",
     "output_type": "stream",
     "text": [
      "\n"
     ]
    }
   ],
   "source": [
    "train_data.fillna(\"\", inplace=True)  # Two questions have empty fields\n",
    "train_data[\"q1_tokens\"] = train_data[\"question1\"].progress_apply(preprocessor.tokenize)\n",
    "train_data[\"q2_tokens\"] = train_data[\"question2\"].progress_apply(preprocessor.tokenize)\n",
    "\n",
    "test_data.fillna(\"\", inplace=True)  # Two questions have empty fields\n",
    "test_data[\"q1_tokens\"] = test_data[\"question1\"].progress_apply(preprocessor.tokenize)\n",
    "test_data[\"q2_tokens\"] = test_data[\"question2\"].progress_apply(preprocessor.tokenize)"
   ]
  },
  {
   "cell_type": "code",
   "execution_count": 5,
   "metadata": {
    "scrolled": false
   },
   "outputs": [
    {
     "data": {
      "application/vnd.jupyter.widget-view+json": {
       "model_id": "114a3065f9004357b1247c0fe33b631a"
      }
     },
     "metadata": {},
     "output_type": "display_data"
    },
    {
     "name": "stdout",
     "output_type": "stream",
     "text": [
      "\n"
     ]
    },
    {
     "data": {
      "application/vnd.jupyter.widget-view+json": {
       "model_id": "4de540125dc8483ab4307c1888ca1613"
      }
     },
     "metadata": {},
     "output_type": "display_data"
    },
    {
     "name": "stdout",
     "output_type": "stream",
     "text": [
      "\n"
     ]
    },
    {
     "data": {
      "application/vnd.jupyter.widget-view+json": {
       "model_id": "abe209f64a2f4f5cbd2476bcc059d906"
      }
     },
     "metadata": {},
     "output_type": "display_data"
    },
    {
     "name": "stdout",
     "output_type": "stream",
     "text": [
      "\n"
     ]
    },
    {
     "data": {
      "application/vnd.jupyter.widget-view+json": {
       "model_id": "d9f590958f144218b9e784d7837d0244"
      }
     },
     "metadata": {},
     "output_type": "display_data"
    },
    {
     "name": "stdout",
     "output_type": "stream",
     "text": [
      "\n"
     ]
    }
   ],
   "source": [
    "word2vec_model = gensim.models.KeyedVectors.load_word2vec_format('../data/GoogleNews-vectors-negative300.bin.gz', binary=True)\n",
    "\n",
    "train_data[\"q1_word2vec\"] = train_data[\"q1_tokens\"].progress_apply(lambda x: preprocessor.question_to_vector(x, model=word2vec_model))\n",
    "train_data[\"q2_word2vec\"] = train_data[\"q2_tokens\"].progress_apply(lambda x: preprocessor.question_to_vector(x, model=word2vec_model))\n",
    "\n",
    "test_data[\"q1_word2vec\"] = test_data[\"q1_tokens\"].progress_apply(lambda x: preprocessor.question_to_vector(x, model=word2vec_model))\n",
    "test_data[\"q2_word2vec\"] = test_data[\"q2_tokens\"].progress_apply(lambda x: preprocessor.question_to_vector(x, model=word2vec_model))"
   ]
  },
  {
   "cell_type": "code",
   "execution_count": 6,
   "metadata": {
    "scrolled": false
   },
   "outputs": [
    {
     "data": {
      "text/html": [
       "<div>\n",
       "<table border=\"1\" class=\"dataframe\">\n",
       "  <thead>\n",
       "    <tr style=\"text-align: right;\">\n",
       "      <th></th>\n",
       "      <th>id</th>\n",
       "      <th>qid1</th>\n",
       "      <th>qid2</th>\n",
       "      <th>question1</th>\n",
       "      <th>question2</th>\n",
       "      <th>is_duplicate</th>\n",
       "      <th>q1_tokens</th>\n",
       "      <th>q2_tokens</th>\n",
       "      <th>q1_word2vec</th>\n",
       "      <th>q2_word2vec</th>\n",
       "    </tr>\n",
       "  </thead>\n",
       "  <tbody>\n",
       "    <tr>\n",
       "      <th>218104</th>\n",
       "      <td>218104</td>\n",
       "      <td>430027</td>\n",
       "      <td>430028</td>\n",
       "      <td>How do I build a self confidence?</td>\n",
       "      <td>How can I raise my self esteem?</td>\n",
       "      <td>1</td>\n",
       "      <td>[build, self, confidence]</td>\n",
       "      <td>[raise, self, esteem]</td>\n",
       "      <td>[[-0.143555, 0.216797, 0.0388184, 0.0898438, -...</td>\n",
       "      <td>[[-0.027832, -0.0922852, -0.134766, 0.237305, ...</td>\n",
       "    </tr>\n",
       "  </tbody>\n",
       "</table>\n",
       "</div>"
      ],
      "text/plain": [
       "            id    qid1    qid2                          question1  \\\n",
       "218104  218104  430027  430028  How do I build a self confidence?   \n",
       "\n",
       "                              question2  is_duplicate  \\\n",
       "218104  How can I raise my self esteem?             1   \n",
       "\n",
       "                        q1_tokens              q2_tokens  \\\n",
       "218104  [build, self, confidence]  [raise, self, esteem]   \n",
       "\n",
       "                                              q1_word2vec  \\\n",
       "218104  [[-0.143555, 0.216797, 0.0388184, 0.0898438, -...   \n",
       "\n",
       "                                              q2_word2vec  \n",
       "218104  [[-0.027832, -0.0922852, -0.134766, 0.237305, ...  "
      ]
     },
     "metadata": {},
     "output_type": "display_data"
    },
    {
     "data": {
      "text/html": [
       "<div>\n",
       "<table border=\"1\" class=\"dataframe\">\n",
       "  <thead>\n",
       "    <tr style=\"text-align: right;\">\n",
       "      <th></th>\n",
       "      <th>id</th>\n",
       "      <th>qid1</th>\n",
       "      <th>qid2</th>\n",
       "      <th>question1</th>\n",
       "      <th>question2</th>\n",
       "      <th>is_duplicate</th>\n",
       "      <th>q1_tokens</th>\n",
       "      <th>q2_tokens</th>\n",
       "      <th>q1_word2vec</th>\n",
       "      <th>q2_word2vec</th>\n",
       "    </tr>\n",
       "  </thead>\n",
       "  <tbody>\n",
       "    <tr>\n",
       "      <th>113079</th>\n",
       "      <td>113079</td>\n",
       "      <td>224193</td>\n",
       "      <td>224194</td>\n",
       "      <td>What does horny goat weed do?</td>\n",
       "      <td>What is horny goat weed?</td>\n",
       "      <td>1</td>\n",
       "      <td>[horny, goat, weed]</td>\n",
       "      <td>[horny, goat, weed]</td>\n",
       "      <td>[[0.0140991, -0.0334473, -0.111328, 0.304688, ...</td>\n",
       "      <td>[[0.0140991, -0.0334473, -0.111328, 0.304688, ...</td>\n",
       "    </tr>\n",
       "  </tbody>\n",
       "</table>\n",
       "</div>"
      ],
      "text/plain": [
       "            id    qid1    qid2                      question1  \\\n",
       "113079  113079  224193  224194  What does horny goat weed do?   \n",
       "\n",
       "                       question2  is_duplicate            q1_tokens  \\\n",
       "113079  What is horny goat weed?             1  [horny, goat, weed]   \n",
       "\n",
       "                  q2_tokens  \\\n",
       "113079  [horny, goat, weed]   \n",
       "\n",
       "                                              q1_word2vec  \\\n",
       "113079  [[0.0140991, -0.0334473, -0.111328, 0.304688, ...   \n",
       "\n",
       "                                              q2_word2vec  \n",
       "113079  [[0.0140991, -0.0334473, -0.111328, 0.304688, ...  "
      ]
     },
     "metadata": {},
     "output_type": "display_data"
    }
   ],
   "source": [
    "display(train_data.head(1))\n",
    "display(test_data.head(1))"
   ]
  },
  {
   "cell_type": "code",
   "execution_count": 7,
   "metadata": {
    "collapsed": true
   },
   "outputs": [],
   "source": [
    "def save_as_pickle(dataset, output_dir, filename):\n",
    "    if not os.path.exists(output_dir):\n",
    "        os.makedirs(output_dir)\n",
    "    with open (output_dir+filename, \"wb\") as handle:\n",
    "        pickle.dump(dataset, handle)"
   ]
  },
  {
   "cell_type": "code",
   "execution_count": 8,
   "metadata": {},
   "outputs": [],
   "source": [
    "prefix = \"first_test_\"\n",
    "\n",
    "save_as_pickle(train_data, file_directory, prefix+\"preprocessed_train_data.pkl\") \n",
    "save_as_pickle(test_data, file_directory, prefix+\"preprocessed_test_data.pkl\") "
   ]
  },
  {
   "cell_type": "code",
   "execution_count": 9,
   "metadata": {
    "collapsed": true,
    "scrolled": false
   },
   "outputs": [],
   "source": [
    "skf = StratifiedKFold(n_splits=3, random_state=12574, shuffle=True)\n",
    "output_directory = \"../output/models/\"\n",
    "save_as_pickle(skf, output_directory, \"kfolds.pkl\") "
   ]
  }
 ],
 "metadata": {
  "kernelspec": {
   "display_name": "Python 2",
   "language": "python",
   "name": "python2"
  },
  "language_info": {
   "codemirror_mode": {
    "name": "ipython",
    "version": 2
   },
   "file_extension": ".py",
   "mimetype": "text/x-python",
   "name": "python",
   "nbconvert_exporter": "python",
   "pygments_lexer": "ipython2",
   "version": "2.7.13"
  }
 },
 "nbformat": 4,
 "nbformat_minor": 1
}

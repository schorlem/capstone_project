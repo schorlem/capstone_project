{
 "cells": [
  {
   "cell_type": "markdown",
   "metadata": {},
   "source": [
    "# <center> Feature engineering </center>"
   ]
  },
  {
   "cell_type": "markdown",
   "metadata": {},
   "source": [
    "All preprocessing steps that do not implement a fit method are applied in this notebook.  All transformers that implement a fit function must be applied in a later step in order for cross validation to work correctly."
   ]
  },
  {
   "cell_type": "code",
   "execution_count": 1,
   "metadata": {
    "collapsed": true
   },
   "outputs": [],
   "source": [
    "import gensim\n",
    "import numpy as np\n",
    "import pandas as pd\n",
    "from time import time\n",
    "from IPython.display import display\n",
    "from sklearn.preprocessing import MinMaxScaler\n",
    "from sklearn.pipeline import Pipeline, FeatureUnion\n",
    "from capstone_project import preprocessor as pre\n",
    "from capstone_project import utility"
   ]
  },
  {
   "cell_type": "markdown",
   "metadata": {},
   "source": [
    "Load tokenized datasets:"
   ]
  },
  {
   "cell_type": "code",
   "execution_count": 2,
   "metadata": {
    "collapsed": true
   },
   "outputs": [],
   "source": [
    "# The current working directory for python is the capstone_project/notebook folder\n",
    "file_directory = \"../output/data/\"\n",
    "prefix = \"tokenized_\"\n",
    "\n",
    "train_data = utility.load_pickle(file_directory, prefix+\"train_data.pkl\")\n",
    "val_data = utility.load_pickle(file_directory, prefix+\"val_data.pkl\")\n",
    "test_data = utility.load_pickle(file_directory, prefix+\"test_data.pkl\")"
   ]
  },
  {
   "cell_type": "markdown",
   "metadata": {},
   "source": [
    "Check that correct dataframes have been loaded by displaying them:"
   ]
  },
  {
   "cell_type": "code",
   "execution_count": 3,
   "metadata": {},
   "outputs": [
    {
     "data": {
      "text/html": [
       "<div>\n",
       "<table border=\"1\" class=\"dataframe\">\n",
       "  <thead>\n",
       "    <tr style=\"text-align: right;\">\n",
       "      <th></th>\n",
       "      <th>id</th>\n",
       "      <th>qid1</th>\n",
       "      <th>qid2</th>\n",
       "      <th>question1</th>\n",
       "      <th>question2</th>\n",
       "      <th>is_duplicate</th>\n",
       "      <th>q1_tokens</th>\n",
       "      <th>q2_tokens</th>\n",
       "    </tr>\n",
       "  </thead>\n",
       "  <tbody>\n",
       "    <tr>\n",
       "      <th>355802</th>\n",
       "      <td>355802</td>\n",
       "      <td>696825</td>\n",
       "      <td>696826</td>\n",
       "      <td>Which are the best songs of Enrique Iglesias?</td>\n",
       "      <td>Which is the best song of Enrique iglesias?</td>\n",
       "      <td>1</td>\n",
       "      <td>[good, song, enrique, iglesias]</td>\n",
       "      <td>[good, song, enrique, iglesias]</td>\n",
       "    </tr>\n",
       "  </tbody>\n",
       "</table>\n",
       "</div>"
      ],
      "text/plain": [
       "            id    qid1    qid2                                      question1  \\\n",
       "355802  355802  696825  696826  Which are the best songs of Enrique Iglesias?   \n",
       "\n",
       "                                          question2  is_duplicate  \\\n",
       "355802  Which is the best song of Enrique iglesias?             1   \n",
       "\n",
       "                              q1_tokens                        q2_tokens  \n",
       "355802  [good, song, enrique, iglesias]  [good, song, enrique, iglesias]  "
      ]
     },
     "metadata": {},
     "output_type": "display_data"
    },
    {
     "data": {
      "text/html": [
       "<div>\n",
       "<table border=\"1\" class=\"dataframe\">\n",
       "  <thead>\n",
       "    <tr style=\"text-align: right;\">\n",
       "      <th></th>\n",
       "      <th>id</th>\n",
       "      <th>qid1</th>\n",
       "      <th>qid2</th>\n",
       "      <th>question1</th>\n",
       "      <th>question2</th>\n",
       "      <th>is_duplicate</th>\n",
       "      <th>q1_tokens</th>\n",
       "      <th>q2_tokens</th>\n",
       "    </tr>\n",
       "  </thead>\n",
       "  <tbody>\n",
       "    <tr>\n",
       "      <th>304293</th>\n",
       "      <td>304293</td>\n",
       "      <td>597514</td>\n",
       "      <td>597515</td>\n",
       "      <td>Should i buy iPhone 7 or iPhone 6S?</td>\n",
       "      <td>Should I buy iPhone 6s or wait to buy iPhone 7?</td>\n",
       "      <td>1</td>\n",
       "      <td>[buy, iphone, 7, iphone, 6s]</td>\n",
       "      <td>[buy, iphone, 6s, wait, buy, iphone, 7]</td>\n",
       "    </tr>\n",
       "  </tbody>\n",
       "</table>\n",
       "</div>"
      ],
      "text/plain": [
       "            id    qid1    qid2                            question1  \\\n",
       "304293  304293  597514  597515  Should i buy iPhone 7 or iPhone 6S?   \n",
       "\n",
       "                                              question2  is_duplicate  \\\n",
       "304293  Should I buy iPhone 6s or wait to buy iPhone 7?             1   \n",
       "\n",
       "                           q1_tokens                                q2_tokens  \n",
       "304293  [buy, iphone, 7, iphone, 6s]  [buy, iphone, 6s, wait, buy, iphone, 7]  "
      ]
     },
     "metadata": {},
     "output_type": "display_data"
    },
    {
     "data": {
      "text/html": [
       "<div>\n",
       "<table border=\"1\" class=\"dataframe\">\n",
       "  <thead>\n",
       "    <tr style=\"text-align: right;\">\n",
       "      <th></th>\n",
       "      <th>id</th>\n",
       "      <th>qid1</th>\n",
       "      <th>qid2</th>\n",
       "      <th>question1</th>\n",
       "      <th>question2</th>\n",
       "      <th>is_duplicate</th>\n",
       "      <th>q1_tokens</th>\n",
       "      <th>q2_tokens</th>\n",
       "    </tr>\n",
       "  </thead>\n",
       "  <tbody>\n",
       "    <tr>\n",
       "      <th>113079</th>\n",
       "      <td>113079</td>\n",
       "      <td>224193</td>\n",
       "      <td>224194</td>\n",
       "      <td>What does horny goat weed do?</td>\n",
       "      <td>What is horny goat weed?</td>\n",
       "      <td>1</td>\n",
       "      <td>[horny, goat, weed]</td>\n",
       "      <td>[horny, goat, weed]</td>\n",
       "    </tr>\n",
       "  </tbody>\n",
       "</table>\n",
       "</div>"
      ],
      "text/plain": [
       "            id    qid1    qid2                      question1  \\\n",
       "113079  113079  224193  224194  What does horny goat weed do?   \n",
       "\n",
       "                       question2  is_duplicate            q1_tokens  \\\n",
       "113079  What is horny goat weed?             1  [horny, goat, weed]   \n",
       "\n",
       "                  q2_tokens  \n",
       "113079  [horny, goat, weed]  "
      ]
     },
     "metadata": {},
     "output_type": "display_data"
    }
   ],
   "source": [
    "display(train_data.head(1))\n",
    "display(val_data.head(1))\n",
    "display(test_data.head(1))"
   ]
  },
  {
   "cell_type": "markdown",
   "metadata": {},
   "source": [
    "Load pretrained word2vec model. The model can be downloaded at: https://drive.google.com/file/d/0B7XkCwpI5KDYNlNUTTlSS21pQmM/edit?usp=sharing"
   ]
  },
  {
   "cell_type": "code",
   "execution_count": 4,
   "metadata": {
    "collapsed": true
   },
   "outputs": [],
   "source": [
    "word2vec_model = gensim.models.KeyedVectors.load_word2vec_format(\"../data/GoogleNews-vectors-negative300.bin.gz\", binary=True)"
   ]
  },
  {
   "cell_type": "markdown",
   "metadata": {},
   "source": [
    "Next we will create the feature transformers and add them to a pipeline that we will use to create the new features. We will create two different types of features. The first type the word features are derived from the text data directly. The second type the word2vec feature are derived from word vectors. The word2vec transformer creates the word vectors."
   ]
  },
  {
   "cell_type": "code",
   "execution_count": 5,
   "metadata": {
    "collapsed": true
   },
   "outputs": [],
   "source": [
    "word_features = pre.FeatureTransformer()\n",
    "word2vec_transform = pre.Word2vecTransformer()\n",
    "word2vec_features = pre.VectorFeatureTransformer()"
   ]
  },
  {
   "cell_type": "markdown",
   "metadata": {},
   "source": [
    "Create word2vec pipeline and the feature union:"
   ]
  },
  {
   "cell_type": "code",
   "execution_count": 6,
   "metadata": {},
   "outputs": [
    {
     "name": "stdout",
     "output_type": "stream",
     "text": [
      "['n_jobs', 'word2vec_pipeline', 'word2vec_pipeline__vec_transformer__model', 'transformer_weights', 'word2vec_pipeline__steps', 'word2vec_pipeline__vec_transformer', 'word2vec_pipeline__vec_features', 'transformer_list', 'word_features', 'word2vec_pipeline__vec_transformer__sum_up']\n"
     ]
    }
   ],
   "source": [
    "word2vec_pipe = Pipeline([(\"vec_transformer\", word2vec_transform), (\"vec_features\", word2vec_features)])\n",
    "feature_creator = FeatureUnion([('word_features', word_features), ('word2vec_pipeline', word2vec_pipe)])\n",
    "\n",
    "print feature_creator.get_params().keys()"
   ]
  },
  {
   "cell_type": "markdown",
   "metadata": {},
   "source": [
    "The pretrained word2vec model needs to be passed as parameter to the vector transformer:"
   ]
  },
  {
   "cell_type": "code",
   "execution_count": 7,
   "metadata": {},
   "outputs": [
    {
     "data": {
      "text/plain": [
       "FeatureUnion(n_jobs=1,\n",
       "       transformer_list=[('word_features', FeatureTransformer()), ('word2vec_pipeline', Pipeline(steps=[('vec_transformer', Word2vecTransformer(model=<gensim.models.keyedvectors.KeyedVectors object at 0x7f48a3758dd0>,\n",
       "          sum_up=False)), ('vec_features', VectorFeatureTransformer())]))],\n",
       "       transformer_weights=None)"
      ]
     },
     "execution_count": 7,
     "metadata": {},
     "output_type": "execute_result"
    }
   ],
   "source": [
    "initial_params = {\"word2vec_pipeline__vec_transformer__model\": word2vec_model}\n",
    "feature_creator.set_params(**initial_params) "
   ]
  },
  {
   "cell_type": "markdown",
   "metadata": {},
   "source": [
    "Now we are ready to transform the text data into features. The execution produces some warnings because the transformation of some questions produce nan values. These nan values are filled within the transformer methods."
   ]
  },
  {
   "cell_type": "code",
   "execution_count": 8,
   "metadata": {},
   "outputs": [
    {
     "name": "stderr",
     "output_type": "stream",
     "text": [
      "/home/andre/software/anaconda3/envs/capstone_project/lib/python2.7/site-packages/scipy/spatial/distance.py:505: RuntimeWarning: invalid value encountered in double_scalars\n",
      "  dist = 1.0 - np.dot(u, v) / (norm(u) * norm(v))\n",
      "/home/andre/software/anaconda3/envs/capstone_project/lib/python2.7/site-packages/scipy/spatial/distance.py:616: RuntimeWarning: invalid value encountered in double_scalars\n",
      "  np.double(np.bitwise_or(u != 0, v != 0).sum()))\n",
      "/home/andre/software/anaconda3/envs/capstone_project/lib/python2.7/site-packages/scipy/spatial/distance.py:810: RuntimeWarning: invalid value encountered in double_scalars\n",
      "  return abs(u - v).sum() / abs(u + v).sum()\n"
     ]
    },
    {
     "name": "stdout",
     "output_type": "stream",
     "text": [
      "Data transformation took 10.28 minutes.\n"
     ]
    }
   ],
   "source": [
    "start = time()\n",
    "# Fit needs to be called as part of a pipeline even if it is just implemented as an empty method\n",
    "train_features = feature_creator.fit_transform(train_data)  \n",
    "val_features = feature_creator.fit_transform(val_data)\n",
    "test_features = feature_creator.fit_transform(test_data)\n",
    "print \"Data transformation took {:.2f} minutes.\".format((time() - start)/60)"
   ]
  },
  {
   "cell_type": "markdown",
   "metadata": {},
   "source": [
    "The pipeline class in scikit learn does not implement a get_feature_names method. Thus it is necessary to extract the names of the newly created features manually. It is important to make sure that the order is correct, because it depends on the properties of the feature union defined above."
   ]
  },
  {
   "cell_type": "code",
   "execution_count": 9,
   "metadata": {
    "collapsed": true
   },
   "outputs": [],
   "source": [
    "feature_names_1 = feature_creator.get_params()[\"word_features\"].get_feature_names() \n",
    "feature_names_2 = feature_creator.get_params()[\"word2vec_pipeline\"].named_steps[\"vec_features\"].get_feature_names()\n",
    "feature_names = list(feature_names_1) + list(feature_names_2)"
   ]
  },
  {
   "cell_type": "markdown",
   "metadata": {},
   "source": [
    "Create dataframes that hold the newly created features:"
   ]
  },
  {
   "cell_type": "code",
   "execution_count": 10,
   "metadata": {
    "collapsed": true
   },
   "outputs": [],
   "source": [
    "train_features = pd.DataFrame(train_features, columns=feature_names)\n",
    "val_features = pd.DataFrame(val_features, columns=feature_names)\n",
    "test_features = pd.DataFrame(test_features, columns=feature_names)"
   ]
  },
  {
   "cell_type": "markdown",
   "metadata": {},
   "source": [
    "Check that dataframes have been created correctly by printing them:"
   ]
  },
  {
   "cell_type": "code",
   "execution_count": 11,
   "metadata": {},
   "outputs": [
    {
     "data": {
      "text/html": [
       "<div>\n",
       "<table border=\"1\" class=\"dataframe\">\n",
       "  <thead>\n",
       "    <tr style=\"text-align: right;\">\n",
       "      <th></th>\n",
       "      <th>q1_length</th>\n",
       "      <th>q2_length</th>\n",
       "      <th>diff_length</th>\n",
       "      <th>q1_n_words</th>\n",
       "      <th>q2_n_words</th>\n",
       "      <th>q1_len_word_ratio</th>\n",
       "      <th>q2_len_word_ratio</th>\n",
       "      <th>word_share</th>\n",
       "      <th>word2vec_cosine_distance</th>\n",
       "      <th>word2vec_cityblock_distance</th>\n",
       "      <th>word2vec_jaccard_distance</th>\n",
       "      <th>word2vec_canberra_distance</th>\n",
       "      <th>word2vec_minkowski_distance</th>\n",
       "      <th>word2vec_euclidean_distance</th>\n",
       "      <th>word2vec_braycurtis_distance</th>\n",
       "      <th>word2vec_skew_q1</th>\n",
       "      <th>word2vec_skew_q2</th>\n",
       "      <th>word2vec_kurtosis_q1</th>\n",
       "      <th>word2vec_kurtosis_q2</th>\n",
       "    </tr>\n",
       "  </thead>\n",
       "  <tbody>\n",
       "    <tr>\n",
       "      <th>0</th>\n",
       "      <td>45.0</td>\n",
       "      <td>43.0</td>\n",
       "      <td>2.0</td>\n",
       "      <td>4.0</td>\n",
       "      <td>4.0</td>\n",
       "      <td>11.25</td>\n",
       "      <td>10.75</td>\n",
       "      <td>0.75</td>\n",
       "      <td>0.0</td>\n",
       "      <td>0.0</td>\n",
       "      <td>0.0</td>\n",
       "      <td>0.0</td>\n",
       "      <td>0.0</td>\n",
       "      <td>0.0</td>\n",
       "      <td>0.0</td>\n",
       "      <td>-0.062758</td>\n",
       "      <td>-0.062758</td>\n",
       "      <td>-0.018099</td>\n",
       "      <td>-0.018099</td>\n",
       "    </tr>\n",
       "  </tbody>\n",
       "</table>\n",
       "</div>"
      ],
      "text/plain": [
       "   q1_length  q2_length  diff_length  q1_n_words  q2_n_words  \\\n",
       "0       45.0       43.0          2.0         4.0         4.0   \n",
       "\n",
       "   q1_len_word_ratio  q2_len_word_ratio  word_share  word2vec_cosine_distance  \\\n",
       "0              11.25              10.75        0.75                       0.0   \n",
       "\n",
       "   word2vec_cityblock_distance  word2vec_jaccard_distance  \\\n",
       "0                          0.0                        0.0   \n",
       "\n",
       "   word2vec_canberra_distance  word2vec_minkowski_distance  \\\n",
       "0                         0.0                          0.0   \n",
       "\n",
       "   word2vec_euclidean_distance  word2vec_braycurtis_distance  \\\n",
       "0                          0.0                           0.0   \n",
       "\n",
       "   word2vec_skew_q1  word2vec_skew_q2  word2vec_kurtosis_q1  \\\n",
       "0         -0.062758         -0.062758             -0.018099   \n",
       "\n",
       "   word2vec_kurtosis_q2  \n",
       "0             -0.018099  "
      ]
     },
     "metadata": {},
     "output_type": "display_data"
    },
    {
     "data": {
      "text/html": [
       "<div>\n",
       "<table border=\"1\" class=\"dataframe\">\n",
       "  <thead>\n",
       "    <tr style=\"text-align: right;\">\n",
       "      <th></th>\n",
       "      <th>q1_length</th>\n",
       "      <th>q2_length</th>\n",
       "      <th>diff_length</th>\n",
       "      <th>q1_n_words</th>\n",
       "      <th>q2_n_words</th>\n",
       "      <th>q1_len_word_ratio</th>\n",
       "      <th>q2_len_word_ratio</th>\n",
       "      <th>word_share</th>\n",
       "      <th>word2vec_cosine_distance</th>\n",
       "      <th>word2vec_cityblock_distance</th>\n",
       "      <th>word2vec_jaccard_distance</th>\n",
       "      <th>word2vec_canberra_distance</th>\n",
       "      <th>word2vec_minkowski_distance</th>\n",
       "      <th>word2vec_euclidean_distance</th>\n",
       "      <th>word2vec_braycurtis_distance</th>\n",
       "      <th>word2vec_skew_q1</th>\n",
       "      <th>word2vec_skew_q2</th>\n",
       "      <th>word2vec_kurtosis_q1</th>\n",
       "      <th>word2vec_kurtosis_q2</th>\n",
       "    </tr>\n",
       "  </thead>\n",
       "  <tbody>\n",
       "    <tr>\n",
       "      <th>0</th>\n",
       "      <td>35.0</td>\n",
       "      <td>47.0</td>\n",
       "      <td>-12.0</td>\n",
       "      <td>5.0</td>\n",
       "      <td>7.0</td>\n",
       "      <td>7.0</td>\n",
       "      <td>6.714286</td>\n",
       "      <td>0.45</td>\n",
       "      <td>0.050746</td>\n",
       "      <td>4.433986</td>\n",
       "      <td>1.0</td>\n",
       "      <td>88.295622</td>\n",
       "      <td>0.143691</td>\n",
       "      <td>0.318579</td>\n",
       "      <td>0.161497</td>\n",
       "      <td>0.134025</td>\n",
       "      <td>0.111909</td>\n",
       "      <td>-0.218607</td>\n",
       "      <td>-0.207114</td>\n",
       "    </tr>\n",
       "  </tbody>\n",
       "</table>\n",
       "</div>"
      ],
      "text/plain": [
       "   q1_length  q2_length  diff_length  q1_n_words  q2_n_words  \\\n",
       "0       35.0       47.0        -12.0         5.0         7.0   \n",
       "\n",
       "   q1_len_word_ratio  q2_len_word_ratio  word_share  word2vec_cosine_distance  \\\n",
       "0                7.0           6.714286        0.45                  0.050746   \n",
       "\n",
       "   word2vec_cityblock_distance  word2vec_jaccard_distance  \\\n",
       "0                     4.433986                        1.0   \n",
       "\n",
       "   word2vec_canberra_distance  word2vec_minkowski_distance  \\\n",
       "0                   88.295622                     0.143691   \n",
       "\n",
       "   word2vec_euclidean_distance  word2vec_braycurtis_distance  \\\n",
       "0                     0.318579                      0.161497   \n",
       "\n",
       "   word2vec_skew_q1  word2vec_skew_q2  word2vec_kurtosis_q1  \\\n",
       "0          0.134025          0.111909             -0.218607   \n",
       "\n",
       "   word2vec_kurtosis_q2  \n",
       "0             -0.207114  "
      ]
     },
     "metadata": {},
     "output_type": "display_data"
    },
    {
     "data": {
      "text/html": [
       "<div>\n",
       "<table border=\"1\" class=\"dataframe\">\n",
       "  <thead>\n",
       "    <tr style=\"text-align: right;\">\n",
       "      <th></th>\n",
       "      <th>q1_length</th>\n",
       "      <th>q2_length</th>\n",
       "      <th>diff_length</th>\n",
       "      <th>q1_n_words</th>\n",
       "      <th>q2_n_words</th>\n",
       "      <th>q1_len_word_ratio</th>\n",
       "      <th>q2_len_word_ratio</th>\n",
       "      <th>word_share</th>\n",
       "      <th>word2vec_cosine_distance</th>\n",
       "      <th>word2vec_cityblock_distance</th>\n",
       "      <th>word2vec_jaccard_distance</th>\n",
       "      <th>word2vec_canberra_distance</th>\n",
       "      <th>word2vec_minkowski_distance</th>\n",
       "      <th>word2vec_euclidean_distance</th>\n",
       "      <th>word2vec_braycurtis_distance</th>\n",
       "      <th>word2vec_skew_q1</th>\n",
       "      <th>word2vec_skew_q2</th>\n",
       "      <th>word2vec_kurtosis_q1</th>\n",
       "      <th>word2vec_kurtosis_q2</th>\n",
       "    </tr>\n",
       "  </thead>\n",
       "  <tbody>\n",
       "    <tr>\n",
       "      <th>0</th>\n",
       "      <td>29.0</td>\n",
       "      <td>24.0</td>\n",
       "      <td>5.0</td>\n",
       "      <td>3.0</td>\n",
       "      <td>3.0</td>\n",
       "      <td>9.666667</td>\n",
       "      <td>8.0</td>\n",
       "      <td>0.583333</td>\n",
       "      <td>0.0</td>\n",
       "      <td>0.0</td>\n",
       "      <td>0.0</td>\n",
       "      <td>0.0</td>\n",
       "      <td>0.0</td>\n",
       "      <td>0.0</td>\n",
       "      <td>0.0</td>\n",
       "      <td>0.065999</td>\n",
       "      <td>0.065999</td>\n",
       "      <td>-0.015661</td>\n",
       "      <td>-0.015661</td>\n",
       "    </tr>\n",
       "  </tbody>\n",
       "</table>\n",
       "</div>"
      ],
      "text/plain": [
       "   q1_length  q2_length  diff_length  q1_n_words  q2_n_words  \\\n",
       "0       29.0       24.0          5.0         3.0         3.0   \n",
       "\n",
       "   q1_len_word_ratio  q2_len_word_ratio  word_share  word2vec_cosine_distance  \\\n",
       "0           9.666667                8.0    0.583333                       0.0   \n",
       "\n",
       "   word2vec_cityblock_distance  word2vec_jaccard_distance  \\\n",
       "0                          0.0                        0.0   \n",
       "\n",
       "   word2vec_canberra_distance  word2vec_minkowski_distance  \\\n",
       "0                         0.0                          0.0   \n",
       "\n",
       "   word2vec_euclidean_distance  word2vec_braycurtis_distance  \\\n",
       "0                          0.0                           0.0   \n",
       "\n",
       "   word2vec_skew_q1  word2vec_skew_q2  word2vec_kurtosis_q1  \\\n",
       "0          0.065999          0.065999             -0.015661   \n",
       "\n",
       "   word2vec_kurtosis_q2  \n",
       "0             -0.015661  "
      ]
     },
     "metadata": {},
     "output_type": "display_data"
    },
    {
     "name": "stdout",
     "output_type": "stream",
     "text": [
      "Rows in train: 291132 val: 72783 test: 40436\n"
     ]
    }
   ],
   "source": [
    "display(train_features.head(1))\n",
    "display(val_features.head(1))\n",
    "display(test_features.head(1))\n",
    "\n",
    "print \"Rows in train: {} val: {} test: {}\".format(len(train_features), len(val_features), len(test_features))\n",
    "\n",
    "assert train_features.isnull().values.any() == False\n",
    "assert val_features.isnull().values.any() == False\n",
    "assert test_features.isnull().values.any() == False"
   ]
  },
  {
   "cell_type": "markdown",
   "metadata": {},
   "source": [
    "Save features and labels for future use:"
   ]
  },
  {
   "cell_type": "code",
   "execution_count": 12,
   "metadata": {
    "collapsed": true
   },
   "outputs": [],
   "source": [
    "file_directory = \"../output/data/\"\n",
    "\n",
    "utility.save_pickle(train_features, file_directory, \"train_features.pkl\") \n",
    "utility.save_pickle(val_features, file_directory, \"val_features.pkl\") \n",
    "utility.save_pickle(test_features, file_directory, \"test_features.pkl\") "
   ]
  },
  {
   "cell_type": "code",
   "execution_count": 13,
   "metadata": {
    "collapsed": true
   },
   "outputs": [],
   "source": [
    "train_y = train_data[\"is_duplicate\"].values\n",
    "val_y = val_data[\"is_duplicate\"].values\n",
    "test_y = test_data[\"is_duplicate\"].values\n",
    "\n",
    "utility.save_pickle(train_y, file_directory, \"train_labels.pkl\") \n",
    "utility.save_pickle(val_y, file_directory, \"val_labels.pkl\") \n",
    "utility.save_pickle(test_y, file_directory, \"test_labels.pkl\") "
   ]
  }
 ],
 "metadata": {
  "kernelspec": {
   "display_name": "Python 2",
   "language": "python",
   "name": "python2"
  },
  "language_info": {
   "codemirror_mode": {
    "name": "ipython",
    "version": 2
   },
   "file_extension": ".py",
   "mimetype": "text/x-python",
   "name": "python",
   "nbconvert_exporter": "python",
   "pygments_lexer": "ipython2",
   "version": "2.7.13"
  }
 },
 "nbformat": 4,
 "nbformat_minor": 2
}

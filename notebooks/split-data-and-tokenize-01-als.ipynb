{
 "cells": [
  {
   "cell_type": "code",
   "execution_count": 1,
   "metadata": {},
   "outputs": [
    {
     "data": {
      "application/vnd.jupyter.widget-view+json": {
       "model_id": "8930056863c24e1e8dd96ef12106e13d"
      }
     },
     "metadata": {},
     "output_type": "display_data"
    },
    {
     "name": "stdout",
     "output_type": "stream",
     "text": [
      "\n"
     ]
    }
   ],
   "source": [
    "from IPython.display import display\n",
    "import pandas as pd\n",
    "from sklearn.model_selection import train_test_split\n",
    "from sklearn.model_selection import StratifiedKFold\n",
    "from tqdm import tqdm_notebook\n",
    "from capstone_project import preprocessor as pre\n",
    "\n",
    "tqdm_notebook().pandas(desc=\"Progress:\")"
   ]
  },
  {
   "cell_type": "code",
   "execution_count": 2,
   "metadata": {
    "collapsed": true
   },
   "outputs": [],
   "source": [
    "data = pd.read_csv(\"/home/andre/Documents/mooc/udacity/machinelearning/capstone_project/data/questions.csv\")"
   ]
  },
  {
   "cell_type": "code",
   "execution_count": 3,
   "metadata": {},
   "outputs": [
    {
     "data": {
      "text/html": [
       "<div>\n",
       "<table border=\"1\" class=\"dataframe\">\n",
       "  <thead>\n",
       "    <tr style=\"text-align: right;\">\n",
       "      <th></th>\n",
       "      <th>id</th>\n",
       "      <th>qid1</th>\n",
       "      <th>qid2</th>\n",
       "      <th>question1</th>\n",
       "      <th>question2</th>\n",
       "      <th>is_duplicate</th>\n",
       "    </tr>\n",
       "  </thead>\n",
       "  <tbody>\n",
       "    <tr>\n",
       "      <th>0</th>\n",
       "      <td>0</td>\n",
       "      <td>1</td>\n",
       "      <td>2</td>\n",
       "      <td>What is the step by step guide to invest in sh...</td>\n",
       "      <td>What is the step by step guide to invest in sh...</td>\n",
       "      <td>0</td>\n",
       "    </tr>\n",
       "    <tr>\n",
       "      <th>1</th>\n",
       "      <td>1</td>\n",
       "      <td>3</td>\n",
       "      <td>4</td>\n",
       "      <td>What is the story of Kohinoor (Koh-i-Noor) Dia...</td>\n",
       "      <td>What would happen if the Indian government sto...</td>\n",
       "      <td>0</td>\n",
       "    </tr>\n",
       "    <tr>\n",
       "      <th>2</th>\n",
       "      <td>2</td>\n",
       "      <td>5</td>\n",
       "      <td>6</td>\n",
       "      <td>How can I increase the speed of my internet co...</td>\n",
       "      <td>How can Internet speed be increased by hacking...</td>\n",
       "      <td>0</td>\n",
       "    </tr>\n",
       "    <tr>\n",
       "      <th>3</th>\n",
       "      <td>3</td>\n",
       "      <td>7</td>\n",
       "      <td>8</td>\n",
       "      <td>Why am I mentally very lonely? How can I solve...</td>\n",
       "      <td>Find the remainder when [math]23^{24}[/math] i...</td>\n",
       "      <td>0</td>\n",
       "    </tr>\n",
       "    <tr>\n",
       "      <th>4</th>\n",
       "      <td>4</td>\n",
       "      <td>9</td>\n",
       "      <td>10</td>\n",
       "      <td>Which one dissolve in water quikly sugar, salt...</td>\n",
       "      <td>Which fish would survive in salt water?</td>\n",
       "      <td>0</td>\n",
       "    </tr>\n",
       "  </tbody>\n",
       "</table>\n",
       "</div>"
      ],
      "text/plain": [
       "   id  qid1  qid2                                          question1  \\\n",
       "0   0     1     2  What is the step by step guide to invest in sh...   \n",
       "1   1     3     4  What is the story of Kohinoor (Koh-i-Noor) Dia...   \n",
       "2   2     5     6  How can I increase the speed of my internet co...   \n",
       "3   3     7     8  Why am I mentally very lonely? How can I solve...   \n",
       "4   4     9    10  Which one dissolve in water quikly sugar, salt...   \n",
       "\n",
       "                                           question2  is_duplicate  \n",
       "0  What is the step by step guide to invest in sh...             0  \n",
       "1  What would happen if the Indian government sto...             0  \n",
       "2  How can Internet speed be increased by hacking...             0  \n",
       "3  Find the remainder when [math]23^{24}[/math] i...             0  \n",
       "4            Which fish would survive in salt water?             0  "
      ]
     },
     "metadata": {},
     "output_type": "display_data"
    },
    {
     "name": "stdout",
     "output_type": "stream",
     "text": [
      "Rows in data: 404351\n",
      "Ratio of duplicates: 0.37\n"
     ]
    }
   ],
   "source": [
    "display(data.head())\n",
    "\n",
    "print \"Rows in data: {}\".format(len(data))\n",
    "print \"Ratio of duplicates: {:.2f}\".format(float(len(data[data.is_duplicate == 1]))/len(data))"
   ]
  },
  {
   "cell_type": "code",
   "execution_count": 4,
   "metadata": {
    "collapsed": true
   },
   "outputs": [],
   "source": [
    "labels = data.iloc[:, -1].values\n",
    "# Stratified splitting is enabled because the data is somewhat imbalanced(~37% are duplicates)\n",
    "train_val_data, test_data = train_test_split(data, test_size=0.1, stratify=labels, random_state=42)"
   ]
  },
  {
   "cell_type": "code",
   "execution_count": 5,
   "metadata": {},
   "outputs": [
    {
     "data": {
      "text/html": [
       "<div>\n",
       "<table border=\"1\" class=\"dataframe\">\n",
       "  <thead>\n",
       "    <tr style=\"text-align: right;\">\n",
       "      <th></th>\n",
       "      <th>id</th>\n",
       "      <th>qid1</th>\n",
       "      <th>qid2</th>\n",
       "      <th>question1</th>\n",
       "      <th>question2</th>\n",
       "      <th>is_duplicate</th>\n",
       "    </tr>\n",
       "  </thead>\n",
       "  <tbody>\n",
       "    <tr>\n",
       "      <th>218104</th>\n",
       "      <td>218104</td>\n",
       "      <td>430027</td>\n",
       "      <td>430028</td>\n",
       "      <td>How do I build a self confidence?</td>\n",
       "      <td>How can I raise my self esteem?</td>\n",
       "      <td>1</td>\n",
       "    </tr>\n",
       "  </tbody>\n",
       "</table>\n",
       "</div>"
      ],
      "text/plain": [
       "            id    qid1    qid2                          question1  \\\n",
       "218104  218104  430027  430028  How do I build a self confidence?   \n",
       "\n",
       "                              question2  is_duplicate  \n",
       "218104  How can I raise my self esteem?             1  "
      ]
     },
     "metadata": {},
     "output_type": "display_data"
    },
    {
     "data": {
      "text/html": [
       "<div>\n",
       "<table border=\"1\" class=\"dataframe\">\n",
       "  <thead>\n",
       "    <tr style=\"text-align: right;\">\n",
       "      <th></th>\n",
       "      <th>id</th>\n",
       "      <th>qid1</th>\n",
       "      <th>qid2</th>\n",
       "      <th>question1</th>\n",
       "      <th>question2</th>\n",
       "      <th>is_duplicate</th>\n",
       "    </tr>\n",
       "  </thead>\n",
       "  <tbody>\n",
       "    <tr>\n",
       "      <th>113079</th>\n",
       "      <td>113079</td>\n",
       "      <td>224193</td>\n",
       "      <td>224194</td>\n",
       "      <td>What does horny goat weed do?</td>\n",
       "      <td>What is horny goat weed?</td>\n",
       "      <td>1</td>\n",
       "    </tr>\n",
       "  </tbody>\n",
       "</table>\n",
       "</div>"
      ],
      "text/plain": [
       "            id    qid1    qid2                      question1  \\\n",
       "113079  113079  224193  224194  What does horny goat weed do?   \n",
       "\n",
       "                       question2  is_duplicate  \n",
       "113079  What is horny goat weed?             1  "
      ]
     },
     "metadata": {},
     "output_type": "display_data"
    },
    {
     "name": "stdout",
     "output_type": "stream",
     "text": [
      "Rows in test set: 40436 and train set: 363915\n",
      "Ratio: 0.11\n",
      "Ratio of duplicates test: 0.37\n",
      "Ratio of duplicates train: 0.37\n"
     ]
    }
   ],
   "source": [
    "display(train_val_data.head(1))\n",
    "display(test_data.head(1))\n",
    "\n",
    "print \"Rows in test set: {} and train_val set: {}\".format(len(test_data), len(train_val_data))\n",
    "print \"Ratio: {:.2f}\".format(float(len(test_data))/len(train_val_data))\n",
    "print \"Ratio of duplicates test: {:.2f}\".format(float(len(test_data[test_data.is_duplicate == 1]))/len(test_data))\n",
    "print \"Ratio of duplicates train: {:.2f}\".format(float(len(train_val_data[train_val_data.is_duplicate == 1]))/len(train_val_data))"
   ]
  },
  {
   "cell_type": "code",
   "execution_count": 6,
   "metadata": {
    "collapsed": true
   },
   "outputs": [],
   "source": [
    "#split one more time to create validation set because neural nets train to long to use cross validation\n",
    "labels = train_val_data.iloc[:, -1].values\n",
    "train_data, val_data = train_test_split(train_val_data, test_size=0.2, stratify=labels, random_state=75293)"
   ]
  },
  {
   "cell_type": "code",
   "execution_count": null,
   "metadata": {
    "collapsed": true
   },
   "outputs": [],
   "source": [
    "print \"Rows in train set: {} and val set: {}\".format(len(train_data), len(val_data))"
   ]
  },
  {
   "cell_type": "code",
   "execution_count": 7,
   "metadata": {},
   "outputs": [
    {
     "data": {
      "application/vnd.jupyter.widget-view+json": {
       "model_id": "aa8ad2265c01419da2f9f5565b8d74f1"
      }
     },
     "metadata": {},
     "output_type": "display_data"
    },
    {
     "name": "stdout",
     "output_type": "stream",
     "text": [
      "\n"
     ]
    },
    {
     "data": {
      "application/vnd.jupyter.widget-view+json": {
       "model_id": "dbaa0fe20ea74b239e61d634797bd792"
      }
     },
     "metadata": {},
     "output_type": "display_data"
    },
    {
     "name": "stdout",
     "output_type": "stream",
     "text": [
      "\n"
     ]
    },
    {
     "data": {
      "application/vnd.jupyter.widget-view+json": {
       "model_id": "089666f8f0644657a5ebc9f0160c55e1"
      }
     },
     "metadata": {},
     "output_type": "display_data"
    },
    {
     "name": "stdout",
     "output_type": "stream",
     "text": [
      "\n"
     ]
    },
    {
     "data": {
      "application/vnd.jupyter.widget-view+json": {
       "model_id": "2080237acace4869993894378f484dc4"
      }
     },
     "metadata": {},
     "output_type": "display_data"
    },
    {
     "name": "stdout",
     "output_type": "stream",
     "text": [
      "\n"
     ]
    },
    {
     "data": {
      "application/vnd.jupyter.widget-view+json": {
       "model_id": "adcfca64546246cab476ba220ab809f6"
      }
     },
     "metadata": {},
     "output_type": "display_data"
    },
    {
     "name": "stdout",
     "output_type": "stream",
     "text": [
      "\n"
     ]
    },
    {
     "data": {
      "application/vnd.jupyter.widget-view+json": {
       "model_id": "68ce5cdef08f4bc795904ade00376176"
      }
     },
     "metadata": {},
     "output_type": "display_data"
    },
    {
     "name": "stdout",
     "output_type": "stream",
     "text": [
      "\n"
     ]
    }
   ],
   "source": [
    "# Data is tokenized here and not in the analysis pipeline because it takes some time and only needs to be done once.\n",
    "train_data = train_data.fillna(\"\")  # Two questions have empty fields\n",
    "train_data[\"q1_tokens\"] = train_data[\"question1\"].progress_apply(pre.tokenize)\n",
    "train_data[\"q2_tokens\"] = train_data[\"question2\"].progress_apply(pre.tokenize)\n",
    "\n",
    "val_data = val_data.fillna(\"\")  # Two questions have empty fields\n",
    "val_data[\"q1_tokens\"] = val_data[\"question1\"].progress_apply(pre.tokenize)\n",
    "val_data[\"q2_tokens\"] = val_data[\"question2\"].progress_apply(pre.tokenize)\n",
    "\n",
    "test_data = test_data.fillna(\"\")  # Two questions have empty fields\n",
    "test_data[\"q1_tokens\"] = test_data[\"question1\"].progress_apply(pre.tokenize)\n",
    "test_data[\"q2_tokens\"] = test_data[\"question2\"].progress_apply(pre.tokenize)\n"
   ]
  },
  {
   "cell_type": "code",
   "execution_count": 8,
   "metadata": {
    "collapsed": true
   },
   "outputs": [],
   "source": [
    "output_directory = \"../output/data/\"\n",
    "prefix = \"tokenized_\"\n",
    "\n",
    "pre.save_pickle(train_data, output_directory, prefix+\"train_data.pkl\") \n",
    "pre.save_pickle(val_data, output_directory, prefix+\"val_data.pkl\")\n",
    "pre.save_pickle(test_data, output_directory, prefix+\"test_data.pkl\") "
   ]
  },
  {
   "cell_type": "code",
   "execution_count": 9,
   "metadata": {
    "collapsed": true
   },
   "outputs": [],
   "source": [
    "# Create cross validation folds to tune hypermparameters of \"classic\" models such as logistic regression and boosted trees\n",
    "# TODO delete not needed any longer due to validation set\n",
    "#skf = StratifiedKFold(n_splits=3, random_state=12574, shuffle=True)\n",
    "#output_directory = \"../output/models/\"\n",
    "#pre.save_as_pickle(skf, output_directory, \"kfolds.pkl\") "
   ]
  }
 ],
 "metadata": {
  "kernelspec": {
   "display_name": "Python 2",
   "language": "python",
   "name": "python2"
  },
  "language_info": {
   "codemirror_mode": {
    "name": "ipython",
    "version": 2
   },
   "file_extension": ".py",
   "mimetype": "text/x-python",
   "name": "python",
   "nbconvert_exporter": "python",
   "pygments_lexer": "ipython2",
   "version": "2.7.13"
  }
 },
 "nbformat": 4,
 "nbformat_minor": 2
}

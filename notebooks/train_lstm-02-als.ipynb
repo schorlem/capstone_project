{
 "cells": [
  {
   "cell_type": "markdown",
   "metadata": {},
   "source": [
    "# <center> Train the LSTM network with word2vec embeddings </center>"
   ]
  },
  {
   "cell_type": "markdown",
   "metadata": {},
   "source": [
    "This notebook is very similar to the first lstm training. This time we will train the lstm network on the training and validation data and predict its performance on the test data. My solution is again based on these two guidelines.\n",
    "https://www.kaggle.com/lystdo/lstm-with-word2vec-embeddings\n",
    "https://blog.keras.io/using-pre-trained-word-embeddings-in-a-keras-model.html\n",
    "\n",
    "\n",
    "Okay now let's import all of the necessary modules:"
   ]
  },
  {
   "cell_type": "code",
   "execution_count": 1,
   "metadata": {},
   "outputs": [
    {
     "name": "stderr",
     "output_type": "stream",
     "text": [
      "Using TensorFlow backend.\n",
      "/home/andre/anaconda3/envs/capstone_project/lib/python2.7/site-packages/sklearn/cross_validation.py:44: DeprecationWarning: This module was deprecated in version 0.18 in favor of the model_selection module into which all the refactored classes and functions are moved. Also note that the interface of the new CV iterators are different from that of this module. This module will be removed in 0.20.\n",
      "  \"This module will be removed in 0.20.\", DeprecationWarning)\n"
     ]
    }
   ],
   "source": [
    "import os\n",
    "import gensim\n",
    "import numpy as np\n",
    "import pandas as pd\n",
    "from IPython.display import display\n",
    "from keras.preprocessing.text import Tokenizer\n",
    "from keras.preprocessing.sequence import pad_sequences\n",
    "from unidecode import unidecode\n",
    "from keras.callbacks import EarlyStopping, ModelCheckpoint\n",
    "from keras.models import load_model\n",
    "from sklearn.metrics import log_loss, accuracy_score\n",
    "from capstone_project import utility\n",
    "from capstone_project.models import neural_nets\n",
    "\n",
    "%matplotlib inline"
   ]
  },
  {
   "cell_type": "markdown",
   "metadata": {},
   "source": [
    "Set important constants and load data:"
   ]
  },
  {
   "cell_type": "code",
   "execution_count": 2,
   "metadata": {
    "collapsed": true
   },
   "outputs": [],
   "source": [
    "MAX_SEQUENCE_LENGTH = 30 # Maximum length of input for lstm the (maximum number of tokens is 103) \n",
    "EMBEDDING_DIM = 300  # Length of the used word2vec/glove implementation\n",
    "USE_RAW_TEXT = True  # Use raw text as input instead of tokens\n",
    "USE_WORD2VEC = True  # Use word2vec embedding instead of glove embedding\n",
    "VALIDATION_SPLIT = 0.1  # Size of the second validation set that is used during the training of the lstm"
   ]
  },
  {
   "cell_type": "code",
   "execution_count": 3,
   "metadata": {
    "collapsed": true
   },
   "outputs": [],
   "source": [
    "file_directory = \"../output/data/\"\n",
    "prefix = \"tokenized_\"\n",
    "\n",
    "train_data_1 = utility.load_pickle(file_directory, prefix+\"train_data.pkl\")\n",
    "train_data_2 = utility.load_pickle(file_directory, prefix+\"val_data.pkl\")  # Validation data set used to compare different classification algorithms\n",
    "test_data = utility.load_pickle(file_directory, prefix+\"test_data.pkl\")  # Validation data set used to compare different classification algorithms\n",
    "\n",
    "joined_data = pd.concat([train_data_1, train_data_2]) \n",
    "\n",
    "labels = joined_data[\"is_duplicate\"].values\n",
    "test_labels = test_data[\"is_duplicate\"].values"
   ]
  },
  {
   "cell_type": "markdown",
   "metadata": {},
   "source": [
    "Make sure that the concatenate worked:"
   ]
  },
  {
   "cell_type": "code",
   "execution_count": 4,
   "metadata": {},
   "outputs": [
    {
     "data": {
      "text/html": [
       "<div>\n",
       "<table border=\"1\" class=\"dataframe\">\n",
       "  <thead>\n",
       "    <tr style=\"text-align: right;\">\n",
       "      <th></th>\n",
       "      <th>id</th>\n",
       "      <th>qid1</th>\n",
       "      <th>qid2</th>\n",
       "      <th>question1</th>\n",
       "      <th>question2</th>\n",
       "      <th>is_duplicate</th>\n",
       "      <th>q1_tokens</th>\n",
       "      <th>q2_tokens</th>\n",
       "    </tr>\n",
       "  </thead>\n",
       "  <tbody>\n",
       "    <tr>\n",
       "      <th>355802</th>\n",
       "      <td>355802</td>\n",
       "      <td>696825</td>\n",
       "      <td>696826</td>\n",
       "      <td>Which are the best songs of Enrique Iglesias?</td>\n",
       "      <td>Which is the best song of Enrique iglesias?</td>\n",
       "      <td>1</td>\n",
       "      <td>[good, song, enrique, iglesias]</td>\n",
       "      <td>[good, song, enrique, iglesias]</td>\n",
       "    </tr>\n",
       "  </tbody>\n",
       "</table>\n",
       "</div>"
      ],
      "text/plain": [
       "            id    qid1    qid2                                      question1  \\\n",
       "355802  355802  696825  696826  Which are the best songs of Enrique Iglesias?   \n",
       "\n",
       "                                          question2  is_duplicate  \\\n",
       "355802  Which is the best song of Enrique iglesias?             1   \n",
       "\n",
       "                              q1_tokens                        q2_tokens  \n",
       "355802  [good, song, enrique, iglesias]  [good, song, enrique, iglesias]  "
      ]
     },
     "metadata": {},
     "output_type": "display_data"
    }
   ],
   "source": [
    "assert len(train_data_1) + len(train_data_2) == len(joined_data)\n",
    "display(joined_data.head(1))"
   ]
  },
  {
   "cell_type": "markdown",
   "metadata": {},
   "source": [
    "Prepare the tokenized question as input for keras:"
   ]
  },
  {
   "cell_type": "code",
   "execution_count": 5,
   "metadata": {},
   "outputs": [
    {
     "name": "stdout",
     "output_type": "stream",
     "text": [
      "Found 91208 unique tokens\n"
     ]
    }
   ],
   "source": [
    "# Decode again and join strings because keras tokenizer crashes when using unicode while spacy uses it\n",
    "if USE_RAW_TEXT:\n",
    "    q1 = joined_data[\"question1\"].values\n",
    "    q2 = joined_data[\"question2\"].values\n",
    "else:\n",
    "    q1 = joined_data[\"q1_tokens\"].apply(lambda x: unidecode(u\" \".join(x))).values\n",
    "    q2 = joined_data[\"q2_tokens\"].apply(lambda x: unidecode(u\" \".join(x))).values\n",
    "    \n",
    "all_questions = np.concatenate([q1, q2])\n",
    "\n",
    "tokenizer = Tokenizer()\n",
    "tokenizer.fit_on_texts(all_questions)\n",
    "\n",
    "word_index = tokenizer.word_index\n",
    "number_words = len(word_index)+1  # Needed for embedding layer\n",
    "print(\"Found {} unique tokens\".format(len(word_index)))\n",
    "\n",
    "q1_sequences = tokenizer.texts_to_sequences(q1)\n",
    "q2_sequences = tokenizer.texts_to_sequences(q2)\n",
    "\n",
    "q1_data = pad_sequences(q1_sequences, maxlen=MAX_SEQUENCE_LENGTH)\n",
    "q2_data = pad_sequences(q2_sequences, maxlen=MAX_SEQUENCE_LENGTH)"
   ]
  },
  {
   "cell_type": "markdown",
   "metadata": {},
   "source": [
    "Split second validation and training set for validation at every epoch. The dataset size is also doubled by switching the order of the questions. This is done in order to avoid symmetry issues."
   ]
  },
  {
   "cell_type": "code",
   "execution_count": 6,
   "metadata": {
    "collapsed": true
   },
   "outputs": [],
   "source": [
    "# Credit: https://www.kaggle.com/lystdo/lstm-with-word2vec-embeddings\n",
    "perm = np.random.permutation(len(q1_data))\n",
    "idx_train = perm[:int(len(q1_data)*(1-VALIDATION_SPLIT))]\n",
    "idx_val = perm[int(len(q1_data)*(1-VALIDATION_SPLIT)):]\n",
    "\n",
    "q12_train = np.concatenate((q1_data[idx_train], q2_data[idx_train]), axis=0)\n",
    "q21_train = np.concatenate((q2_data[idx_train], q1_data[idx_train]), axis=0)\n",
    "double_train_labels = np.concatenate((labels[idx_train], labels[idx_train]), axis=0)\n",
    "\n",
    "q12_val_epochs = np.concatenate((q1_data[idx_val], q2_data[idx_val]), axis=0)\n",
    "q21_val_epochs = np.concatenate((q2_data[idx_val], q1_data[idx_val]), axis=0)\n",
    "double_val_epochs_labels = np.concatenate((labels[idx_val], labels[idx_val]), axis=0)"
   ]
  },
  {
   "cell_type": "markdown",
   "metadata": {},
   "source": [
    "Prepare test set:"
   ]
  },
  {
   "cell_type": "code",
   "execution_count": 13,
   "metadata": {
    "collapsed": true
   },
   "outputs": [],
   "source": [
    "#create correct embeddings for validation data\n",
    "if USE_RAW_TEXT:\n",
    "    q1_test = test_data[\"question1\"].values\n",
    "    q2_test = test_data[\"question2\"].values\n",
    "else:\n",
    "    q1_test = test_data[\"q1_tokens\"].apply(lambda x: unidecode(u\" \".join(x))).values\n",
    "    q2_test = test_data[\"q2_tokens\"].apply(lambda x: unidecode(u\" \".join(x))).values\n",
    "    \n",
    "q1_test_sequences = tokenizer.texts_to_sequences(q1_test)\n",
    "q2_test_sequences = tokenizer.texts_to_sequences(q2_test)\n",
    "\n",
    "q1_test_data = pad_sequences(q1_test_sequences, maxlen=MAX_SEQUENCE_LENGTH)\n",
    "q2_test_data = pad_sequences(q2_test_sequences, maxlen=MAX_SEQUENCE_LENGTH)"
   ]
  },
  {
   "cell_type": "markdown",
   "metadata": {},
   "source": [
    "Load the pretrained vectorization model and create the embedding matrix:"
   ]
  },
  {
   "cell_type": "code",
   "execution_count": 8,
   "metadata": {},
   "outputs": [
    {
     "name": "stdout",
     "output_type": "stream",
     "text": [
      "Null word embeddings: 44664\n"
     ]
    }
   ],
   "source": [
    "if USE_WORD2VEC:\n",
    "    word2vec_model = gensim.models.KeyedVectors.load_word2vec_format(\"../data/GoogleNews-vectors-negative300.bin.gz\",\n",
    "                                                                     binary=True)\n",
    "    \n",
    "    embedding_matrix = neural_nets.create_embedding_matrix(vec_model=word2vec_model, embedding_dim=EMBEDDING_DIM, \n",
    "                                                           word_index=word_index, number_words=number_words)\n",
    "else:\n",
    "    # Credit: https://blog.keras.io/using-pre-trained-word-embeddings-in-a-keras-model.html\n",
    "    embeddings_index = {}\n",
    "    f = open('../data/glove.42B.300d.txt')\n",
    "    \n",
    "    for line in f:\n",
    "        values = line.split()\n",
    "        word = values[0]\n",
    "        coefs = np.asarray(values[1:], dtype='float32')\n",
    "        embeddings_index[word] = coefs\n",
    "    f.close()\n",
    "\n",
    "    print('Found %s word vectors.' % len(embeddings_index))\n",
    "    \n",
    "    embedding_matrix = np.zeros((len(word_index) + 1, EMBEDDING_DIM))\n",
    "    for word, i in word_index.items():\n",
    "        embedding_vector = embeddings_index.get(word)\n",
    "        if embedding_vector is not None:\n",
    "            # words not found in embedding index will be all-zeros.\n",
    "            embedding_matrix[i] = embedding_vector"
   ]
  },
  {
   "cell_type": "markdown",
   "metadata": {},
   "source": [
    "Set the parameters of the lstm and create a keras model:"
   ]
  },
  {
   "cell_type": "code",
   "execution_count": 9,
   "metadata": {
    "scrolled": true
   },
   "outputs": [
    {
     "name": "stdout",
     "output_type": "stream",
     "text": [
      "____________________________________________________________________________________________________\n",
      "Layer (type)                     Output Shape          Param #     Connected to                     \n",
      "====================================================================================================\n",
      "input_1 (InputLayer)             (None, 30)            0                                            \n",
      "____________________________________________________________________________________________________\n",
      "input_2 (InputLayer)             (None, 30)            0                                            \n",
      "____________________________________________________________________________________________________\n",
      "embedding_1 (Embedding)          (None, 30, 300)       27362700    input_1[0][0]                    \n",
      "                                                                   input_2[0][0]                    \n",
      "____________________________________________________________________________________________________\n",
      "lstm_1 (LSTM)                    (None, 230)           488520      embedding_1[0][0]                \n",
      "                                                                   embedding_1[1][0]                \n",
      "____________________________________________________________________________________________________\n",
      "concatenate_1 (Concatenate)      (None, 460)           0           lstm_1[0][0]                     \n",
      "                                                                   lstm_1[1][0]                     \n",
      "____________________________________________________________________________________________________\n",
      "batch_normalization_1 (BatchNorm (None, 460)           1840        concatenate_1[0][0]              \n",
      "____________________________________________________________________________________________________\n",
      "dropout_1 (Dropout)              (None, 460)           0           batch_normalization_1[0][0]      \n",
      "____________________________________________________________________________________________________\n",
      "dense_1 (Dense)                  (None, 128)           59008       dropout_1[0][0]                  \n",
      "____________________________________________________________________________________________________\n",
      "batch_normalization_2 (BatchNorm (None, 128)           512         dense_1[0][0]                    \n",
      "____________________________________________________________________________________________________\n",
      "dropout_2 (Dropout)              (None, 128)           0           batch_normalization_2[0][0]      \n",
      "____________________________________________________________________________________________________\n",
      "dense_2 (Dense)                  (None, 1)             129         dropout_2[0][0]                  \n",
      "====================================================================================================\n",
      "Total params: 27,912,709\n",
      "Trainable params: 548,833\n",
      "Non-trainable params: 27,363,876\n",
      "____________________________________________________________________________________________________\n",
      "230_0.35_128_0.35\n"
     ]
    }
   ],
   "source": [
    "batch_size = 2048\n",
    "nn_parameters = {\"max_sequence_length\": MAX_SEQUENCE_LENGTH,\n",
    "                 \"num_lstm\": 230,\n",
    "                 \"dropout_lstm\": 0.35,\n",
    "                 \"num_dense\": 128,\n",
    "                 \"dropout_dense\": 0.35}\n",
    "\n",
    "stamp = \"{}_{:.2f}_{}_{:.2f}\".format(nn_parameters[\"num_lstm\"], \n",
    "                                    nn_parameters[\"dropout_lstm\"],\n",
    "                                    nn_parameters[\"num_dense\"],\n",
    "                                    nn_parameters[\"dropout_dense\"])\n",
    "\n",
    "model = neural_nets.create_lstm(embedding_matrix=embedding_matrix, \n",
    "                                embedding_dim=EMBEDDING_DIM, \n",
    "                                number_words=number_words, \n",
    "                                **nn_parameters)\n",
    "\n",
    "model.compile(loss='binary_crossentropy', optimizer='nadam', metrics=['acc'])\n",
    "model.summary()\n",
    "print stamp"
   ]
  },
  {
   "cell_type": "markdown",
   "metadata": {},
   "source": [
    "Train the data and check the performance on the second validation set every epoch. with early stopping:"
   ]
  },
  {
   "cell_type": "code",
   "execution_count": 10,
   "metadata": {},
   "outputs": [
    {
     "name": "stdout",
     "output_type": "stream",
     "text": [
      "Train on 655046 samples, validate on 72784 samples\n",
      "Epoch 1/200\n",
      "655046/655046 [==============================] - 245s - loss: 0.5794 - acc: 0.6975 - val_loss: 0.5524 - val_acc: 0.7263\n",
      "Epoch 2/200\n",
      "655046/655046 [==============================] - 242s - loss: 0.5082 - acc: 0.7440 - val_loss: 0.4753 - val_acc: 0.7767\n",
      "Epoch 3/200\n",
      "655046/655046 [==============================] - 242s - loss: 0.4747 - acc: 0.7658 - val_loss: 0.4483 - val_acc: 0.7864\n",
      "Epoch 4/200\n",
      "655046/655046 [==============================] - 242s - loss: 0.4531 - acc: 0.7790 - val_loss: 0.4278 - val_acc: 0.7991\n",
      "Epoch 5/200\n",
      "655046/655046 [==============================] - 243s - loss: 0.4376 - acc: 0.7887 - val_loss: 0.4180 - val_acc: 0.8021\n",
      "Epoch 6/200\n",
      "655046/655046 [==============================] - 243s - loss: 0.4260 - acc: 0.7956 - val_loss: 0.4054 - val_acc: 0.8089\n",
      "Epoch 7/200\n",
      "655046/655046 [==============================] - 242s - loss: 0.4163 - acc: 0.8016 - val_loss: 0.3933 - val_acc: 0.8164\n",
      "Epoch 8/200\n",
      "655046/655046 [==============================] - 242s - loss: 0.4082 - acc: 0.8062 - val_loss: 0.3912 - val_acc: 0.8188\n",
      "Epoch 9/200\n",
      "655046/655046 [==============================] - 242s - loss: 0.3996 - acc: 0.8104 - val_loss: 0.3850 - val_acc: 0.8215\n",
      "Epoch 10/200\n",
      "655046/655046 [==============================] - 242s - loss: 0.3945 - acc: 0.8144 - val_loss: 0.3903 - val_acc: 0.8153\n",
      "Epoch 11/200\n",
      "655046/655046 [==============================] - 242s - loss: 0.3875 - acc: 0.8179 - val_loss: 0.3804 - val_acc: 0.8235\n",
      "Epoch 12/200\n",
      "655046/655046 [==============================] - 242s - loss: 0.3830 - acc: 0.8206 - val_loss: 0.3800 - val_acc: 0.8233\n",
      "Epoch 13/200\n",
      "655046/655046 [==============================] - 242s - loss: 0.3787 - acc: 0.8231 - val_loss: 0.3809 - val_acc: 0.8221\n",
      "Epoch 14/200\n",
      "655046/655046 [==============================] - 242s - loss: 0.3739 - acc: 0.8257 - val_loss: 0.3867 - val_acc: 0.8184\n",
      "Epoch 15/200\n",
      "655046/655046 [==============================] - 242s - loss: 0.3702 - acc: 0.8280 - val_loss: 0.3746 - val_acc: 0.8267\n",
      "Epoch 16/200\n",
      "655046/655046 [==============================] - 242s - loss: 0.3660 - acc: 0.8301 - val_loss: 0.3772 - val_acc: 0.8249\n",
      "Epoch 17/200\n",
      "655046/655046 [==============================] - 242s - loss: 0.3628 - acc: 0.8317 - val_loss: 0.3658 - val_acc: 0.8311\n",
      "Epoch 18/200\n",
      "655046/655046 [==============================] - 242s - loss: 0.3595 - acc: 0.8337 - val_loss: 0.3711 - val_acc: 0.8291\n",
      "Epoch 19/200\n",
      "655046/655046 [==============================] - 242s - loss: 0.3579 - acc: 0.8346 - val_loss: 0.3717 - val_acc: 0.8288\n",
      "Epoch 20/200\n",
      "655046/655046 [==============================] - 242s - loss: 0.3549 - acc: 0.8363 - val_loss: 0.3681 - val_acc: 0.8309\n",
      "Epoch 21/200\n",
      "655046/655046 [==============================] - 242s - loss: 0.3519 - acc: 0.8379 - val_loss: 0.3726 - val_acc: 0.8283\n",
      "Epoch 22/200\n",
      "655046/655046 [==============================] - 242s - loss: 0.3498 - acc: 0.8396 - val_loss: 0.3711 - val_acc: 0.8279\n",
      "Epoch 23/200\n",
      "655046/655046 [==============================] - 242s - loss: 0.3478 - acc: 0.8401 - val_loss: 0.3733 - val_acc: 0.8287\n",
      "Epoch 24/200\n",
      "655046/655046 [==============================] - 242s - loss: 0.3455 - acc: 0.8415 - val_loss: 0.3754 - val_acc: 0.8275\n",
      "Epoch 25/200\n",
      "655046/655046 [==============================] - 243s - loss: 0.3436 - acc: 0.8423 - val_loss: 0.3625 - val_acc: 0.8343\n",
      "Epoch 26/200\n",
      "655046/655046 [==============================] - 243s - loss: 0.3421 - acc: 0.8438 - val_loss: 0.3615 - val_acc: 0.8354\n",
      "Epoch 27/200\n",
      "655046/655046 [==============================] - 242s - loss: 0.3400 - acc: 0.8449 - val_loss: 0.3679 - val_acc: 0.8321\n",
      "Epoch 28/200\n",
      "655046/655046 [==============================] - 242s - loss: 0.3379 - acc: 0.8460 - val_loss: 0.3633 - val_acc: 0.8344\n",
      "Epoch 29/200\n",
      "655046/655046 [==============================] - 242s - loss: 0.3367 - acc: 0.8465 - val_loss: 0.3622 - val_acc: 0.8355\n",
      "Epoch 30/200\n",
      "655046/655046 [==============================] - 242s - loss: 0.3360 - acc: 0.8469 - val_loss: 0.3634 - val_acc: 0.8340\n",
      "Epoch 31/200\n",
      "655046/655046 [==============================] - 242s - loss: 0.3345 - acc: 0.8476 - val_loss: 0.3642 - val_acc: 0.8346\n",
      "Epoch 32/200\n",
      "655046/655046 [==============================] - 242s - loss: 0.3335 - acc: 0.8482 - val_loss: 0.3655 - val_acc: 0.8335\n",
      "Epoch 33/200\n",
      "655046/655046 [==============================] - 242s - loss: 0.3322 - acc: 0.8494 - val_loss: 0.3674 - val_acc: 0.8331\n",
      "Epoch 34/200\n",
      "655046/655046 [==============================] - 242s - loss: 0.3305 - acc: 0.8498 - val_loss: 0.3651 - val_acc: 0.8344\n",
      "Epoch 35/200\n",
      "655046/655046 [==============================] - 242s - loss: 0.3293 - acc: 0.8506 - val_loss: 0.3669 - val_acc: 0.8339\n",
      "Epoch 36/200\n",
      "655046/655046 [==============================] - 242s - loss: 0.3280 - acc: 0.8511 - val_loss: 0.3716 - val_acc: 0.8307\n",
      "Epoch 37/200\n",
      "655046/655046 [==============================] - 242s - loss: 0.3271 - acc: 0.8516 - val_loss: 0.3657 - val_acc: 0.8344\n"
     ]
    }
   ],
   "source": [
    "#Credit: https://www.kaggle.com/lystdo/lstm-with-word2vec-embeddings\n",
    "early_stopping = EarlyStopping(monitor='val_loss', patience=10)\n",
    "best_model_path = \"../output/models/final_lstm_val_epochs_\" + stamp + '.h5'\n",
    "model_checkpoint = ModelCheckpoint(best_model_path, save_best_only=True, save_weights_only=True)\n",
    "\n",
    "hist = model.fit([q12_train, q21_train], double_train_labels,\n",
    "                 validation_data=([q12_val_epochs, q21_val_epochs], double_val_epochs_labels), \n",
    "                 epochs=200, batch_size=batch_size, shuffle=True,\n",
    "                 callbacks=[early_stopping, model_checkpoint])"
   ]
  },
  {
   "cell_type": "markdown",
   "metadata": {},
   "source": [
    "Display training histoty of LSTM:"
   ]
  },
  {
   "cell_type": "code",
   "execution_count": 11,
   "metadata": {},
   "outputs": [
    {
     "name": "stdout",
     "output_type": "stream",
     "text": [
      "['acc', 'loss', 'val_acc', 'val_loss']\n"
     ]
    },
    {
     "data": {
      "image/png": "[encoded data removed]",
      "text/plain": [
       "<matplotlib.figure.Figure at 0x7f5d7bda1b50>"
      ]
     },
     "metadata": {},
     "output_type": "display_data"
    },
    {
     "data": {
      "image/png": "[encoded data removed]",
      "text/plain": [
       "<matplotlib.figure.Figure at 0x7f5d7bd45690>"
      ]
     },
     "metadata": {},
     "output_type": "display_data"
    }
   ],
   "source": [
    "# Credit: http://machinelearningmastery.com/display-deep-learning-model-training-history-in-keras/\n",
    "import matplotlib.pyplot as plt\n",
    "plt.style.use(\"seaborn-white\")\n",
    "\n",
    "# list all data in history\n",
    "print(hist.history.keys())\n",
    "\n",
    "# summarize history for accuracy\n",
    "plt.plot(hist.history['acc'])\n",
    "plt.plot(hist.history['val_acc'])\n",
    "plt.title('LSTM Accuracy')\n",
    "plt.ylabel('Accuracy')\n",
    "plt.xlabel('Epoch')\n",
    "plt.legend(['Training', 'Validation'], loc='upper left')\n",
    "plt.savefig(\"../output/figures/final_lstm_hist_acc_plot.png\")\n",
    "plt.show()\n",
    "\n",
    "# summarize history for loss\n",
    "plt.plot(hist.history['loss'])\n",
    "plt.plot(hist.history['val_loss'])\n",
    "plt.title('LSTM Loss')\n",
    "plt.ylabel('Loss')\n",
    "plt.xlabel('Epoch')\n",
    "plt.legend(['Training', 'Validation'], loc='upper right')\n",
    "plt.savefig(\"../output/figures/final_lstm_hist_loss_plot.png\")\n",
    "plt.show()"
   ]
  },
  {
   "cell_type": "markdown",
   "metadata": {},
   "source": [
    "Load the trained model and calculate logloss and accuarcy on the validation set:"
   ]
  },
  {
   "cell_type": "code",
   "execution_count": 16,
   "metadata": {},
   "outputs": [
    {
     "name": "stdout",
     "output_type": "stream",
     "text": [
      "40436/40436 [==============================] - 5s     \n",
      "40436/40436 [==============================] - 5s     \n",
      "Test scores of Lstm model\n",
      " LogLoss: 0.3670\n",
      " Accuracy: 0.83 \n"
     ]
    }
   ],
   "source": [
    "model.load_weights(best_model_path)\n",
    "predictions = model.predict([q1_test_data, q2_test_data], batch_size=batch_size, verbose=1)\n",
    "predictions += model.predict([q2_test_data, q1_test_data], batch_size=batch_size, verbose=1)\n",
    "predictions /= 2\n",
    "\n",
    "# Quick fix: Log loss returns nan if any of the predictions are very confident(==1.)\n",
    "predictions[predictions == 1] = 0.9999999\n",
    "utility.save_pickle(predictions, file_directory, \"final_lstm_preds_on_val.pkl\")\n",
    "\n",
    "loss = log_loss(test_labels, predictions)\n",
    "acc = accuracy_score(test_labels, np.rint(predictions))\n",
    "\n",
    "print \"Test scores of Lstm model\\n LogLoss: {:.4f}\\n Accuracy: {:.2f} \".format(loss, acc)"
   ]
  },
  {
   "cell_type": "markdown",
   "metadata": {},
   "source": [
    "Create roc plot and save it:"
   ]
  },
  {
   "cell_type": "code",
   "execution_count": 17,
   "metadata": {},
   "outputs": [
    {
     "data": {
      "image/png": "[encoded data removed]",
      "text/plain": [
       "<matplotlib.figure.Figure at 0x7f5d7bc3d810>"
      ]
     },
     "metadata": {},
     "output_type": "display_data"
    }
   ],
   "source": [
    "plt = utility.create_roc_plot(test_labels, predictions, \"lstm\")\n",
    "plt.savefig(\"../output/figures/final_lstm_roc_plot.png\")\n",
    "plt.show()"
   ]
  }
 ],
 "metadata": {
  "kernelspec": {
   "display_name": "Python 2",
   "language": "python",
   "name": "python2"
  },
  "language_info": {
   "codemirror_mode": {
    "name": "ipython",
    "version": 2
   },
   "file_extension": ".py",
   "mimetype": "text/x-python",
   "name": "python",
   "nbconvert_exporter": "python",
   "pygments_lexer": "ipython2",
   "version": "2.7.13"
  }
 },
 "nbformat": 4,
 "nbformat_minor": 2
}

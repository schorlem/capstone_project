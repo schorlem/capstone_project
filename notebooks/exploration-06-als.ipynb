{
 "cells": [
  {
   "cell_type": "code",
   "execution_count": 1,
   "metadata": {},
   "outputs": [
    {
     "name": "stderr",
     "output_type": "stream",
     "text": [
      "/home/andre/software/anaconda3/envs/capstone_project/lib/python2.7/site-packages/sklearn/cross_validation.py:44: DeprecationWarning: This module was deprecated in version 0.18 in favor of the model_selection module into which all the refactored classes and functions are moved. Also note that the interface of the new CV iterators are different from that of this module. This module will be removed in 0.20.\n",
      "  \"This module will be removed in 0.20.\", DeprecationWarning)\n"
     ]
    }
   ],
   "source": [
    "import pandas as pd\n",
    "from IPython.display import display\n",
    "from capstone_project import utility\n"
   ]
  },
  {
   "cell_type": "code",
   "execution_count": 2,
   "metadata": {
    "collapsed": true
   },
   "outputs": [],
   "source": [
    "data = pd.read_csv(\"/home/andre/Documents/mooc/udacity/machinelearning/capstone_project/data/questions.csv\")\n",
    "data.fillna(\"\", inplace=True)"
   ]
  },
  {
   "cell_type": "code",
   "execution_count": 3,
   "metadata": {},
   "outputs": [
    {
     "data": {
      "text/html": [
       "<div>\n",
       "<table border=\"1\" class=\"dataframe\">\n",
       "  <thead>\n",
       "    <tr style=\"text-align: right;\">\n",
       "      <th></th>\n",
       "      <th>id</th>\n",
       "      <th>qid1</th>\n",
       "      <th>qid2</th>\n",
       "      <th>question1</th>\n",
       "      <th>question2</th>\n",
       "      <th>is_duplicate</th>\n",
       "    </tr>\n",
       "  </thead>\n",
       "  <tbody>\n",
       "    <tr>\n",
       "      <th>0</th>\n",
       "      <td>0</td>\n",
       "      <td>1</td>\n",
       "      <td>2</td>\n",
       "      <td>What is the step by step guide to invest in sh...</td>\n",
       "      <td>What is the step by step guide to invest in sh...</td>\n",
       "      <td>0</td>\n",
       "    </tr>\n",
       "    <tr>\n",
       "      <th>1</th>\n",
       "      <td>1</td>\n",
       "      <td>3</td>\n",
       "      <td>4</td>\n",
       "      <td>What is the story of Kohinoor (Koh-i-Noor) Dia...</td>\n",
       "      <td>What would happen if the Indian government sto...</td>\n",
       "      <td>0</td>\n",
       "    </tr>\n",
       "    <tr>\n",
       "      <th>2</th>\n",
       "      <td>2</td>\n",
       "      <td>5</td>\n",
       "      <td>6</td>\n",
       "      <td>How can I increase the speed of my internet co...</td>\n",
       "      <td>How can Internet speed be increased by hacking...</td>\n",
       "      <td>0</td>\n",
       "    </tr>\n",
       "    <tr>\n",
       "      <th>3</th>\n",
       "      <td>3</td>\n",
       "      <td>7</td>\n",
       "      <td>8</td>\n",
       "      <td>Why am I mentally very lonely? How can I solve...</td>\n",
       "      <td>Find the remainder when [math]23^{24}[/math] i...</td>\n",
       "      <td>0</td>\n",
       "    </tr>\n",
       "    <tr>\n",
       "      <th>4</th>\n",
       "      <td>4</td>\n",
       "      <td>9</td>\n",
       "      <td>10</td>\n",
       "      <td>Which one dissolve in water quikly sugar, salt...</td>\n",
       "      <td>Which fish would survive in salt water?</td>\n",
       "      <td>0</td>\n",
       "    </tr>\n",
       "  </tbody>\n",
       "</table>\n",
       "</div>"
      ],
      "text/plain": [
       "   id  qid1  qid2                                          question1  \\\n",
       "0   0     1     2  What is the step by step guide to invest in sh...   \n",
       "1   1     3     4  What is the story of Kohinoor (Koh-i-Noor) Dia...   \n",
       "2   2     5     6  How can I increase the speed of my internet co...   \n",
       "3   3     7     8  Why am I mentally very lonely? How can I solve...   \n",
       "4   4     9    10  Which one dissolve in water quikly sugar, salt...   \n",
       "\n",
       "                                           question2  is_duplicate  \n",
       "0  What is the step by step guide to invest in sh...             0  \n",
       "1  What would happen if the Indian government sto...             0  \n",
       "2  How can Internet speed be increased by hacking...             0  \n",
       "3  Find the remainder when [math]23^{24}[/math] i...             0  \n",
       "4            Which fish would survive in salt water?             0  "
      ]
     },
     "metadata": {},
     "output_type": "display_data"
    }
   ],
   "source": [
    "display(data.head(5))"
   ]
  },
  {
   "cell_type": "code",
   "execution_count": null,
   "metadata": {
    "collapsed": true
   },
   "outputs": [],
   "source": []
  },
  {
   "cell_type": "code",
   "execution_count": 4,
   "metadata": {},
   "outputs": [
    {
     "data": {
      "text/html": [
       "<div>\n",
       "<table border=\"1\" class=\"dataframe\">\n",
       "  <thead>\n",
       "    <tr style=\"text-align: right;\">\n",
       "      <th></th>\n",
       "      <th>id</th>\n",
       "      <th>qid1</th>\n",
       "      <th>qid2</th>\n",
       "      <th>question1</th>\n",
       "      <th>question2</th>\n",
       "      <th>is_duplicate</th>\n",
       "    </tr>\n",
       "  </thead>\n",
       "  <tbody>\n",
       "    <tr>\n",
       "      <th>290074</th>\n",
       "      <td>290074</td>\n",
       "      <td>3838</td>\n",
       "      <td>569951</td>\n",
       "      <td>Why do we sleep?</td>\n",
       "      <td>Do we need sleep?</td>\n",
       "      <td>1</td>\n",
       "    </tr>\n",
       "    <tr>\n",
       "      <th>398564</th>\n",
       "      <td>398564</td>\n",
       "      <td>3838</td>\n",
       "      <td>778740</td>\n",
       "      <td>Why do we sleep?</td>\n",
       "      <td>Why do we sleep during the night?</td>\n",
       "      <td>0</td>\n",
       "    </tr>\n",
       "  </tbody>\n",
       "</table>\n",
       "</div>"
      ],
      "text/plain": [
       "            id  qid1    qid2         question1  \\\n",
       "290074  290074  3838  569951  Why do we sleep?   \n",
       "398564  398564  3838  778740  Why do we sleep?   \n",
       "\n",
       "                                question2  is_duplicate  \n",
       "290074                  Do we need sleep?             1  \n",
       "398564  Why do we sleep during the night?             0  "
      ]
     },
     "metadata": {},
     "output_type": "display_data"
    },
    {
     "data": {
      "text/html": [
       "<div>\n",
       "<table border=\"1\" class=\"dataframe\">\n",
       "  <thead>\n",
       "    <tr style=\"text-align: right;\">\n",
       "      <th></th>\n",
       "      <th>id</th>\n",
       "      <th>qid1</th>\n",
       "      <th>qid2</th>\n",
       "      <th>question1</th>\n",
       "      <th>question2</th>\n",
       "      <th>is_duplicate</th>\n",
       "    </tr>\n",
       "  </thead>\n",
       "  <tbody>\n",
       "    <tr>\n",
       "      <th>1918</th>\n",
       "      <td>1918</td>\n",
       "      <td>3837</td>\n",
       "      <td>3838</td>\n",
       "      <td>How can I speed up my Internet connectionn?</td>\n",
       "      <td>How can I speed up my Internet connection?</td>\n",
       "      <td>1</td>\n",
       "    </tr>\n",
       "    <tr>\n",
       "      <th>145435</th>\n",
       "      <td>145435</td>\n",
       "      <td>287795</td>\n",
       "      <td>3838</td>\n",
       "      <td>Why do human beings sleep at night?</td>\n",
       "      <td>Why do we sleep?</td>\n",
       "      <td>0</td>\n",
       "    </tr>\n",
       "    <tr>\n",
       "      <th>208467</th>\n",
       "      <td>208467</td>\n",
       "      <td>411231</td>\n",
       "      <td>3838</td>\n",
       "      <td>Why don't we sleep when we are awake?</td>\n",
       "      <td>Why do we sleep?</td>\n",
       "      <td>0</td>\n",
       "    </tr>\n",
       "    <tr>\n",
       "      <th>220658</th>\n",
       "      <td>220658</td>\n",
       "      <td>434987</td>\n",
       "      <td>3838</td>\n",
       "      <td>Why do humans need sleep?</td>\n",
       "      <td>Why do we sleep?</td>\n",
       "      <td>1</td>\n",
       "    </tr>\n",
       "    <tr>\n",
       "      <th>233421</th>\n",
       "      <td>233421</td>\n",
       "      <td>459888</td>\n",
       "      <td>3838</td>\n",
       "      <td>Why do people need sleep?</td>\n",
       "      <td>Why do we sleep?</td>\n",
       "      <td>1</td>\n",
       "    </tr>\n",
       "    <tr>\n",
       "      <th>252417</th>\n",
       "      <td>252417</td>\n",
       "      <td>496927</td>\n",
       "      <td>3838</td>\n",
       "      <td>Does everything need sleep?</td>\n",
       "      <td>Why do we sleep?</td>\n",
       "      <td>0</td>\n",
       "    </tr>\n",
       "    <tr>\n",
       "      <th>331364</th>\n",
       "      <td>331364</td>\n",
       "      <td>649785</td>\n",
       "      <td>3838</td>\n",
       "      <td>How do Garmin devices measure deep sleep vs li...</td>\n",
       "      <td>Why do we sleep?</td>\n",
       "      <td>0</td>\n",
       "    </tr>\n",
       "    <tr>\n",
       "      <th>389707</th>\n",
       "      <td>389707</td>\n",
       "      <td>624662</td>\n",
       "      <td>3838</td>\n",
       "      <td>Does brushing teeth before bed improve sleep?</td>\n",
       "      <td>Why do we sleep?</td>\n",
       "      <td>0</td>\n",
       "    </tr>\n",
       "    <tr>\n",
       "      <th>403048</th>\n",
       "      <td>403048</td>\n",
       "      <td>787314</td>\n",
       "      <td>3838</td>\n",
       "      <td>Why do human need sleep?</td>\n",
       "      <td>Why do we sleep?</td>\n",
       "      <td>1</td>\n",
       "    </tr>\n",
       "  </tbody>\n",
       "</table>\n",
       "</div>"
      ],
      "text/plain": [
       "            id    qid1  qid2  \\\n",
       "1918      1918    3837  3838   \n",
       "145435  145435  287795  3838   \n",
       "208467  208467  411231  3838   \n",
       "220658  220658  434987  3838   \n",
       "233421  233421  459888  3838   \n",
       "252417  252417  496927  3838   \n",
       "331364  331364  649785  3838   \n",
       "389707  389707  624662  3838   \n",
       "403048  403048  787314  3838   \n",
       "\n",
       "                                                question1  \\\n",
       "1918          How can I speed up my Internet connectionn?   \n",
       "145435                Why do human beings sleep at night?   \n",
       "208467              Why don't we sleep when we are awake?   \n",
       "220658                          Why do humans need sleep?   \n",
       "233421                          Why do people need sleep?   \n",
       "252417                        Does everything need sleep?   \n",
       "331364  How do Garmin devices measure deep sleep vs li...   \n",
       "389707      Does brushing teeth before bed improve sleep?   \n",
       "403048                           Why do human need sleep?   \n",
       "\n",
       "                                         question2  is_duplicate  \n",
       "1918    How can I speed up my Internet connection?             1  \n",
       "145435                            Why do we sleep?             0  \n",
       "208467                            Why do we sleep?             0  \n",
       "220658                            Why do we sleep?             1  \n",
       "233421                            Why do we sleep?             1  \n",
       "252417                            Why do we sleep?             0  \n",
       "331364                            Why do we sleep?             0  \n",
       "389707                            Why do we sleep?             0  \n",
       "403048                            Why do we sleep?             1  "
      ]
     },
     "metadata": {},
     "output_type": "display_data"
    }
   ],
   "source": [
    "display(data[data[\"qid1\"] == 3838])\n",
    "display(data[data[\"qid2\"] == 3838])"
   ]
  },
  {
   "cell_type": "code",
   "execution_count": 5,
   "metadata": {
    "collapsed": true
   },
   "outputs": [],
   "source": [
    "file_directory = \"../output/data/\"\n",
    "prefix = \"tokenized_\"\n",
    "\n",
    "test_data = utility.load_pickle(file_directory, prefix+\"test_data.pkl\")\n",
    "test_preds = utility.load_pickle(file_directory, \"final_lstm_preds_on_val.pkl\")\n"
   ]
  },
  {
   "cell_type": "code",
   "execution_count": 7,
   "metadata": {
    "collapsed": true
   },
   "outputs": [],
   "source": [
    "file_directory = \"../output/data/\"\n",
    "model_directory = \"../output/models/\"\n",
    "\n",
    "prefix = \"tokenized_\"\n",
    "\n",
    "val_data = utility.load_pickle(file_directory, prefix+\"val_data.pkl\")\n",
    "val_features = utility.load_pickle(file_directory, \"val_features.pkl\")\n",
    "val_preds = utility.load_pickle(file_directory, \"lstm_preds_on_val.pkl\")\n",
    "xgboost = utility.load_pickle(model_directory, \"for_validation_xgboost.pkl\") \n",
    "xgboost_preds = xgboost.predict_proba(val_features)[:,1]"
   ]
  },
  {
   "cell_type": "code",
   "execution_count": 8,
   "metadata": {},
   "outputs": [
    {
     "name": "stdout",
     "output_type": "stream",
     "text": [
      "[ 0.04432398] 0.199927\n",
      "id                                                           2555\n",
      "qid1                                                         5110\n",
      "qid2                                                         5111\n",
      "question1                   How school teachers ought to help by?\n",
      "question2       I'm bad at math because of the way my high sch...\n",
      "is_duplicate                                                    0\n",
      "q1_tokens                          [school, teacher, ought, help]\n",
      "q2_tokens       [bad, math, way, high, school, teacher, teach,...\n",
      "Name: 2555, dtype: object\n",
      "How school teachers ought to help by?\n",
      "I'm bad at math because of the way my high school teachers teach me. Is there any way I can get better at math without the help of teachers?\n"
     ]
    }
   ],
   "source": [
    "num = 35544\n",
    "print val_preds[num], xgboost_preds[num]\n",
    "print val_data.iloc[num]\n",
    "print val_data.iloc[num][\"question1\"]\n",
    "print val_data.iloc[num][\"question2\"]"
   ]
  },
  {
   "cell_type": "code",
   "execution_count": 12,
   "metadata": {},
   "outputs": [
    {
     "name": "stdout",
     "output_type": "stream",
     "text": [
      "[ 0.  0.  0. ...,  0.  0.  0.]\n"
     ]
    }
   ],
   "source": []
  },
  {
   "cell_type": "code",
   "execution_count": 16,
   "metadata": {},
   "outputs": [
    {
     "name": "stdout",
     "output_type": "stream",
     "text": [
      "Validation scores for the benchmark model\n",
      " LogLoss: 12.7534\n",
      " Accuracy: 0.63 \n"
     ]
    }
   ],
   "source": [
    "from sklearn.metrics import log_loss, accuracy_score\n",
    "import numpy as np\n",
    "\n",
    "predictions = np.zeros(len(val_features))\n",
    "\n",
    "val_labels = utility.load_pickle(file_directory, \"val_labels.pkl\")\n",
    "\n",
    "#predictions = val_features[\"word_share\"]\n",
    "\n",
    "loss = log_loss(val_labels, predictions)\n",
    "acc = accuracy_score(val_labels, np.rint(predictions))\n",
    "\n",
    "print \"Validation scores for the benchmark model\\n LogLoss: {:.4f}\\n Accuracy: {:.2f} \".format(loss, acc)"
   ]
  },
  {
   "cell_type": "code",
   "execution_count": null,
   "metadata": {
    "collapsed": true
   },
   "outputs": [],
   "source": []
  }
 ],
 "metadata": {
  "kernelspec": {
   "display_name": "Python 2",
   "language": "python",
   "name": "python2"
  },
  "language_info": {
   "codemirror_mode": {
    "name": "ipython",
    "version": 2
   },
   "file_extension": ".py",
   "mimetype": "text/x-python",
   "name": "python",
   "nbconvert_exporter": "python",
   "pygments_lexer": "ipython2",
   "version": "2.7.13"
  }
 },
 "nbformat": 4,
 "nbformat_minor": 1
}

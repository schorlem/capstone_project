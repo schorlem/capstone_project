{
 "cells": [
  {
   "cell_type": "code",
   "execution_count": 1,
   "metadata": {
    "collapsed": true
   },
   "outputs": [],
   "source": [
    "import os\n",
    "import pickle\n",
    "import pandas as pd\n",
    "import numpy as np\n",
    "from itertools import cycle\n",
    "from sklearn.linear_model import LogisticRegression\n",
    "from sklearn.pipeline import Pipeline, FeatureUnion\n",
    "from sklearn.model_selection import cross_val_score, RandomizedSearchCV\n",
    "from sklearn.metrics import roc_curve, auc\n",
    "from sklearn.preprocessing import MinMaxScaler\n",
    "from scipy import interp\n",
    "import matplotlib.pyplot as plt\n",
    "from engarde.decorators import has_dtypes\n",
    "from capstone_project import preprocessor as pre\n",
    "\n",
    "#from IPython.display import display\n",
    "%matplotlib inline"
   ]
  },
  {
   "cell_type": "code",
   "execution_count": 2,
   "metadata": {
    "collapsed": true
   },
   "outputs": [],
   "source": [
    "# Make sure that the loaded dataframe has the correct layout otherwise throw assertion error \n",
    "@has_dtypes(dict(question1=object, question2=object, is_duplicate=int, q1_tokens=object, q2_tokens=object))\n",
    "def load_data(file_dir, filename):\n",
    "    \"\"\"Load dataframe using filename as input. A pandas dataframe is returned and it is checked that it \n",
    "    has the correct layout.\n",
    "    \"\"\"\n",
    "    df = pd.read_pickle(file_dir+filename)\n",
    "    return df"
   ]
  },
  {
   "cell_type": "code",
   "execution_count": 3,
   "metadata": {
    "collapsed": true
   },
   "outputs": [],
   "source": [
    "# The current working directory for python is the capstone_project/notebook folder\n",
    "file_directory = \"../output/data/\"\n",
    "prefix = \"\"\n",
    "\n",
    "train_data = load_data(file_directory, prefix+\"train_data.pkl\")\n",
    "y = train_data[\"is_duplicate\"].values"
   ]
  },
  {
   "cell_type": "code",
   "execution_count": 4,
   "metadata": {
    "collapsed": true
   },
   "outputs": [],
   "source": [
    "model_directory = \"../output/models/\"\n",
    "skf = pre.load_pickle(model_directory, \"kfolds.pkl\") "
   ]
  },
  {
   "cell_type": "code",
   "execution_count": 5,
   "metadata": {},
   "outputs": [
    {
     "data": {
      "text/html": [
       "<div>\n",
       "<table border=\"1\" class=\"dataframe\">\n",
       "  <thead>\n",
       "    <tr style=\"text-align: right;\">\n",
       "      <th></th>\n",
       "      <th>id</th>\n",
       "      <th>qid1</th>\n",
       "      <th>qid2</th>\n",
       "      <th>question1</th>\n",
       "      <th>question2</th>\n",
       "      <th>is_duplicate</th>\n",
       "      <th>q1_tokens</th>\n",
       "      <th>q2_tokens</th>\n",
       "    </tr>\n",
       "  </thead>\n",
       "  <tbody>\n",
       "    <tr>\n",
       "      <th>355802</th>\n",
       "      <td>355802</td>\n",
       "      <td>696825</td>\n",
       "      <td>696826</td>\n",
       "      <td>Which are the best songs of Enrique Iglesias?</td>\n",
       "      <td>Which is the best song of Enrique iglesias?</td>\n",
       "      <td>1</td>\n",
       "      <td>[best, song, enrique, iglesias]</td>\n",
       "      <td>[best, song, enrique, iglesias]</td>\n",
       "    </tr>\n",
       "    <tr>\n",
       "      <th>344874</th>\n",
       "      <td>344874</td>\n",
       "      <td>675864</td>\n",
       "      <td>675865</td>\n",
       "      <td>What is best way to invest $10,000?</td>\n",
       "      <td>How should I invest $10,000?</td>\n",
       "      <td>1</td>\n",
       "      <td>[best, way, invest, 10,000]</td>\n",
       "      <td>[invest, 10,000]</td>\n",
       "    </tr>\n",
       "    <tr>\n",
       "      <th>377862</th>\n",
       "      <td>377862</td>\n",
       "      <td>739105</td>\n",
       "      <td>739106</td>\n",
       "      <td>What are some ways to track a mobile number an...</td>\n",
       "      <td>How can one track a mobile number location?</td>\n",
       "      <td>1</td>\n",
       "      <td>[way, track, mobile, number, location]</td>\n",
       "      <td>[one, track, mobile, number, location]</td>\n",
       "    </tr>\n",
       "    <tr>\n",
       "      <th>62763</th>\n",
       "      <td>62763</td>\n",
       "      <td>124819</td>\n",
       "      <td>124820</td>\n",
       "      <td>Who is the smartest footballer in the world an...</td>\n",
       "      <td>Who is the all time best footballer?</td>\n",
       "      <td>0</td>\n",
       "      <td>[smart, footballer, world]</td>\n",
       "      <td>[time, best, footballer]</td>\n",
       "    </tr>\n",
       "    <tr>\n",
       "      <th>16614</th>\n",
       "      <td>16614</td>\n",
       "      <td>33158</td>\n",
       "      <td>33159</td>\n",
       "      <td>What are good gifts for a foreign visitor to b...</td>\n",
       "      <td>What are good gifts for a foreign visitor to b...</td>\n",
       "      <td>0</td>\n",
       "      <td>[good, gift, foreign, visitor, bring, 're, inv...</td>\n",
       "      <td>[good, gift, foreign, visitor, bring, 're, inv...</td>\n",
       "    </tr>\n",
       "  </tbody>\n",
       "</table>\n",
       "</div>"
      ],
      "text/plain": [
       "            id    qid1    qid2  \\\n",
       "355802  355802  696825  696826   \n",
       "344874  344874  675864  675865   \n",
       "377862  377862  739105  739106   \n",
       "62763    62763  124819  124820   \n",
       "16614    16614   33158   33159   \n",
       "\n",
       "                                                question1  \\\n",
       "355802      Which are the best songs of Enrique Iglesias?   \n",
       "344874                What is best way to invest $10,000?   \n",
       "377862  What are some ways to track a mobile number an...   \n",
       "62763   Who is the smartest footballer in the world an...   \n",
       "16614   What are good gifts for a foreign visitor to b...   \n",
       "\n",
       "                                                question2  is_duplicate  \\\n",
       "355802        Which is the best song of Enrique iglesias?             1   \n",
       "344874                       How should I invest $10,000?             1   \n",
       "377862        How can one track a mobile number location?             1   \n",
       "62763                Who is the all time best footballer?             0   \n",
       "16614   What are good gifts for a foreign visitor to b...             0   \n",
       "\n",
       "                                                q1_tokens  \\\n",
       "355802                    [best, song, enrique, iglesias]   \n",
       "344874                        [best, way, invest, 10,000]   \n",
       "377862             [way, track, mobile, number, location]   \n",
       "62763                          [smart, footballer, world]   \n",
       "16614   [good, gift, foreign, visitor, bring, 're, inv...   \n",
       "\n",
       "                                                q2_tokens  \n",
       "355802                    [best, song, enrique, iglesias]  \n",
       "344874                                   [invest, 10,000]  \n",
       "377862             [one, track, mobile, number, location]  \n",
       "62763                            [time, best, footballer]  \n",
       "16614   [good, gift, foreign, visitor, bring, 're, inv...  "
      ]
     },
     "execution_count": 5,
     "metadata": {},
     "output_type": "execute_result"
    }
   ],
   "source": [
    "train_data.head()"
   ]
  },
  {
   "cell_type": "code",
   "execution_count": 6,
   "metadata": {
    "collapsed": true
   },
   "outputs": [],
   "source": [
    "#tfidf = pre.TfidfTransformer()\n",
    "import gensim\n",
    "word2vec_model = gensim.models.KeyedVectors.load_word2vec_format(\"../data/GoogleNews-vectors-negative300.bin.gz\", binary=True)\n",
    "\n",
    "word_features = pre.FeatureTransformer()\n",
    "#word2vec_transform = pre.Word2vecTransformer(word2vec_model, sum_up=True)\n",
    "word2vec_transform = pre.Word2vecTransformer()\n",
    "word2vec_features = pre.VectorFeatureTransformer()\n",
    "mms = MinMaxScaler()\n",
    "clf = LogisticRegression()"
   ]
  },
  {
   "cell_type": "code",
   "execution_count": 7,
   "metadata": {},
   "outputs": [],
   "source": [
    "#pipeline with vectorization can't be saved because it is too large thats why it is created here\n",
    "train_data[\"q1_vecsum\"] = train_data[\"q1_tokens\"].apply(lambda x: pre.question_to_vector(x, model=word2vec_model)).apply(pre.sum_vectors)\n",
    "train_data[\"q2_vecsum\"] = train_data[\"q2_tokens\"].apply(lambda x: pre.question_to_vector(x, model=word2vec_model)).apply(pre.sum_vectors)"
   ]
  },
  {
   "cell_type": "code",
   "execution_count": 8,
   "metadata": {},
   "outputs": [
    {
     "name": "stdout",
     "output_type": "stream",
     "text": [
      "['features', 'scaling__feature_range', 'features__word2vec_features', 'logistic__C', 'features__word_features', 'features__n_jobs', 'logistic__max_iter', 'logistic__tol', 'logistic__dual', 'logistic__fit_intercept', 'scaling__copy', 'features__transformer_weights', 'logistic__multi_class', 'features__transformer_list', 'logistic__penalty', 'logistic__solver', 'scaling', 'logistic__random_state', 'logistic__intercept_scaling', 'logistic__verbose', 'logistic__n_jobs', 'logistic__warm_start', 'steps', 'logistic__class_weight', 'logistic']\n"
     ]
    }
   ],
   "source": [
    "\n",
    "\n",
    "#feature_creator = FeatureUnion([('feature_engineering', feature_engineering), ('tfidf', tfidf)])\n",
    "#pipe = Pipeline([(\"features\", feature_creator), (\"logistic\", clf)])\n",
    "\n",
    "#word2vec_pipe = Pipeline([(\"vec_transformer\", word2vec_transform), (\"vec_features\", word2vec_features)])\n",
    "#feature_creator = FeatureUnion([('word_features', word_features), ('word2vec_pipeline', word2vec_pipe)])\n",
    "feature_creator = FeatureUnion([('word_features', word_features), ('word2vec_features', word2vec_features)])\n",
    "pipe = Pipeline([(\"features\", feature_creator), (\"scaling\", mms), (\"logistic\", clf)])\n",
    "\n",
    "print pipe.get_params().keys()"
   ]
  },
  {
   "cell_type": "code",
   "execution_count": 9,
   "metadata": {
    "collapsed": true
   },
   "outputs": [],
   "source": [
    "#word2vec_pipe.fit(train_data, y)\n",
    "#test = feature_creator.fit_transform(train_data, y) \n",
    "#fit_params = {\"features__vectransform__model\": word2vec_model}\n",
    "#pipe.fit(train_data, y, **fit_params)"
   ]
  },
  {
   "cell_type": "code",
   "execution_count": 10,
   "metadata": {
    "collapsed": true
   },
   "outputs": [],
   "source": [
    "#http://scikit-learn.org/stable/auto_examples/model_selection/randomized_search.html\n",
    "# Utility function to report best scores\n",
    "def report(results, n_top=3):\n",
    "    for i in range(1, n_top + 1):\n",
    "        candidates = np.flatnonzero(results['rank_test_score'] == i)\n",
    "        for candidate in candidates:\n",
    "            print(\"Model with rank: {0}\".format(i))\n",
    "            print(\"Mean validation score: {0:.3f} (std: {1:.3f})\".format(\n",
    "                  results['mean_test_score'][candidate],\n",
    "                  results['std_test_score'][candidate]))\n",
    "            print(\"Parameters: {0}\".format(results['params'][candidate]))\n",
    "            print(\"\")"
   ]
  },
  {
   "cell_type": "code",
   "execution_count": 12,
   "metadata": {},
   "outputs": [
    {
     "name": "stdout",
     "output_type": "stream",
     "text": [
      "['n_jobs', 'verbose', 'estimator__logistic__n_jobs', 'estimator__features__n_jobs', 'estimator__logistic__max_iter', 'estimator__steps', 'estimator__logistic__intercept_scaling', 'estimator__features__word2vec_features', 'estimator__scaling__feature_range', 'cv', 'scoring', 'estimator__logistic__penalty', 'estimator__logistic__fit_intercept', 'random_state', 'estimator__logistic__solver', 'pre_dispatch', 'estimator__logistic__tol', 'estimator__scaling__copy', 'estimator__logistic__multi_class', 'param_distributions', 'estimator__features__transformer_list', 'estimator__features__transformer_weights', 'n_iter', 'fit_params', 'estimator__logistic__verbose', 'refit', 'iid', 'estimator__logistic__C', 'estimator__logistic__random_state', 'estimator__logistic__warm_start', 'estimator__features__word_features', 'estimator__logistic__class_weight', 'return_train_score', 'estimator__scaling', 'estimator__features', 'estimator', 'error_score', 'estimator__logistic', 'estimator__logistic__dual']\n"
     ]
    },
    {
     "name": "stderr",
     "output_type": "stream",
     "text": [
      "/home/andre/software/anaconda3/envs/capstone_project/lib/python2.7/site-packages/scipy/spatial/distance.py:505: RuntimeWarning: invalid value encountered in double_scalars\n",
      "  dist = 1.0 - np.dot(u, v) / (norm(u) * norm(v))\n",
      "/home/andre/software/anaconda3/envs/capstone_project/lib/python2.7/site-packages/scipy/spatial/distance.py:616: RuntimeWarning: invalid value encountered in double_scalars\n",
      "  np.double(np.bitwise_or(u != 0, v != 0).sum()))\n",
      "/home/andre/software/anaconda3/envs/capstone_project/lib/python2.7/site-packages/scipy/spatial/distance.py:810: RuntimeWarning: invalid value encountered in double_scalars\n",
      "  return abs(u - v).sum() / abs(u + v).sum()\n"
     ]
    },
    {
     "name": "stdout",
     "output_type": "stream",
     "text": [
      "RandomizedSearchCV took 6470.10 seconds for 3 candidates parameter settings.\n",
      "Model with rank: 1\n",
      "Mean validation score: -0.525 (std: 0.001)\n",
      "Parameters: {'logistic__C': 9.4699673274073994}\n",
      "\n",
      "Model with rank: 2\n",
      "Mean validation score: -0.525 (std: 0.001)\n",
      "Parameters: {'logistic__C': 9.6739790149246296}\n",
      "\n",
      "Model with rank: 3\n",
      "Mean validation score: -0.525 (std: 0.001)\n",
      "Parameters: {'logistic__C': 4.3501999107032709}\n",
      "\n"
     ]
    }
   ],
   "source": [
    "from scipy.stats import uniform\n",
    "from time import time\n",
    "\n",
    "\n",
    "#print cross_val_score(pipe, X, y, scoring=\"neg_log_loss\", cv=skf)\n",
    "#print cross_val_score(pipe, X, y, scoring=\"accuracy\", cv=skf)\n",
    "\n",
    "param_dist = {\"estimator__logistic__C\": uniform(3, 8)}\n",
    "n_iter_search = 3\n",
    "random_search = RandomizedSearchCV(pipe, param_distributions=param_dist, n_iter=n_iter_search, cv=skf, scoring=\"neg_log_loss\")\n",
    "\n",
    "print random_search.get_params().keys()\n",
    "\n",
    "#initial_params = {\"estimator__features__word2vec_pipeline__vec_transformer__sum_up\": True, \n",
    "#                  \"estimator__features__word2vec_pipeline__vec_transformer__model\": word2vec_model}\n",
    "#random_search.set_params(**initial_params) \n",
    "    \n",
    "start = time()\n",
    "random_search.fit(train_data, y)\n",
    "print(\"RandomizedSearchCV took %.2f seconds for %d candidates\"\n",
    "      \" parameter settings.\" % ((time() - start), n_iter_search))\n",
    "report(random_search.cv_results_)  \n",
    "\n",
    "#for train_index, test_index in skf.split(X, y):\n",
    "    #print(\"TRAIN:\", train_index, \"TEST:\", test_index)\n",
    "    #X_train, X_test = X.iloc[train_index], X.iloc[test_index]\n",
    "    #y_train, y_test = y[train_index], y[test_index]"
   ]
  },
  {
   "cell_type": "code",
   "execution_count": 14,
   "metadata": {},
   "outputs": [],
   "source": [
    "prefix = \"second_test_\"\n",
    "\n",
    "pre.save_pickle(random_search, model_directory, prefix+\"logistic_search.pkl\") \n",
    "pre.save_pickle(pipe, model_directory, prefix+\"logistic_pipeline.pkl\") "
   ]
  },
  {
   "cell_type": "code",
   "execution_count": 16,
   "metadata": {},
   "outputs": [],
   "source": [
    "prefix = \"first_test_\"\n",
    "\n",
    "random_search = pre.load_pickle(model_directory, prefix+\"logistic_search.pkl\")\n",
    "pipe = pre.load_pickle(model_directory, prefix+\"logistic_pipeline.pkl\")"
   ]
  },
  {
   "cell_type": "code",
   "execution_count": 18,
   "metadata": {},
   "outputs": [
    {
     "name": "stdout",
     "output_type": "stream",
     "text": [
      "Pipeline(steps=[('features', FeatureTransformer()), ('logistic', LogisticRegression(C=4.7351262569129968, class_weight=None, dual=False,\n",
      "          fit_intercept=True, intercept_scaling=1, max_iter=100,\n",
      "          multi_class='ovr', n_jobs=1, penalty='l2', random_state=None,\n",
      "          solver='liblinear', tol=0.0001, verbose=0, warm_start=False))])\n"
     ]
    }
   ],
   "source": [
    "best_pipe = random_search.best_estimator_\n",
    "print best_pipe\n",
    "print best_pipe.predict_proba(train_data.iloc[test_index])"
   ]
  },
  {
   "cell_type": "code",
   "execution_count": null,
   "metadata": {},
   "outputs": [],
   "source": [
    "#http://scikit-learn.org/stable/auto_examples/model_selection/plot_roc_crossval.html\n",
    "\n",
    "best_pipe = random_search.best_estimator_\n",
    "\n",
    "mean_tpr = 0.0\n",
    "mean_fpr = np.linspace(0, 1, 100)\n",
    "\n",
    "colors = cycle(['cyan', 'indigo', 'seagreen'])\n",
    "lw = 2\n",
    "\n",
    "accs = []\n",
    "i = 0\n",
    "for (train_index, test_index), color in zip(skf.split(train_data, y), colors):\n",
    "    pred = best_pipe.fit(train_data.iloc[train_index], y[train_index]).predict_proba(train_data.iloc[test_index])\n",
    "    fpr, tpr, thresholds = roc_curve(y[test_index], pred[:, 1])\n",
    "    mean_tpr += interp(mean_fpr, fpr, tpr)\n",
    "    mean_tpr[0] = 0.0\n",
    "    roc_auc = auc(fpr, tpr)\n",
    "    plt.plot(fpr, tpr, lw=lw, color=color,\n",
    "             label='ROC fold %d (area = %0.2f)' % (i, roc_auc))\n",
    "    \n",
    "    acc = best_pipe.score(train_data.iloc[test_index], y[test_index])\n",
    "    accs.append(acc)\n",
    "    print \"ROC fold {} accuracy: {:.4f}\".format(i, acc)\n",
    "    i += 1\n",
    "    \n",
    "print \"Mean accuracy: {:.4f} (std: {:.4f})\".format(np.mean(accs), np.std(accs))\n",
    "plt.plot([0, 1], [0, 1], linestyle='--', lw=lw, color='k',\n",
    "         label='Luck')\n",
    "\n",
    "mean_tpr /= skf.get_n_splits(train_data, y)\n",
    "mean_tpr[-1] = 1.0\n",
    "mean_auc = auc(mean_fpr, mean_tpr)\n",
    "plt.plot(mean_fpr, mean_tpr, color='g', linestyle='--',\n",
    "         label='Mean ROC (area = %0.2f)' % mean_auc, lw=lw)\n",
    "\n",
    "plt.xlim([-0.05, 1.05])\n",
    "plt.ylim([-0.05, 1.05])\n",
    "plt.xlabel('False Positive Rate')\n",
    "plt.ylabel('True Positive Rate')\n",
    "plt.title('Receiver operating characteristic example')\n",
    "plt.legend(loc=\"lower right\")\n",
    "plt.show()"
   ]
  },
  {
   "cell_type": "code",
   "execution_count": null,
   "metadata": {
    "collapsed": true
   },
   "outputs": [],
   "source": []
  },
  {
   "cell_type": "code",
   "execution_count": null,
   "metadata": {
    "collapsed": true
   },
   "outputs": [],
   "source": []
  }
 ],
 "metadata": {
  "kernelspec": {
   "display_name": "Python 2",
   "language": "python",
   "name": "python2"
  },
  "language_info": {
   "codemirror_mode": {
    "name": "ipython",
    "version": 2
   },
   "file_extension": ".py",
   "mimetype": "text/x-python",
   "name": "python",
   "nbconvert_exporter": "python",
   "pygments_lexer": "ipython2",
   "version": "2.7.13"
  }
 },
 "nbformat": 4,
 "nbformat_minor": 2
}
